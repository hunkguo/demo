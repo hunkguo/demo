{
 "cells": [
  {
   "cell_type": "code",
   "execution_count": 1,
   "metadata": {},
   "outputs": [],
   "source": [
    "# -*- coding:utf-8 -*-\n",
    "'''\n",
    "Created on 2019/05/12\n",
    "@author: Hunk Guo\n",
    "'''\n",
    "import datetime,time\n",
    "import tushare as ts\n",
    "import numpy as np\n",
    "import pandas as pd\n",
    "from utils import getTushareDate\n"
   ]
  },
  {
   "cell_type": "code",
   "execution_count": 3,
   "metadata": {},
   "outputs": [
    {
     "data": {
      "text/html": [
       "<div>\n",
       "<style scoped>\n",
       "    .dataframe tbody tr th:only-of-type {\n",
       "        vertical-align: middle;\n",
       "    }\n",
       "\n",
       "    .dataframe tbody tr th {\n",
       "        vertical-align: top;\n",
       "    }\n",
       "\n",
       "    .dataframe thead th {\n",
       "        text-align: right;\n",
       "    }\n",
       "</style>\n",
       "<table border=\"1\" class=\"dataframe\">\n",
       "  <thead>\n",
       "    <tr style=\"text-align: right;\">\n",
       "      <th></th>\n",
       "      <th>name</th>\n",
       "      <th>open</th>\n",
       "      <th>pre_close</th>\n",
       "      <th>price</th>\n",
       "      <th>high</th>\n",
       "      <th>low</th>\n",
       "      <th>bid</th>\n",
       "      <th>ask</th>\n",
       "      <th>volume</th>\n",
       "      <th>amount</th>\n",
       "      <th>...</th>\n",
       "      <th>a2_p</th>\n",
       "      <th>a3_v</th>\n",
       "      <th>a3_p</th>\n",
       "      <th>a4_v</th>\n",
       "      <th>a4_p</th>\n",
       "      <th>a5_v</th>\n",
       "      <th>a5_p</th>\n",
       "      <th>date</th>\n",
       "      <th>time</th>\n",
       "      <th>code</th>\n",
       "    </tr>\n",
       "  </thead>\n",
       "  <tbody>\n",
       "    <tr>\n",
       "      <th>0</th>\n",
       "      <td>威孚高科</td>\n",
       "      <td>24.480</td>\n",
       "      <td>24.480</td>\n",
       "      <td>24.260</td>\n",
       "      <td>24.700</td>\n",
       "      <td>23.810</td>\n",
       "      <td>24.250</td>\n",
       "      <td>24.260</td>\n",
       "      <td>11150881</td>\n",
       "      <td>269648147.750</td>\n",
       "      <td>...</td>\n",
       "      <td>24.270</td>\n",
       "      <td>839</td>\n",
       "      <td>24.280</td>\n",
       "      <td>14</td>\n",
       "      <td>24.290</td>\n",
       "      <td>147</td>\n",
       "      <td>24.300</td>\n",
       "      <td>2021-01-15</td>\n",
       "      <td>15:00:03</td>\n",
       "      <td>000581</td>\n",
       "    </tr>\n",
       "  </tbody>\n",
       "</table>\n",
       "<p>1 rows × 33 columns</p>\n",
       "</div>"
      ],
      "text/plain": [
       "   name    open pre_close   price    high     low     bid     ask    volume  \\\n",
       "0  威孚高科  24.480    24.480  24.260  24.700  23.810  24.250  24.260  11150881   \n",
       "\n",
       "          amount  ...    a2_p a3_v    a3_p a4_v    a4_p a5_v    a5_p  \\\n",
       "0  269648147.750  ...  24.270  839  24.280   14  24.290  147  24.300   \n",
       "\n",
       "         date      time    code  \n",
       "0  2021-01-15  15:00:03  000581  \n",
       "\n",
       "[1 rows x 33 columns]"
      ]
     },
     "execution_count": 3,
     "metadata": {},
     "output_type": "execute_result"
    }
   ],
   "source": [
    "pro = ts.pro_api('d94b8d1af9f3110dca7acf2e85b4bf10b7d33de74491de8f671c4b8b')\n",
    "\n",
    "df = ts.get_realtime_quotes('000581') #Single stock symbol\n",
    "df"
   ]
  },
  {
   "cell_type": "code",
   "execution_count": null,
   "metadata": {},
   "outputs": [],
   "source": []
  }
 ],
 "metadata": {
  "kernelspec": {
   "display_name": "Python 3",
   "language": "python",
   "name": "python3"
  },
  "language_info": {
   "codemirror_mode": {
    "name": "ipython",
    "version": 3
   },
   "file_extension": ".py",
   "mimetype": "text/x-python",
   "name": "python",
   "nbconvert_exporter": "python",
   "pygments_lexer": "ipython3",
   "version": "3.7.7"
  }
 },
 "nbformat": 4,
 "nbformat_minor": 4
}
