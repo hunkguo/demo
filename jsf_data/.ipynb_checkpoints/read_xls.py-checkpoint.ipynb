{
 "cells": [
  {
   "cell_type": "code",
   "execution_count": 54,
   "metadata": {
    "scrolled": false
   },
   "outputs": [
    {
     "name": "stdout",
     "output_type": "stream",
     "text": [
      "0      75553.0\n",
      "1      77574.0\n",
      "2      68985.0\n",
      "3      76227.0\n",
      "4      76685.0\n",
      "        ...   \n",
      "131    73662.0\n",
      "132    76349.0\n",
      "133    75553.0\n",
      "134    73769.0\n",
      "135    73424.0\n",
      "Name: 土地出让金金额, Length: 136, dtype: float64\n"
     ]
    }
   ],
   "source": [
    "# 导入pandas包\n",
    "import pandas as pd\n",
    "import numpy as np\n",
    "\n",
    "#导入标题行\n",
    "cols = pd.read_excel('龙祥总表.xlsx', engine=\"openpyxl\", header=None,nrows=2).values[1] # read first row\n",
    "\n",
    "df = pd.read_excel('龙祥总表.xlsx', engine=\"openpyxl\", header=None, skiprows=2) # skip 1 row\n",
    "\n",
    "#赋值标题\n",
    "df.columns = cols\n",
    "\n",
    "#删除NA数据\n",
    "df.dropna(inplace=True)\n",
    "#或者\n",
    "#df = df.dropna(axis=0,how='any')\n",
    "\n",
    "\n",
    "# 显示前10行数据\n",
    "print(df[\"土地出让金金额\"])\n",
    "\n"
   ]
  },
  {
   "cell_type": "markdown",
   "metadata": {},
   "source": [
    "导入财政局不动产数据"
   ]
  },
  {
   "cell_type": "code",
   "execution_count": null,
   "metadata": {},
   "outputs": [],
   "source": []
  },
  {
   "cell_type": "code",
   "execution_count": null,
   "metadata": {},
   "outputs": [],
   "source": []
  }
 ],
 "metadata": {
  "kernelspec": {
   "display_name": "Python 3",
   "language": "python",
   "name": "python3"
  },
  "language_info": {
   "codemirror_mode": {
    "name": "ipython",
    "version": 3
   },
   "file_extension": ".py",
   "mimetype": "text/x-python",
   "name": "python",
   "nbconvert_exporter": "python",
   "pygments_lexer": "ipython3",
   "version": "3.7.7"
  }
 },
 "nbformat": 4,
 "nbformat_minor": 4
}
