{
 "cells": [
  {
   "cell_type": "code",
   "execution_count": 1,
   "metadata": {},
   "outputs": [
    {
     "ename": "ModuleNotFoundError",
     "evalue": "No module named 'dlib'",
     "output_type": "error",
     "traceback": [
      "\u001b[0;31m---------------------------------------------------------------------------\u001b[0m",
      "\u001b[0;31mModuleNotFoundError\u001b[0m                       Traceback (most recent call last)",
      "\u001b[0;32m<ipython-input-1-113c6928fa45>\u001b[0m in \u001b[0;36m<module>\u001b[0;34m\u001b[0m\n\u001b[1;32m      4\u001b[0m \u001b[0;32mimport\u001b[0m \u001b[0mcv2\u001b[0m\u001b[0;34m\u001b[0m\u001b[0;34m\u001b[0m\u001b[0m\n\u001b[1;32m      5\u001b[0m \u001b[0;32mimport\u001b[0m \u001b[0mmatplotlib\u001b[0m\u001b[0;34m.\u001b[0m\u001b[0mpyplot\u001b[0m \u001b[0;32mas\u001b[0m \u001b[0mplt\u001b[0m\u001b[0;34m\u001b[0m\u001b[0;34m\u001b[0m\u001b[0m\n\u001b[0;32m----> 6\u001b[0;31m \u001b[0;32mimport\u001b[0m \u001b[0mdlib\u001b[0m\u001b[0;34m\u001b[0m\u001b[0;34m\u001b[0m\u001b[0m\n\u001b[0m\u001b[1;32m      7\u001b[0m \u001b[0;32mimport\u001b[0m \u001b[0mmatplotlib\u001b[0m\u001b[0;34m.\u001b[0m\u001b[0mpatches\u001b[0m \u001b[0;32mas\u001b[0m \u001b[0mmpatches\u001b[0m\u001b[0;34m\u001b[0m\u001b[0;34m\u001b[0m\u001b[0m\n\u001b[1;32m      8\u001b[0m \u001b[0;32mfrom\u001b[0m \u001b[0mskimage\u001b[0m \u001b[0;32mimport\u001b[0m \u001b[0mio\u001b[0m\u001b[0;34m,\u001b[0m\u001b[0mdraw\u001b[0m\u001b[0;34m,\u001b[0m\u001b[0mtransform\u001b[0m\u001b[0;34m,\u001b[0m\u001b[0mcolor\u001b[0m\u001b[0;34m\u001b[0m\u001b[0;34m\u001b[0m\u001b[0m\n",
      "\u001b[0;31mModuleNotFoundError\u001b[0m: No module named 'dlib'"
     ]
    }
   ],
   "source": [
    "%matplotlib inline\n",
    "%config InlineBackend.figure_format = 'retina'\n",
    "import pytesseract\n",
    "import cv2\n",
    "import matplotlib.pyplot as plt\n",
    "import dlib\n",
    "import matplotlib.patches as mpatches\n",
    "from skimage import io,draw,transform,color\n",
    "import numpy as np\n",
    "import pandas as pd\n",
    "import re\n",
    "\n"
   ]
  },
  {
   "cell_type": "markdown",
   "metadata": {},
   "source": [
    "针对所需要识别的身份证照片，可能会存在身份证图像倾斜的情况，所以要对照片进行旋转修正。主要通过dlib库识别人脸，找到人脸眼睛特征点，计算眼睛的倾斜角度，然后对照片进行旋转。"
   ]
  },
  {
   "cell_type": "code",
   "execution_count": null,
   "metadata": {},
   "outputs": [],
   "source": [
    "\n",
    "## 使用dlib.get_frontal_face_detector识别人脸\n",
    "detector = dlib.get_frontal_face_detector()\n",
    "image = io.imread(\"24-1305301G146.jpg\")\n",
    "dets = detector(image, 2) #使用detector进行人脸检测 dets为返回的结果\n",
    "## 将识别的图像可视化\n",
    "plt.figure()\n",
    "ax = plt.subplot(111)\n",
    "ax.imshow(image)\n",
    "plt.axis(\"off\")\n",
    "for i, face in enumerate(dets):\n",
    "    # 在图片中标注人脸，并显示\n",
    "    left = face.left()\n",
    "    top = face.top()\n",
    "    right = face.right()\n",
    "    bottom = face.bottom()\n",
    "    rect = mpatches.Rectangle((left,bottom), right - left, top - bottom,\n",
    "                                  fill=False, edgecolor='red', linewidth=1)\n",
    "    ax.add_patch(rect)\n",
    "plt.show()"
   ]
  },
  {
   "cell_type": "markdown",
   "metadata": {},
   "source": [
    "找到人脸后，寻找眼睛特征点："
   ]
  },
  {
   "cell_type": "code",
   "execution_count": null,
   "metadata": {},
   "outputs": [],
   "source": [
    "## 检测人脸的眼睛所在位置\n",
    "predictor = dlib.shape_predictor(\"shape_predictor_5_face_landmarks.dat\")\n",
    "detected_landmarks = predictor(image, dets[0]).parts()\n",
    "landmarks = np.array([[p.x, p.y] for p in detected_landmarks])\n",
    "## 将眼睛位置可视化\n",
    "plt.figure()\n",
    "ax = plt.subplot(111)\n",
    "ax.imshow(image)\n",
    "plt.axis(\"off\")\n",
    "plt.plot(landmarks[0:4,0],landmarks[0:4,1],'ro')\n",
    "for ii in np.arange(4):\n",
    "    plt.text(landmarks[ii,0]-10,landmarks[ii,1]-15,ii)\n",
    "plt.show()"
   ]
  },
  {
   "cell_type": "markdown",
   "metadata": {},
   "source": [
    "可以发现有四个特征点被找到，计算特征点之间逆时针旋转的倾斜角度："
   ]
  },
  {
   "cell_type": "code",
   "execution_count": null,
   "metadata": {},
   "outputs": [],
   "source": [
    "## 计算眼睛的倾斜角度,逆时针角度\n",
    "def twopointcor(point1,point2):\n",
    "    \"\"\"point1 = (x1,y1),point2 = (x2,y2)\"\"\"\n",
    "    deltxy = point2 - point1\n",
    "    corner = np.arctan(deltxy[1] / deltxy[0]) * 180 / np.pi\n",
    "    return corner\n",
    "\n",
    "## 计算多个角度求均值\n",
    "corner10 =  twopointcor(landmarks[1,:],landmarks[0,:])\n",
    "corner23 =  twopointcor(landmarks[3,:],landmarks[2,:])\n",
    "corner20 =  twopointcor(landmarks[2,:],landmarks[0,:])\n",
    "corner = np.mean([corner10,corner23,corner20])\n",
    "print(corner10)\n",
    "print(corner23)\n",
    "print(corner20)\n",
    "print(corner)\n",
    "\n",
    "-9.865806943084369\n",
    "-7.765166018425334\n",
    "-10.049348588124873\n",
    "-9.226773849878192"
   ]
  },
  {
   "cell_type": "markdown",
   "metadata": {},
   "source": [
    "经过验证，计算第2个和第0个特征点的倾斜较合适。"
   ]
  },
  {
   "cell_type": "code",
   "execution_count": null,
   "metadata": {},
   "outputs": [],
   "source": [
    "## 计算图像的身份证倾斜的角度\n",
    "def IDcorner(landmarks):\n",
    "    \"\"\"landmarks:检测的人脸5个特征点\n",
    "       经过测试使用第0个和第2个特征点计算角度较合适\n",
    "    \"\"\"\n",
    "    corner20 =  twopointcor(landmarks[2,:],landmarks[0,:])\n",
    "    corner = np.mean([corner20])\n",
    "    return corner\n",
    "corner = IDcorner(landmarks)\n",
    "print(corner)\n",
    "\n",
    "\n",
    "-10.049348588124873"
   ]
  },
  {
   "cell_type": "markdown",
   "metadata": {},
   "source": [
    "接下来是将照片旋转："
   ]
  },
  {
   "cell_type": "code",
   "execution_count": null,
   "metadata": {},
   "outputs": [],
   "source": [
    "\n",
    "\n",
    "## 将照片转正 \n",
    "def rotateIdcard(image):\n",
    "    \"image :需要处理的图像\"\n",
    "    ## 使用dlib.get_frontal_face_detector识别人脸\n",
    "    detector = dlib.get_frontal_face_detector()\n",
    "    dets = detector(image, 2) #使用detector进行人脸检测 dets为返回的结果\n",
    "    ## 检测人脸的眼睛所在位置\n",
    "    predictor = dlib.shape_predictor(\"shape_predictor_5_face_landmarks.dat\")\n",
    "    detected_landmarks = predictor(image, dets[0]).parts()\n",
    "    landmarks = np.array([[p.x, p.y] for p in detected_landmarks])\n",
    "    corner = IDcorner(landmarks)\n",
    "    ## 旋转后的图像\n",
    "    image2 = transform.rotate(image,corner,clip=False)\n",
    "    image2 = np.uint8(image2*255)\n",
    "    ## 旋转后人脸位置\n",
    "    det = detector(image2, 2)\n",
    "    return image2,det"
   ]
  },
  {
   "cell_type": "markdown",
   "metadata": {},
   "source": [
    "定义好函数后，下面开始调用，并可视化结果："
   ]
  },
  {
   "cell_type": "code",
   "execution_count": null,
   "metadata": {},
   "outputs": [],
   "source": [
    "\n",
    "\n",
    "## 转正身份证：\n",
    "image = io.imread(\"奥巴马2.jpeg\")\n",
    "image2,dets = rotateIdcard(image)\n",
    "\n",
    "## 可视化修正后的结果\n",
    "plt.figure()\n",
    "ax = plt.subplot(111)\n",
    "ax.imshow(image2)\n",
    "plt.axis(\"off\")\n",
    "# 在图片中标注人脸，并显示\n",
    "left = dets[0].left()\n",
    "top = dets[0].top()\n",
    "right = dets[0].right()\n",
    "bottom = dets[0].bottom()\n",
    "rect = mpatches.Rectangle((left,bottom), (right - left), (top - bottom),\n",
    "                          fill=False, edgecolor='red', linewidth=1)\n",
    "ax.add_patch(rect)\n",
    "\n",
    "## 照片的位置（不怎么精确）\n",
    "width = right - left\n",
    "high = top - bottom\n",
    "left2 = np.uint(left - 0.3*width)\n",
    "bottom2 = np.uint(bottom + 0.4*width)\n",
    "rect = mpatches.Rectangle((left2,bottom2), 1.6*width, 1.8*high,\n",
    "                          fill=False, edgecolor='blue', linewidth=1)\n",
    "ax.add_patch(rect)\n",
    "plt.show()"
   ]
  },
  {
   "cell_type": "markdown",
   "metadata": {},
   "source": [
    "提取照片上的头像："
   ]
  },
  {
   "cell_type": "code",
   "execution_count": null,
   "metadata": {},
   "outputs": [],
   "source": [
    "\n",
    "\n",
    "## 身份证上人的照片\n",
    "top2 = np.uint(bottom2+1.8*high)\n",
    "right2 = np.uint(left2+1.6*width)\n",
    "image3 = image2[top2:bottom2,left2:right2,:]\n",
    "plt.imshow(image3)\n",
    "plt.axis(\"off\")\n",
    "plt.show()"
   ]
  }
 ],
 "metadata": {
  "kernelspec": {
   "display_name": "Python 3",
   "language": "python",
   "name": "python3"
  },
  "language_info": {
   "codemirror_mode": {
    "name": "ipython",
    "version": 3
   },
   "file_extension": ".py",
   "mimetype": "text/x-python",
   "name": "python",
   "nbconvert_exporter": "python",
   "pygments_lexer": "ipython3",
   "version": "3.7.7"
  }
 },
 "nbformat": 4,
 "nbformat_minor": 4
}
