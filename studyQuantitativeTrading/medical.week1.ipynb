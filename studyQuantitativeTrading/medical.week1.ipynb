{
 "cells": [
  {
   "cell_type": "code",
   "execution_count": 1,
   "metadata": {},
   "outputs": [],
   "source": [
    "HEAD_PATH = \"/home/hunk/workspaces/demo/studyQuantitativeTrading/intern\""
   ]
  },
  {
   "cell_type": "code",
   "execution_count": 2,
   "metadata": {},
   "outputs": [],
   "source": [
    "import warnings\n",
    " \n",
    "warnings.filterwarnings('ignore')"
   ]
  },
  {
   "cell_type": "markdown",
   "metadata": {},
   "source": [
    "- path of data"
   ]
  },
  {
   "cell_type": "markdown",
   "metadata": {},
   "source": [
    "- Welcome to Quantitative and High Frequency Trading Training Program\n",
    "- Let's start with basic data analysis with python\n",
    "- you can use Shift+Enter to run each line of code\n",
    "\n",
    "- path of our program"
   ]
  },
  {
   "cell_type": "code",
   "execution_count": 3,
   "metadata": {},
   "outputs": [],
   "source": [
    "DATA_PATH = HEAD_PATH + \"/stock pkl/\""
   ]
  },
  {
   "cell_type": "markdown",
   "metadata": {},
   "source": [
    "- set working directory"
   ]
  },
  {
   "cell_type": "code",
   "execution_count": 4,
   "metadata": {},
   "outputs": [],
   "source": [
    "import os\n",
    "os.chdir(DATA_PATH)"
   ]
  },
  {
   "cell_type": "markdown",
   "metadata": {},
   "source": [
    "- number of cores"
   ]
  },
  {
   "cell_type": "code",
   "execution_count": 5,
   "metadata": {},
   "outputs": [
    {
     "data": {
      "text/plain": [
       "4"
      ]
     },
     "execution_count": 5,
     "metadata": {},
     "output_type": "execute_result"
    }
   ],
   "source": [
    "#CORE_NUM = int(os.environ['NUMBER_OF_PROCESSORS'])\n",
    "#CORE_NUM\n",
    "#兼容\n",
    "def ncpus():\n",
    "    #for Linux, Unix and MacOS\n",
    "    if hasattr(os, \"sysconf\"):\n",
    "        if \"SC_NPROCESSORS_ONLN\" in os.sysconf_names:\n",
    "            #Linux and Unix\n",
    "            ncpus = os.sysconf(\"SC_NPROCESSORS_ONLN\")\n",
    "            if isinstance(ncpus, int) and ncpus > 0:\n",
    "                return ncpus\n",
    "        else:\n",
    "            #MacOS X\n",
    "            return int(os.popen2(\"sysctl -n hw.ncpu\")[1].read())\n",
    "    #for Windows\n",
    "    if \"NUMBER_OF_PROCESSORS\" in os.environ:\n",
    "        ncpus = int(os.environ[\"NUMBER_OF_PROCESSORS\"])\n",
    "        if ncpus > 0:\n",
    "            return ncpus\n",
    "    #return the default value\n",
    "    return 1\n",
    "CORE_NUM = ncpus()\n",
    "CORE_NUM"
   ]
  },
  {
   "cell_type": "markdown",
   "metadata": {},
   "source": [
    "\n",
    "- get working directory"
   ]
  },
  {
   "cell_type": "code",
   "execution_count": 6,
   "metadata": {},
   "outputs": [
    {
     "data": {
      "text/plain": [
       "'/home/hunk/workspaces/demo/studyQuantitativeTrading/intern/stock pkl'"
      ]
     },
     "execution_count": 6,
     "metadata": {},
     "output_type": "execute_result"
    }
   ],
   "source": [
    "os.getcwd()"
   ]
  },
  {
   "cell_type": "markdown",
   "metadata": {},
   "source": [
    "- sample product, you can change to your specific product symbol\n",
    "- for this quarter we analyze all of the black medals"
   ]
  },
  {
   "cell_type": "code",
   "execution_count": 7,
   "metadata": {},
   "outputs": [],
   "source": [
    "product_list = [\"600276\",\"000538\",  \"600332\", \"600436\", \"600535\"]\n",
    "product = product_list[1]"
   ]
  },
  {
   "cell_type": "markdown",
   "metadata": {},
   "source": [
    "- directory of the product's data"
   ]
  },
  {
   "cell_type": "code",
   "execution_count": 8,
   "metadata": {},
   "outputs": [
    {
     "data": {
      "text/plain": [
       "'/home/hunk/workspaces/demo/studyQuantitativeTrading/intern/stock pkl/000538'"
      ]
     },
     "execution_count": 8,
     "metadata": {},
     "output_type": "execute_result"
    }
   ],
   "source": [
    "dire = DATA_PATH + product\n",
    "dire"
   ]
  },
  {
   "cell_type": "markdown",
   "metadata": {},
   "source": [
    "- get all available data"
   ]
  },
  {
   "cell_type": "code",
   "execution_count": 9,
   "metadata": {
    "scrolled": true
   },
   "outputs": [
    {
     "data": {
      "text/plain": [
       "6"
      ]
     },
     "execution_count": 9,
     "metadata": {},
     "output_type": "execute_result"
    }
   ],
   "source": [
    "all_dates = list(map(lambda x: x,os.listdir(DATA_PATH + product)))\n",
    "len(all_dates)\n",
    "## 5"
   ]
  },
  {
   "cell_type": "code",
   "execution_count": 10,
   "metadata": {},
   "outputs": [],
   "source": [
    "date = \"2018\""
   ]
  },
  {
   "cell_type": "code",
   "execution_count": 11,
   "metadata": {},
   "outputs": [],
   "source": [
    "import pandas as pd\n",
    "import numpy as np\n",
    "import math\n",
    "import _pickle as cPickle\n",
    "import gzip\n",
    "\n",
    "with gzip.open(dire+\"/\"+date+\".pkl\", 'rb', compresslevel=1) as file_object:\n",
    "    raw_data = file_object.read()\n",
    "data = cPickle.loads(raw_data)"
   ]
  },
  {
   "cell_type": "code",
   "execution_count": 12,
   "metadata": {},
   "outputs": [
    {
     "data": {
      "text/plain": [
       "0         2018-01-02 09:25:03\n",
       "1         2018-01-02 09:30:03\n",
       "2         2018-01-02 09:30:06\n",
       "3         2018-01-02 09:30:09\n",
       "4         2018-01-02 09:30:12\n",
       "                 ...         \n",
       "644584    2018-12-28 14:56:45\n",
       "644585    2018-12-28 14:56:51\n",
       "644586    2018-12-28 14:56:54\n",
       "644587    2018-12-28 14:56:57\n",
       "644588    2018-12-28 15:00:03\n",
       "Name: date.time, Length: 644589, dtype: object"
      ]
     },
     "execution_count": 12,
     "metadata": {},
     "output_type": "execute_result"
    }
   ],
   "source": [
    "data[\"date.time\"]"
   ]
  },
  {
   "cell_type": "code",
   "execution_count": 13,
   "metadata": {},
   "outputs": [],
   "source": [
    "import numpy as np\n",
    "aa= np.array([x[0:10] for x in data[\"date.time\"]])"
   ]
  },
  {
   "cell_type": "code",
   "execution_count": 14,
   "metadata": {},
   "outputs": [],
   "source": [
    "aa = np.append(aa,'1')"
   ]
  },
  {
   "cell_type": "code",
   "execution_count": 15,
   "metadata": {},
   "outputs": [
    {
     "data": {
      "text/plain": [
       "array(['2018-01-02', '2018-01-02', '2018-01-02', ..., '2018-12-28',\n",
       "       '2018-12-28', '1'], dtype='<U10')"
      ]
     },
     "execution_count": 15,
     "metadata": {},
     "output_type": "execute_result"
    }
   ],
   "source": [
    "aa"
   ]
  },
  {
   "cell_type": "code",
   "execution_count": 16,
   "metadata": {},
   "outputs": [
    {
     "data": {
      "text/plain": [
       "array(['2018-01-02', '2018-01-02', '2018-01-02', ..., '2018-12-28', '1',\n",
       "       '2018-01-02'], dtype='<U10')"
      ]
     },
     "execution_count": 16,
     "metadata": {},
     "output_type": "execute_result"
    }
   ],
   "source": [
    "#np.array(aa).shift(-1)\n",
    "np.roll(aa,-1)"
   ]
  },
  {
   "cell_type": "markdown",
   "metadata": {},
   "source": [
    "- we can see that there are 974 days\n",
    "- all of the products have the same trading days\n",
    "- so we just take a as an example\n",
    "- get first several dates"
   ]
  },
  {
   "cell_type": "markdown",
   "metadata": {},
   "source": [
    "- specify a date"
   ]
  },
  {
   "cell_type": "markdown",
   "metadata": {},
   "source": [
    "- loading data set"
   ]
  },
  {
   "cell_type": "markdown",
   "metadata": {},
   "source": [
    "- get the column names of data"
   ]
  },
  {
   "cell_type": "code",
   "execution_count": 19,
   "metadata": {},
   "outputs": [],
   "source": [
    "data[\"wpr\"] = (data[\"bid1\"]*data[\"ask1.qty\"]+data[\"ask1\"]*data[\"bid1.qty\"])/(data[\"bid1.qty\"]+data[\"ask1.qty\"])\n"
   ]
  },
  {
   "cell_type": "code",
   "execution_count": 20,
   "metadata": {},
   "outputs": [
    {
     "data": {
      "text/html": [
       "<div>\n",
       "<style scoped>\n",
       "    .dataframe tbody tr th:only-of-type {\n",
       "        vertical-align: middle;\n",
       "    }\n",
       "\n",
       "    .dataframe tbody tr th {\n",
       "        vertical-align: top;\n",
       "    }\n",
       "\n",
       "    .dataframe thead th {\n",
       "        text-align: right;\n",
       "    }\n",
       "</style>\n",
       "<table border=\"1\" class=\"dataframe\">\n",
       "  <thead>\n",
       "    <tr style=\"text-align: right;\">\n",
       "      <th></th>\n",
       "      <th>date.time</th>\n",
       "      <th>price</th>\n",
       "      <th>traded.num</th>\n",
       "      <th>turnover</th>\n",
       "      <th>qty</th>\n",
       "      <th>bid1</th>\n",
       "      <th>bid2</th>\n",
       "      <th>bid3</th>\n",
       "      <th>bid4</th>\n",
       "      <th>bid5</th>\n",
       "      <th>...</th>\n",
       "      <th>ask2.qty</th>\n",
       "      <th>ask3.qty</th>\n",
       "      <th>ask4.qty</th>\n",
       "      <th>ask5.qty</th>\n",
       "      <th>adjust</th>\n",
       "      <th>wpr</th>\n",
       "      <th>next.bid</th>\n",
       "      <th>next.ask</th>\n",
       "      <th>wpr.ret</th>\n",
       "      <th>ret</th>\n",
       "    </tr>\n",
       "  </thead>\n",
       "  <tbody>\n",
       "    <tr>\n",
       "      <th>0</th>\n",
       "      <td>2018-01-02 09:25:03</td>\n",
       "      <td>102.41</td>\n",
       "      <td>29</td>\n",
       "      <td>686147.0</td>\n",
       "      <td>67</td>\n",
       "      <td>102.41</td>\n",
       "      <td>102.21</td>\n",
       "      <td>102.11</td>\n",
       "      <td>102.08</td>\n",
       "      <td>102.03</td>\n",
       "      <td>...</td>\n",
       "      <td>21</td>\n",
       "      <td>2</td>\n",
       "      <td>1</td>\n",
       "      <td>10</td>\n",
       "      <td>0.942227</td>\n",
       "      <td>102.440000</td>\n",
       "      <td>102.58</td>\n",
       "      <td>102.60</td>\n",
       "      <td>0.000000</td>\n",
       "      <td>0.000000</td>\n",
       "    </tr>\n",
       "    <tr>\n",
       "      <th>1</th>\n",
       "      <td>2018-01-02 09:30:03</td>\n",
       "      <td>102.60</td>\n",
       "      <td>34</td>\n",
       "      <td>1455628.0</td>\n",
       "      <td>142</td>\n",
       "      <td>102.58</td>\n",
       "      <td>102.48</td>\n",
       "      <td>102.47</td>\n",
       "      <td>102.44</td>\n",
       "      <td>102.41</td>\n",
       "      <td>...</td>\n",
       "      <td>2</td>\n",
       "      <td>49</td>\n",
       "      <td>4</td>\n",
       "      <td>1</td>\n",
       "      <td>0.942227</td>\n",
       "      <td>102.599524</td>\n",
       "      <td>102.60</td>\n",
       "      <td>102.65</td>\n",
       "      <td>0.150308</td>\n",
       "      <td>0.001556</td>\n",
       "    </tr>\n",
       "    <tr>\n",
       "      <th>2</th>\n",
       "      <td>2018-01-02 09:30:06</td>\n",
       "      <td>102.60</td>\n",
       "      <td>2</td>\n",
       "      <td>20520.0</td>\n",
       "      <td>2</td>\n",
       "      <td>102.60</td>\n",
       "      <td>102.58</td>\n",
       "      <td>102.48</td>\n",
       "      <td>102.47</td>\n",
       "      <td>102.44</td>\n",
       "      <td>...</td>\n",
       "      <td>49</td>\n",
       "      <td>4</td>\n",
       "      <td>1</td>\n",
       "      <td>6</td>\n",
       "      <td>0.942227</td>\n",
       "      <td>102.646774</td>\n",
       "      <td>102.60</td>\n",
       "      <td>102.75</td>\n",
       "      <td>0.044521</td>\n",
       "      <td>0.000460</td>\n",
       "    </tr>\n",
       "    <tr>\n",
       "      <th>3</th>\n",
       "      <td>2018-01-02 09:30:09</td>\n",
       "      <td>102.60</td>\n",
       "      <td>7</td>\n",
       "      <td>164320.0</td>\n",
       "      <td>16</td>\n",
       "      <td>102.60</td>\n",
       "      <td>102.58</td>\n",
       "      <td>102.48</td>\n",
       "      <td>102.47</td>\n",
       "      <td>102.44</td>\n",
       "      <td>...</td>\n",
       "      <td>4</td>\n",
       "      <td>1</td>\n",
       "      <td>6</td>\n",
       "      <td>3</td>\n",
       "      <td>0.942227</td>\n",
       "      <td>102.660000</td>\n",
       "      <td>102.65</td>\n",
       "      <td>102.75</td>\n",
       "      <td>0.012462</td>\n",
       "      <td>0.000129</td>\n",
       "    </tr>\n",
       "    <tr>\n",
       "      <th>4</th>\n",
       "      <td>2018-01-02 09:30:12</td>\n",
       "      <td>102.75</td>\n",
       "      <td>2</td>\n",
       "      <td>71925.0</td>\n",
       "      <td>7</td>\n",
       "      <td>102.65</td>\n",
       "      <td>102.60</td>\n",
       "      <td>102.58</td>\n",
       "      <td>102.48</td>\n",
       "      <td>102.47</td>\n",
       "      <td>...</td>\n",
       "      <td>4</td>\n",
       "      <td>1</td>\n",
       "      <td>6</td>\n",
       "      <td>3</td>\n",
       "      <td>0.942227</td>\n",
       "      <td>102.704386</td>\n",
       "      <td>102.65</td>\n",
       "      <td>102.75</td>\n",
       "      <td>0.041822</td>\n",
       "      <td>0.000432</td>\n",
       "    </tr>\n",
       "    <tr>\n",
       "      <th>...</th>\n",
       "      <td>...</td>\n",
       "      <td>...</td>\n",
       "      <td>...</td>\n",
       "      <td>...</td>\n",
       "      <td>...</td>\n",
       "      <td>...</td>\n",
       "      <td>...</td>\n",
       "      <td>...</td>\n",
       "      <td>...</td>\n",
       "      <td>...</td>\n",
       "      <td>...</td>\n",
       "      <td>...</td>\n",
       "      <td>...</td>\n",
       "      <td>...</td>\n",
       "      <td>...</td>\n",
       "      <td>...</td>\n",
       "      <td>...</td>\n",
       "      <td>...</td>\n",
       "      <td>...</td>\n",
       "      <td>...</td>\n",
       "      <td>...</td>\n",
       "    </tr>\n",
       "    <tr>\n",
       "      <th>644584</th>\n",
       "      <td>2018-12-28 14:56:45</td>\n",
       "      <td>74.08</td>\n",
       "      <td>5</td>\n",
       "      <td>59264.0</td>\n",
       "      <td>8</td>\n",
       "      <td>74.05</td>\n",
       "      <td>74.01</td>\n",
       "      <td>74.00</td>\n",
       "      <td>73.96</td>\n",
       "      <td>73.95</td>\n",
       "      <td>...</td>\n",
       "      <td>1</td>\n",
       "      <td>21</td>\n",
       "      <td>8</td>\n",
       "      <td>17</td>\n",
       "      <td>0.942227</td>\n",
       "      <td>74.055294</td>\n",
       "      <td>74.05</td>\n",
       "      <td>74.06</td>\n",
       "      <td>-0.005376</td>\n",
       "      <td>-0.000077</td>\n",
       "    </tr>\n",
       "    <tr>\n",
       "      <th>644585</th>\n",
       "      <td>2018-12-28 14:56:51</td>\n",
       "      <td>74.05</td>\n",
       "      <td>1</td>\n",
       "      <td>7392.0</td>\n",
       "      <td>1</td>\n",
       "      <td>74.05</td>\n",
       "      <td>74.01</td>\n",
       "      <td>74.00</td>\n",
       "      <td>73.96</td>\n",
       "      <td>73.95</td>\n",
       "      <td>...</td>\n",
       "      <td>14</td>\n",
       "      <td>1</td>\n",
       "      <td>21</td>\n",
       "      <td>8</td>\n",
       "      <td>0.942227</td>\n",
       "      <td>74.052857</td>\n",
       "      <td>73.96</td>\n",
       "      <td>74.00</td>\n",
       "      <td>-0.002296</td>\n",
       "      <td>-0.000033</td>\n",
       "    </tr>\n",
       "    <tr>\n",
       "      <th>644586</th>\n",
       "      <td>2018-12-28 14:56:54</td>\n",
       "      <td>74.00</td>\n",
       "      <td>12</td>\n",
       "      <td>214624.0</td>\n",
       "      <td>29</td>\n",
       "      <td>73.96</td>\n",
       "      <td>73.95</td>\n",
       "      <td>73.94</td>\n",
       "      <td>73.91</td>\n",
       "      <td>73.90</td>\n",
       "      <td>...</td>\n",
       "      <td>6</td>\n",
       "      <td>14</td>\n",
       "      <td>1</td>\n",
       "      <td>15</td>\n",
       "      <td>0.942227</td>\n",
       "      <td>73.970000</td>\n",
       "      <td>73.95</td>\n",
       "      <td>74.00</td>\n",
       "      <td>-0.078070</td>\n",
       "      <td>-0.001120</td>\n",
       "    </tr>\n",
       "    <tr>\n",
       "      <th>644587</th>\n",
       "      <td>2018-12-28 14:56:57</td>\n",
       "      <td>73.95</td>\n",
       "      <td>2</td>\n",
       "      <td>14800.0</td>\n",
       "      <td>2</td>\n",
       "      <td>73.95</td>\n",
       "      <td>73.94</td>\n",
       "      <td>73.91</td>\n",
       "      <td>73.90</td>\n",
       "      <td>73.89</td>\n",
       "      <td>...</td>\n",
       "      <td>6</td>\n",
       "      <td>14</td>\n",
       "      <td>1</td>\n",
       "      <td>15</td>\n",
       "      <td>0.942227</td>\n",
       "      <td>73.978571</td>\n",
       "      <td>73.96</td>\n",
       "      <td>73.97</td>\n",
       "      <td>0.008076</td>\n",
       "      <td>0.000116</td>\n",
       "    </tr>\n",
       "    <tr>\n",
       "      <th>644588</th>\n",
       "      <td>2018-12-28 15:00:03</td>\n",
       "      <td>73.96</td>\n",
       "      <td>88</td>\n",
       "      <td>1756480.0</td>\n",
       "      <td>238</td>\n",
       "      <td>73.96</td>\n",
       "      <td>73.95</td>\n",
       "      <td>73.94</td>\n",
       "      <td>73.91</td>\n",
       "      <td>73.90</td>\n",
       "      <td>...</td>\n",
       "      <td>63</td>\n",
       "      <td>6</td>\n",
       "      <td>14</td>\n",
       "      <td>1</td>\n",
       "      <td>0.942227</td>\n",
       "      <td>73.969643</td>\n",
       "      <td>NaN</td>\n",
       "      <td>NaN</td>\n",
       "      <td>-0.008413</td>\n",
       "      <td>-0.000121</td>\n",
       "    </tr>\n",
       "  </tbody>\n",
       "</table>\n",
       "<p>644589 rows × 31 columns</p>\n",
       "</div>"
      ],
      "text/plain": [
       "                  date.time   price  traded.num   turnover  qty    bid1  \\\n",
       "0       2018-01-02 09:25:03  102.41          29   686147.0   67  102.41   \n",
       "1       2018-01-02 09:30:03  102.60          34  1455628.0  142  102.58   \n",
       "2       2018-01-02 09:30:06  102.60           2    20520.0    2  102.60   \n",
       "3       2018-01-02 09:30:09  102.60           7   164320.0   16  102.60   \n",
       "4       2018-01-02 09:30:12  102.75           2    71925.0    7  102.65   \n",
       "...                     ...     ...         ...        ...  ...     ...   \n",
       "644584  2018-12-28 14:56:45   74.08           5    59264.0    8   74.05   \n",
       "644585  2018-12-28 14:56:51   74.05           1     7392.0    1   74.05   \n",
       "644586  2018-12-28 14:56:54   74.00          12   214624.0   29   73.96   \n",
       "644587  2018-12-28 14:56:57   73.95           2    14800.0    2   73.95   \n",
       "644588  2018-12-28 15:00:03   73.96          88  1756480.0  238   73.96   \n",
       "\n",
       "          bid2    bid3    bid4    bid5  ...  ask2.qty  ask3.qty  ask4.qty  \\\n",
       "0       102.21  102.11  102.08  102.03  ...        21         2         1   \n",
       "1       102.48  102.47  102.44  102.41  ...         2        49         4   \n",
       "2       102.58  102.48  102.47  102.44  ...        49         4         1   \n",
       "3       102.58  102.48  102.47  102.44  ...         4         1         6   \n",
       "4       102.60  102.58  102.48  102.47  ...         4         1         6   \n",
       "...        ...     ...     ...     ...  ...       ...       ...       ...   \n",
       "644584   74.01   74.00   73.96   73.95  ...         1        21         8   \n",
       "644585   74.01   74.00   73.96   73.95  ...        14         1        21   \n",
       "644586   73.95   73.94   73.91   73.90  ...         6        14         1   \n",
       "644587   73.94   73.91   73.90   73.89  ...         6        14         1   \n",
       "644588   73.95   73.94   73.91   73.90  ...        63         6        14   \n",
       "\n",
       "        ask5.qty    adjust         wpr  next.bid  next.ask   wpr.ret       ret  \n",
       "0             10  0.942227  102.440000    102.58    102.60  0.000000  0.000000  \n",
       "1              1  0.942227  102.599524    102.60    102.65  0.150308  0.001556  \n",
       "2              6  0.942227  102.646774    102.60    102.75  0.044521  0.000460  \n",
       "3              3  0.942227  102.660000    102.65    102.75  0.012462  0.000129  \n",
       "4              3  0.942227  102.704386    102.65    102.75  0.041822  0.000432  \n",
       "...          ...       ...         ...       ...       ...       ...       ...  \n",
       "644584        17  0.942227   74.055294     74.05     74.06 -0.005376 -0.000077  \n",
       "644585         8  0.942227   74.052857     73.96     74.00 -0.002296 -0.000033  \n",
       "644586        15  0.942227   73.970000     73.95     74.00 -0.078070 -0.001120  \n",
       "644587        15  0.942227   73.978571     73.96     73.97  0.008076  0.000116  \n",
       "644588         1  0.942227   73.969643       NaN       NaN -0.008413 -0.000121  \n",
       "\n",
       "[644589 rows x 31 columns]"
      ]
     },
     "execution_count": 20,
     "metadata": {},
     "output_type": "execute_result"
    }
   ],
   "source": [
    "data"
   ]
  },
  {
   "cell_type": "code",
   "execution_count": 21,
   "metadata": {},
   "outputs": [
    {
     "data": {
      "text/plain": [
       "Index(['date.time', 'price', 'traded.num', 'turnover', 'qty', 'bid1', 'bid2',\n",
       "       'bid3', 'bid4', 'bid5', 'ask1', 'ask2', 'ask3', 'ask4', 'ask5',\n",
       "       'bid1.qty', 'bid2.qty', 'bid3.qty', 'bid4.qty', 'bid5.qty', 'ask1.qty',\n",
       "       'ask2.qty', 'ask3.qty', 'ask4.qty', 'ask5.qty', 'adjust', 'wpr',\n",
       "       'next.bid', 'next.ask', 'wpr.ret', 'ret'],\n",
       "      dtype='object')"
      ]
     },
     "execution_count": 21,
     "metadata": {},
     "output_type": "execute_result"
    }
   ],
   "source": [
    "data.columns"
   ]
  },
  {
   "cell_type": "code",
   "execution_count": 22,
   "metadata": {},
   "outputs": [],
   "source": [
    "\n",
    "outlier = (data[\"bid1\"]<1e-6) | (data[\"ask1\"]<1e-6) | (np.isnan(data[\"wpr\"]))"
   ]
  },
  {
   "cell_type": "code",
   "execution_count": 24,
   "metadata": {
    "scrolled": true
   },
   "outputs": [
    {
     "data": {
      "text/plain": [
       "0         False\n",
       "1         False\n",
       "2         False\n",
       "3         False\n",
       "4         False\n",
       "          ...  \n",
       "644584    False\n",
       "644585    False\n",
       "644586    False\n",
       "644587    False\n",
       "644588    False\n",
       "Length: 644589, dtype: bool"
      ]
     },
     "execution_count": 24,
     "metadata": {},
     "output_type": "execute_result"
    }
   ],
   "source": [
    "outlier"
   ]
  },
  {
   "cell_type": "code",
   "execution_count": 36,
   "metadata": {},
   "outputs": [
    {
     "data": {
      "text/plain": [
       "0         102.41\n",
       "1         102.60\n",
       "2         102.60\n",
       "3         102.60\n",
       "4         102.75\n",
       "           ...  \n",
       "644584     74.08\n",
       "644585     74.05\n",
       "644586     74.00\n",
       "644587     73.95\n",
       "644588     73.96\n",
       "Name: price, Length: 644589, dtype: float64"
      ]
     },
     "execution_count": 36,
     "metadata": {},
     "output_type": "execute_result"
    }
   ],
   "source": [
    "data[\"price\"]"
   ]
  },
  {
   "cell_type": "code",
   "execution_count": 37,
   "metadata": {},
   "outputs": [
    {
     "data": {
      "text/plain": [
       "3406      102.49\n",
       "3407      102.49\n",
       "30828     102.35\n",
       "75120      99.75\n",
       "94038      92.10\n",
       "99231      93.99\n",
       "101728     95.91\n",
       "102540     96.20\n",
       "103090     95.88\n",
       "109077     95.60\n",
       "109229     95.66\n",
       "109307     95.40\n",
       "109496     95.59\n",
       "109736     95.50\n",
       "109739     95.50\n",
       "109752     95.48\n",
       "109990     95.64\n",
       "159897    100.70\n",
       "202531     94.90\n",
       "203425     93.17\n",
       "205599     93.57\n",
       "238710    109.00\n",
       "241323    108.90\n",
       "242031    108.54\n",
       "281774    116.30\n",
       "284898    115.86\n",
       "303416    113.20\n",
       "321494    108.07\n",
       "322590    107.29\n",
       "343607    105.88\n",
       "348647    105.39\n",
       "348652    105.40\n",
       "402826    105.04\n",
       "527127     73.21\n",
       "527245     73.40\n",
       "528087     72.96\n",
       "572713     73.70\n",
       "Name: price, dtype: float64"
      ]
     },
     "execution_count": 37,
     "metadata": {},
     "output_type": "execute_result"
    }
   ],
   "source": [
    "data[\"price\"][outlier]"
   ]
  },
  {
   "cell_type": "code",
   "execution_count": 33,
   "metadata": {},
   "outputs": [
    {
     "data": {
      "text/plain": [
       "3406      0.0\n",
       "3407      0.0\n",
       "30828     NaN\n",
       "75120     NaN\n",
       "94038     NaN\n",
       "99231     0.0\n",
       "101728    NaN\n",
       "102540    NaN\n",
       "103090    NaN\n",
       "109077    NaN\n",
       "109229    NaN\n",
       "109307    NaN\n",
       "109496    NaN\n",
       "109736    NaN\n",
       "109739    NaN\n",
       "109752    NaN\n",
       "109990    NaN\n",
       "159897    NaN\n",
       "202531    0.0\n",
       "203425    NaN\n",
       "205599    NaN\n",
       "238710    0.0\n",
       "241323    NaN\n",
       "242031    NaN\n",
       "281774    NaN\n",
       "284898    NaN\n",
       "303416    0.0\n",
       "321494    NaN\n",
       "322590    NaN\n",
       "343607    0.0\n",
       "348647    NaN\n",
       "348652    NaN\n",
       "402826    NaN\n",
       "527127    NaN\n",
       "527245    NaN\n",
       "528087    NaN\n",
       "572713    NaN\n",
       "Name: wpr, dtype: float64"
      ]
     },
     "execution_count": 33,
     "metadata": {},
     "output_type": "execute_result"
    }
   ],
   "source": [
    "\n",
    "data[\"wpr\"][outlier]"
   ]
  },
  {
   "cell_type": "code",
   "execution_count": 34,
   "metadata": {},
   "outputs": [],
   "source": [
    "\n",
    "data[\"wpr\"][outlier] = data[\"price\"][outlier]"
   ]
  },
  {
   "cell_type": "code",
   "execution_count": 35,
   "metadata": {},
   "outputs": [
    {
     "data": {
      "text/plain": [
       "3406      102.49\n",
       "3407      102.49\n",
       "30828     102.35\n",
       "75120      99.75\n",
       "94038      92.10\n",
       "99231      93.99\n",
       "101728     95.91\n",
       "102540     96.20\n",
       "103090     95.88\n",
       "109077     95.60\n",
       "109229     95.66\n",
       "109307     95.40\n",
       "109496     95.59\n",
       "109736     95.50\n",
       "109739     95.50\n",
       "109752     95.48\n",
       "109990     95.64\n",
       "159897    100.70\n",
       "202531     94.90\n",
       "203425     93.17\n",
       "205599     93.57\n",
       "238710    109.00\n",
       "241323    108.90\n",
       "242031    108.54\n",
       "281774    116.30\n",
       "284898    115.86\n",
       "303416    113.20\n",
       "321494    108.07\n",
       "322590    107.29\n",
       "343607    105.88\n",
       "348647    105.39\n",
       "348652    105.40\n",
       "402826    105.04\n",
       "527127     73.21\n",
       "527245     73.40\n",
       "528087     72.96\n",
       "572713     73.70\n",
       "Name: wpr, dtype: float64"
      ]
     },
     "execution_count": 35,
     "metadata": {},
     "output_type": "execute_result"
    }
   ],
   "source": [
    "data[\"wpr\"][outlier]"
   ]
  },
  {
   "cell_type": "code",
   "execution_count": null,
   "metadata": {},
   "outputs": [],
   "source": [
    "\n",
    "data[\"price\"][\"bid1\"]\n",
    "#Index(['date.time', 'price', 'traded.num', 'turnover', 'qty', 'bid1', 'bid2',\n",
    "#       'bid3', 'bid4', 'bid5', 'ask1', 'ask2', 'ask3', 'ask4', 'ask5',\n",
    "#       'bid1.qty', 'bid2.qty', 'bid3.qty', 'bid4.qty', 'bid5.qty', 'ask1.qty',\n",
    "#       'ask2.qty', 'ask3.qty', 'ask4.qty', 'ask5.qty', 'adjust'],\n",
    "#      dtype='object')\n",
    "'''\n",
    "3406      102.49\n",
    "3407      102.49\n",
    "30828     102.35\n",
    "75120      99.75\n",
    "94038      92.10\n",
    "99231      93.99\n",
    "101728     95.91\n",
    "102540     96.20\n",
    "103090     95.88\n",
    "109077     95.60\n",
    "109229     95.66\n",
    "109307     95.40\n",
    "109496     95.59\n",
    "109736     95.50\n",
    "'''"
   ]
  },
  {
   "cell_type": "code",
   "execution_count": 50,
   "metadata": {},
   "outputs": [
    {
     "data": {
      "text/html": [
       "<div>\n",
       "<style scoped>\n",
       "    .dataframe tbody tr th:only-of-type {\n",
       "        vertical-align: middle;\n",
       "    }\n",
       "\n",
       "    .dataframe tbody tr th {\n",
       "        vertical-align: top;\n",
       "    }\n",
       "\n",
       "    .dataframe thead th {\n",
       "        text-align: right;\n",
       "    }\n",
       "</style>\n",
       "<table border=\"1\" class=\"dataframe\">\n",
       "  <thead>\n",
       "    <tr style=\"text-align: right;\">\n",
       "      <th></th>\n",
       "      <th>date.time</th>\n",
       "      <th>price</th>\n",
       "      <th>traded.num</th>\n",
       "      <th>turnover</th>\n",
       "      <th>qty</th>\n",
       "      <th>bid1</th>\n",
       "      <th>bid2</th>\n",
       "      <th>bid3</th>\n",
       "      <th>bid4</th>\n",
       "      <th>bid5</th>\n",
       "    </tr>\n",
       "  </thead>\n",
       "  <tbody>\n",
       "    <tr>\n",
       "      <th>0</th>\n",
       "      <td>2018-01-02 09:25:03</td>\n",
       "      <td>102.41</td>\n",
       "      <td>29</td>\n",
       "      <td>686147.0</td>\n",
       "      <td>67</td>\n",
       "      <td>102.41</td>\n",
       "      <td>102.21</td>\n",
       "      <td>102.11</td>\n",
       "      <td>102.08</td>\n",
       "      <td>102.03</td>\n",
       "    </tr>\n",
       "    <tr>\n",
       "      <th>1</th>\n",
       "      <td>2018-01-02 09:30:03</td>\n",
       "      <td>102.60</td>\n",
       "      <td>34</td>\n",
       "      <td>1455628.0</td>\n",
       "      <td>142</td>\n",
       "      <td>102.58</td>\n",
       "      <td>102.48</td>\n",
       "      <td>102.47</td>\n",
       "      <td>102.44</td>\n",
       "      <td>102.41</td>\n",
       "    </tr>\n",
       "    <tr>\n",
       "      <th>2</th>\n",
       "      <td>2018-01-02 09:30:06</td>\n",
       "      <td>102.60</td>\n",
       "      <td>2</td>\n",
       "      <td>20520.0</td>\n",
       "      <td>2</td>\n",
       "      <td>102.60</td>\n",
       "      <td>102.58</td>\n",
       "      <td>102.48</td>\n",
       "      <td>102.47</td>\n",
       "      <td>102.44</td>\n",
       "    </tr>\n",
       "    <tr>\n",
       "      <th>3</th>\n",
       "      <td>2018-01-02 09:30:09</td>\n",
       "      <td>102.60</td>\n",
       "      <td>7</td>\n",
       "      <td>164320.0</td>\n",
       "      <td>16</td>\n",
       "      <td>102.60</td>\n",
       "      <td>102.58</td>\n",
       "      <td>102.48</td>\n",
       "      <td>102.47</td>\n",
       "      <td>102.44</td>\n",
       "    </tr>\n",
       "    <tr>\n",
       "      <th>4</th>\n",
       "      <td>2018-01-02 09:30:12</td>\n",
       "      <td>102.75</td>\n",
       "      <td>2</td>\n",
       "      <td>71925.0</td>\n",
       "      <td>7</td>\n",
       "      <td>102.65</td>\n",
       "      <td>102.60</td>\n",
       "      <td>102.58</td>\n",
       "      <td>102.48</td>\n",
       "      <td>102.47</td>\n",
       "    </tr>\n",
       "    <tr>\n",
       "      <th>5</th>\n",
       "      <td>2018-01-02 09:30:15</td>\n",
       "      <td>102.75</td>\n",
       "      <td>1</td>\n",
       "      <td>20550.0</td>\n",
       "      <td>2</td>\n",
       "      <td>102.65</td>\n",
       "      <td>102.60</td>\n",
       "      <td>102.58</td>\n",
       "      <td>102.48</td>\n",
       "      <td>102.47</td>\n",
       "    </tr>\n",
       "    <tr>\n",
       "      <th>6</th>\n",
       "      <td>2018-01-02 09:30:18</td>\n",
       "      <td>102.74</td>\n",
       "      <td>1</td>\n",
       "      <td>10274.0</td>\n",
       "      <td>1</td>\n",
       "      <td>102.65</td>\n",
       "      <td>102.60</td>\n",
       "      <td>102.58</td>\n",
       "      <td>102.50</td>\n",
       "      <td>102.48</td>\n",
       "    </tr>\n",
       "    <tr>\n",
       "      <th>7</th>\n",
       "      <td>2018-01-02 09:30:21</td>\n",
       "      <td>102.74</td>\n",
       "      <td>2</td>\n",
       "      <td>92466.0</td>\n",
       "      <td>9</td>\n",
       "      <td>102.66</td>\n",
       "      <td>102.65</td>\n",
       "      <td>102.58</td>\n",
       "      <td>102.50</td>\n",
       "      <td>102.48</td>\n",
       "    </tr>\n",
       "    <tr>\n",
       "      <th>8</th>\n",
       "      <td>2018-01-02 09:30:24</td>\n",
       "      <td>102.74</td>\n",
       "      <td>5</td>\n",
       "      <td>143848.0</td>\n",
       "      <td>14</td>\n",
       "      <td>102.74</td>\n",
       "      <td>102.66</td>\n",
       "      <td>102.65</td>\n",
       "      <td>102.58</td>\n",
       "      <td>102.50</td>\n",
       "    </tr>\n",
       "    <tr>\n",
       "      <th>9</th>\n",
       "      <td>2018-01-02 09:30:27</td>\n",
       "      <td>102.75</td>\n",
       "      <td>10</td>\n",
       "      <td>606120.0</td>\n",
       "      <td>59</td>\n",
       "      <td>102.65</td>\n",
       "      <td>102.58</td>\n",
       "      <td>102.50</td>\n",
       "      <td>102.48</td>\n",
       "      <td>102.47</td>\n",
       "    </tr>\n",
       "  </tbody>\n",
       "</table>\n",
       "</div>"
      ],
      "text/plain": [
       "             date.time   price  traded.num   turnover  qty    bid1    bid2  \\\n",
       "0  2018-01-02 09:25:03  102.41          29   686147.0   67  102.41  102.21   \n",
       "1  2018-01-02 09:30:03  102.60          34  1455628.0  142  102.58  102.48   \n",
       "2  2018-01-02 09:30:06  102.60           2    20520.0    2  102.60  102.58   \n",
       "3  2018-01-02 09:30:09  102.60           7   164320.0   16  102.60  102.58   \n",
       "4  2018-01-02 09:30:12  102.75           2    71925.0    7  102.65  102.60   \n",
       "5  2018-01-02 09:30:15  102.75           1    20550.0    2  102.65  102.60   \n",
       "6  2018-01-02 09:30:18  102.74           1    10274.0    1  102.65  102.60   \n",
       "7  2018-01-02 09:30:21  102.74           2    92466.0    9  102.66  102.65   \n",
       "8  2018-01-02 09:30:24  102.74           5   143848.0   14  102.74  102.66   \n",
       "9  2018-01-02 09:30:27  102.75          10   606120.0   59  102.65  102.58   \n",
       "\n",
       "     bid3    bid4    bid5  \n",
       "0  102.11  102.08  102.03  \n",
       "1  102.47  102.44  102.41  \n",
       "2  102.48  102.47  102.44  \n",
       "3  102.48  102.47  102.44  \n",
       "4  102.58  102.48  102.47  \n",
       "5  102.58  102.48  102.47  \n",
       "6  102.58  102.50  102.48  \n",
       "7  102.58  102.50  102.48  \n",
       "8  102.65  102.58  102.50  \n",
       "9  102.50  102.48  102.47  "
      ]
     },
     "execution_count": 50,
     "metadata": {},
     "output_type": "execute_result"
    }
   ],
   "source": [
    "data.iloc[0:10,0:10]\n",
    "\n",
    "#date.time \tprice \ttraded.num \tturnover \tqty \tbid1 \tbid2 \tbid3 \tbid4 \tbid5\n",
    "#0 \t2018-01-02 09:25:01 \t69.42 \t66 \t1665802.0 \t240 \t69.42 \t69.40 \t69.35 \t69.28 \t69.20\n",
    "#1 \t2018-01-02 09:30:00 \t69.47 \t7 \t409861.0 \t59 \t69.47 \t69.42 \t69.40 \t69.35 \t69.28\n",
    "#2 \t2018-01-02 09:30:02 \t69.42 \t48 \t1838507.0 \t265 \t69.42 \t69.40 \t69.35 \t69.28 \t69.20\n",
    "#3 \t2018-01-02 09:30:06 \t69.48 \t36 \t993680.0 \t143 \t69.48 \t69.47 \t69.46 \t69.44 \t69.42\n",
    "#4 \t2018-01-02 09:30:12 \t69.66 \t4 \t55720.0 \t8 \t69.65 \t69.48 \t69.47 \t69.46 \t69.44\n",
    "#5 \t2018-01-02 09:30:15 \t69.67 \t8 \t132349.0 \t19 \t69.65 \t69.60 \t69.55 \t69.48 \t69.47\n",
    "#6 \t2018-01-02 09:30:18 \t69.50 \t8 \t167107.0 \t24 \t69.55 \t69.50 \t69.48 \t69.47 \t69.46\n",
    "#7 \t2018-01-02 09:30:24 \t69.67 \t2 \t13923.0 \t2 \t69.67 \t69.60 \t69.55 \t69.50 \t69.48\n",
    "#8 \t2018-01-02 09:30:27 \t69.68 \t4 \t69659.0 \t10 \t69.67 \t69.66 \t69.60 \t69.55 \t69.50\n",
    "#9 \t2018-01-02 09:30:30 \t69.67 \t4 \t132374.0 \t19 \t69.66 \t69.60 \t69.55 \t69.50 \t69.48"
   ]
  },
  {
   "cell_type": "code",
   "execution_count": 51,
   "metadata": {},
   "outputs": [
    {
     "data": {
      "text/html": [
       "<div>\n",
       "<style scoped>\n",
       "    .dataframe tbody tr th:only-of-type {\n",
       "        vertical-align: middle;\n",
       "    }\n",
       "\n",
       "    .dataframe tbody tr th {\n",
       "        vertical-align: top;\n",
       "    }\n",
       "\n",
       "    .dataframe thead th {\n",
       "        text-align: right;\n",
       "    }\n",
       "</style>\n",
       "<table border=\"1\" class=\"dataframe\">\n",
       "  <thead>\n",
       "    <tr style=\"text-align: right;\">\n",
       "      <th></th>\n",
       "      <th>ask1</th>\n",
       "      <th>ask2</th>\n",
       "      <th>ask3</th>\n",
       "      <th>ask4</th>\n",
       "      <th>ask5</th>\n",
       "      <th>bid1.qty</th>\n",
       "      <th>bid2.qty</th>\n",
       "      <th>bid3.qty</th>\n",
       "      <th>bid4.qty</th>\n",
       "      <th>bid5.qty</th>\n",
       "    </tr>\n",
       "  </thead>\n",
       "  <tbody>\n",
       "    <tr>\n",
       "      <th>0</th>\n",
       "      <td>102.47</td>\n",
       "      <td>102.48</td>\n",
       "      <td>102.49</td>\n",
       "      <td>102.50</td>\n",
       "      <td>102.58</td>\n",
       "      <td>1</td>\n",
       "      <td>172</td>\n",
       "      <td>2</td>\n",
       "      <td>1</td>\n",
       "      <td>30</td>\n",
       "    </tr>\n",
       "    <tr>\n",
       "      <th>1</th>\n",
       "      <td>102.60</td>\n",
       "      <td>102.65</td>\n",
       "      <td>102.75</td>\n",
       "      <td>102.79</td>\n",
       "      <td>102.83</td>\n",
       "      <td>41</td>\n",
       "      <td>14</td>\n",
       "      <td>31</td>\n",
       "      <td>1</td>\n",
       "      <td>22</td>\n",
       "    </tr>\n",
       "    <tr>\n",
       "      <th>2</th>\n",
       "      <td>102.65</td>\n",
       "      <td>102.75</td>\n",
       "      <td>102.79</td>\n",
       "      <td>102.83</td>\n",
       "      <td>102.85</td>\n",
       "      <td>29</td>\n",
       "      <td>41</td>\n",
       "      <td>25</td>\n",
       "      <td>58</td>\n",
       "      <td>2</td>\n",
       "    </tr>\n",
       "    <tr>\n",
       "      <th>3</th>\n",
       "      <td>102.75</td>\n",
       "      <td>102.79</td>\n",
       "      <td>102.83</td>\n",
       "      <td>102.85</td>\n",
       "      <td>102.89</td>\n",
       "      <td>26</td>\n",
       "      <td>41</td>\n",
       "      <td>25</td>\n",
       "      <td>59</td>\n",
       "      <td>2</td>\n",
       "    </tr>\n",
       "    <tr>\n",
       "      <th>4</th>\n",
       "      <td>102.75</td>\n",
       "      <td>102.79</td>\n",
       "      <td>102.83</td>\n",
       "      <td>102.85</td>\n",
       "      <td>102.89</td>\n",
       "      <td>62</td>\n",
       "      <td>25</td>\n",
       "      <td>41</td>\n",
       "      <td>27</td>\n",
       "      <td>58</td>\n",
       "    </tr>\n",
       "    <tr>\n",
       "      <th>5</th>\n",
       "      <td>102.75</td>\n",
       "      <td>102.79</td>\n",
       "      <td>102.83</td>\n",
       "      <td>102.85</td>\n",
       "      <td>102.89</td>\n",
       "      <td>62</td>\n",
       "      <td>25</td>\n",
       "      <td>41</td>\n",
       "      <td>27</td>\n",
       "      <td>50</td>\n",
       "    </tr>\n",
       "    <tr>\n",
       "      <th>6</th>\n",
       "      <td>102.74</td>\n",
       "      <td>102.75</td>\n",
       "      <td>102.79</td>\n",
       "      <td>102.83</td>\n",
       "      <td>102.85</td>\n",
       "      <td>84</td>\n",
       "      <td>25</td>\n",
       "      <td>41</td>\n",
       "      <td>15</td>\n",
       "      <td>27</td>\n",
       "    </tr>\n",
       "    <tr>\n",
       "      <th>7</th>\n",
       "      <td>102.75</td>\n",
       "      <td>102.79</td>\n",
       "      <td>102.83</td>\n",
       "      <td>102.85</td>\n",
       "      <td>102.89</td>\n",
       "      <td>1</td>\n",
       "      <td>84</td>\n",
       "      <td>41</td>\n",
       "      <td>18</td>\n",
       "      <td>29</td>\n",
       "    </tr>\n",
       "    <tr>\n",
       "      <th>8</th>\n",
       "      <td>102.75</td>\n",
       "      <td>102.79</td>\n",
       "      <td>102.83</td>\n",
       "      <td>102.85</td>\n",
       "      <td>102.89</td>\n",
       "      <td>50</td>\n",
       "      <td>5</td>\n",
       "      <td>22</td>\n",
       "      <td>41</td>\n",
       "      <td>18</td>\n",
       "    </tr>\n",
       "    <tr>\n",
       "      <th>9</th>\n",
       "      <td>102.75</td>\n",
       "      <td>102.79</td>\n",
       "      <td>102.83</td>\n",
       "      <td>102.85</td>\n",
       "      <td>102.89</td>\n",
       "      <td>21</td>\n",
       "      <td>41</td>\n",
       "      <td>18</td>\n",
       "      <td>28</td>\n",
       "      <td>31</td>\n",
       "    </tr>\n",
       "  </tbody>\n",
       "</table>\n",
       "</div>"
      ],
      "text/plain": [
       "     ask1    ask2    ask3    ask4    ask5  bid1.qty  bid2.qty  bid3.qty  \\\n",
       "0  102.47  102.48  102.49  102.50  102.58         1       172         2   \n",
       "1  102.60  102.65  102.75  102.79  102.83        41        14        31   \n",
       "2  102.65  102.75  102.79  102.83  102.85        29        41        25   \n",
       "3  102.75  102.79  102.83  102.85  102.89        26        41        25   \n",
       "4  102.75  102.79  102.83  102.85  102.89        62        25        41   \n",
       "5  102.75  102.79  102.83  102.85  102.89        62        25        41   \n",
       "6  102.74  102.75  102.79  102.83  102.85        84        25        41   \n",
       "7  102.75  102.79  102.83  102.85  102.89         1        84        41   \n",
       "8  102.75  102.79  102.83  102.85  102.89        50         5        22   \n",
       "9  102.75  102.79  102.83  102.85  102.89        21        41        18   \n",
       "\n",
       "   bid4.qty  bid5.qty  \n",
       "0         1        30  \n",
       "1         1        22  \n",
       "2        58         2  \n",
       "3        59         2  \n",
       "4        27        58  \n",
       "5        27        50  \n",
       "6        15        27  \n",
       "7        18        29  \n",
       "8        41        18  \n",
       "9        28        31  "
      ]
     },
     "execution_count": 51,
     "metadata": {},
     "output_type": "execute_result"
    }
   ],
   "source": [
    "data.iloc[0:10,10:20]\n",
    "\n",
    "#ask1 \task2 \task3 \task4 \task5 \tbid1.qty \tbid2.qty \tbid3.qty \tbid4.qty \tbid5.qty\n",
    "#0 \t69.44 \t69.45 \t69.46 \t69.47 \t69.48 \t157 \t36 \t2 \t3 \t1\n",
    "#1 \t69.48 \t69.49 \t69.50 \t69.58 \t69.59 \t25 \t157 \t36 \t2 \t3\n",
    "#2 \t69.59 \t69.60 \t69.65 \t69.66 \t69.67 \t142 \t36 \t2 \t8 \t1\n",
    "#3 \t69.60 \t69.65 \t69.66 \t69.67 \t69.68 \t3 \t6 \t4 \t15 \t114\n",
    "#4 \t69.66 \t69.67 \t69.68 \t69.69 \t69.70 \t15 \t63 \t6 \t4 \t15\n",
    "#5 \t69.67 \t69.68 \t69.69 \t69.70 \t69.78 \t8 \t1 \t1 \t8 \t6\n",
    "#6 \t69.67 \t69.68 \t69.69 \t69.70 \t69.78 \t5 \t2 \t8 \t6 \t4\n",
    "#7 \t69.68 \t69.69 \t69.70 \t69.78 \t69.79 \t2 \t3 \t68 \t4 \t8\n",
    "#8 \t69.68 \t69.69 \t69.70 \t69.78 \t69.79 \t12 \t10 \t5 \t68 \t4\n",
    "#9 \t69.67 \t69.68 \t69.69 \t69.70 \t69.78 \t10 \t5 \t7 \t4 \t8\n",
    "\n",
    "# data.iloc[0:10,20:]"
   ]
  },
  {
   "cell_type": "code",
   "execution_count": 52,
   "metadata": {},
   "outputs": [
    {
     "data": {
      "text/html": [
       "<div>\n",
       "<style scoped>\n",
       "    .dataframe tbody tr th:only-of-type {\n",
       "        vertical-align: middle;\n",
       "    }\n",
       "\n",
       "    .dataframe tbody tr th {\n",
       "        vertical-align: top;\n",
       "    }\n",
       "\n",
       "    .dataframe thead th {\n",
       "        text-align: right;\n",
       "    }\n",
       "</style>\n",
       "<table border=\"1\" class=\"dataframe\">\n",
       "  <thead>\n",
       "    <tr style=\"text-align: right;\">\n",
       "      <th></th>\n",
       "      <th>ask1.qty</th>\n",
       "      <th>ask2.qty</th>\n",
       "      <th>ask3.qty</th>\n",
       "      <th>ask4.qty</th>\n",
       "      <th>ask5.qty</th>\n",
       "      <th>adjust</th>\n",
       "      <th>wpr</th>\n",
       "      <th>next.bid</th>\n",
       "      <th>next.ask</th>\n",
       "      <th>wpr.ret</th>\n",
       "      <th>ret</th>\n",
       "    </tr>\n",
       "  </thead>\n",
       "  <tbody>\n",
       "    <tr>\n",
       "      <th>0</th>\n",
       "      <td>1</td>\n",
       "      <td>21</td>\n",
       "      <td>2</td>\n",
       "      <td>1</td>\n",
       "      <td>10</td>\n",
       "      <td>0.942227</td>\n",
       "      <td>102.440000</td>\n",
       "      <td>102.58</td>\n",
       "      <td>102.60</td>\n",
       "      <td>0.000000</td>\n",
       "      <td>0.000000</td>\n",
       "    </tr>\n",
       "    <tr>\n",
       "      <th>1</th>\n",
       "      <td>1</td>\n",
       "      <td>2</td>\n",
       "      <td>49</td>\n",
       "      <td>4</td>\n",
       "      <td>1</td>\n",
       "      <td>0.942227</td>\n",
       "      <td>102.599524</td>\n",
       "      <td>102.60</td>\n",
       "      <td>102.65</td>\n",
       "      <td>0.150308</td>\n",
       "      <td>0.001556</td>\n",
       "    </tr>\n",
       "    <tr>\n",
       "      <th>2</th>\n",
       "      <td>2</td>\n",
       "      <td>49</td>\n",
       "      <td>4</td>\n",
       "      <td>1</td>\n",
       "      <td>6</td>\n",
       "      <td>0.942227</td>\n",
       "      <td>102.646774</td>\n",
       "      <td>102.60</td>\n",
       "      <td>102.75</td>\n",
       "      <td>0.044521</td>\n",
       "      <td>0.000460</td>\n",
       "    </tr>\n",
       "    <tr>\n",
       "      <th>3</th>\n",
       "      <td>39</td>\n",
       "      <td>4</td>\n",
       "      <td>1</td>\n",
       "      <td>6</td>\n",
       "      <td>3</td>\n",
       "      <td>0.942227</td>\n",
       "      <td>102.660000</td>\n",
       "      <td>102.65</td>\n",
       "      <td>102.75</td>\n",
       "      <td>0.012462</td>\n",
       "      <td>0.000129</td>\n",
       "    </tr>\n",
       "    <tr>\n",
       "      <th>4</th>\n",
       "      <td>52</td>\n",
       "      <td>4</td>\n",
       "      <td>1</td>\n",
       "      <td>6</td>\n",
       "      <td>3</td>\n",
       "      <td>0.942227</td>\n",
       "      <td>102.704386</td>\n",
       "      <td>102.65</td>\n",
       "      <td>102.75</td>\n",
       "      <td>0.041822</td>\n",
       "      <td>0.000432</td>\n",
       "    </tr>\n",
       "    <tr>\n",
       "      <th>5</th>\n",
       "      <td>50</td>\n",
       "      <td>4</td>\n",
       "      <td>1</td>\n",
       "      <td>6</td>\n",
       "      <td>3</td>\n",
       "      <td>0.942227</td>\n",
       "      <td>102.705357</td>\n",
       "      <td>102.65</td>\n",
       "      <td>102.74</td>\n",
       "      <td>0.000915</td>\n",
       "      <td>0.000009</td>\n",
       "    </tr>\n",
       "    <tr>\n",
       "      <th>6</th>\n",
       "      <td>9</td>\n",
       "      <td>50</td>\n",
       "      <td>4</td>\n",
       "      <td>1</td>\n",
       "      <td>6</td>\n",
       "      <td>0.942227</td>\n",
       "      <td>102.731290</td>\n",
       "      <td>102.66</td>\n",
       "      <td>102.75</td>\n",
       "      <td>0.024435</td>\n",
       "      <td>0.000252</td>\n",
       "    </tr>\n",
       "    <tr>\n",
       "      <th>7</th>\n",
       "      <td>50</td>\n",
       "      <td>4</td>\n",
       "      <td>1</td>\n",
       "      <td>6</td>\n",
       "      <td>3</td>\n",
       "      <td>0.942227</td>\n",
       "      <td>102.661765</td>\n",
       "      <td>102.74</td>\n",
       "      <td>102.75</td>\n",
       "      <td>-0.065509</td>\n",
       "      <td>-0.000677</td>\n",
       "    </tr>\n",
       "    <tr>\n",
       "      <th>8</th>\n",
       "      <td>38</td>\n",
       "      <td>4</td>\n",
       "      <td>6</td>\n",
       "      <td>6</td>\n",
       "      <td>3</td>\n",
       "      <td>0.942227</td>\n",
       "      <td>102.745682</td>\n",
       "      <td>102.65</td>\n",
       "      <td>102.75</td>\n",
       "      <td>0.079069</td>\n",
       "      <td>0.000817</td>\n",
       "    </tr>\n",
       "    <tr>\n",
       "      <th>9</th>\n",
       "      <td>35</td>\n",
       "      <td>4</td>\n",
       "      <td>6</td>\n",
       "      <td>6</td>\n",
       "      <td>3</td>\n",
       "      <td>0.942227</td>\n",
       "      <td>102.687500</td>\n",
       "      <td>102.75</td>\n",
       "      <td>102.79</td>\n",
       "      <td>-0.054820</td>\n",
       "      <td>-0.000566</td>\n",
       "    </tr>\n",
       "  </tbody>\n",
       "</table>\n",
       "</div>"
      ],
      "text/plain": [
       "   ask1.qty  ask2.qty  ask3.qty  ask4.qty  ask5.qty    adjust         wpr  \\\n",
       "0         1        21         2         1        10  0.942227  102.440000   \n",
       "1         1         2        49         4         1  0.942227  102.599524   \n",
       "2         2        49         4         1         6  0.942227  102.646774   \n",
       "3        39         4         1         6         3  0.942227  102.660000   \n",
       "4        52         4         1         6         3  0.942227  102.704386   \n",
       "5        50         4         1         6         3  0.942227  102.705357   \n",
       "6         9        50         4         1         6  0.942227  102.731290   \n",
       "7        50         4         1         6         3  0.942227  102.661765   \n",
       "8        38         4         6         6         3  0.942227  102.745682   \n",
       "9        35         4         6         6         3  0.942227  102.687500   \n",
       "\n",
       "   next.bid  next.ask   wpr.ret       ret  \n",
       "0    102.58    102.60  0.000000  0.000000  \n",
       "1    102.60    102.65  0.150308  0.001556  \n",
       "2    102.60    102.75  0.044521  0.000460  \n",
       "3    102.65    102.75  0.012462  0.000129  \n",
       "4    102.65    102.75  0.041822  0.000432  \n",
       "5    102.65    102.74  0.000915  0.000009  \n",
       "6    102.66    102.75  0.024435  0.000252  \n",
       "7    102.74    102.75 -0.065509 -0.000677  \n",
       "8    102.65    102.75  0.079069  0.000817  \n",
       "9    102.75    102.79 -0.054820 -0.000566  "
      ]
     },
     "execution_count": 52,
     "metadata": {},
     "output_type": "execute_result"
    }
   ],
   "source": [
    "data.iloc[0:10,20:]\n",
    "\n",
    "# \task1.qty \task2.qty \task3.qty \task4.qty \task5.qty \tadjust\n",
    "#0 \t3 \t1 \t1 \t54 \t3 \t0.993027\n",
    "#1 \t3 \t96 \t1 \t3 \t30 \t0.993027\n",
    "#2 \t31 \t13 \t1 \t15 \t3 \t0.993027\n",
    "#3 \t1 \t1 \t15 \t3 \t5 \t0.993027\n",
    "#4 \t10 \t3 \t5 \t35 \t11 \t0.993027\n",
    "#5 \t1 \t5 \t35 \t11 \t8 \t0.993027\n",
    "#6 \t1 \t5 \t34 \t11 \t8 \t0.993027\n",
    "#7 \t5 \t34 \t11 \t8 \t80 \t0.993027\n",
    "#8 \t3 \t34 \t11 \t8 \t80 \t0.993027\n",
    "#9 \t25 \t3 \t34 \t11 \t8 \t0.993027"
   ]
  },
  {
   "cell_type": "markdown",
   "metadata": {},
   "source": [
    "- plot the price"
   ]
  },
  {
   "cell_type": "code",
   "execution_count": 41,
   "metadata": {},
   "outputs": [
    {
     "data": {
      "image/png": "[encoded data removed]",
      "text/plain": [
       "<Figure size 1152x720 with 1 Axes>"
      ]
     },
     "metadata": {
      "needs_background": "light"
     },
     "output_type": "display_data"
    }
   ],
   "source": [
    "# pip install plotly\n",
    "import matplotlib.pyplot as plt\n",
    "\n",
    "plt.figure(1, figsize=(16, 10))\n",
    "plt.plot(data[\"price\"].values);"
   ]
  },
  {
   "cell_type": "code",
   "execution_count": 42,
   "metadata": {},
   "outputs": [
    {
     "data": {
      "image/png": "[encoded data removed]",
      "text/plain": [
       "<Figure size 1152x720 with 1 Axes>"
      ]
     },
     "metadata": {
      "needs_background": "light"
     },
     "output_type": "display_data"
    }
   ],
   "source": [
    "plt.figure(1, figsize=(16, 10))\n",
    "plt.plot(data[\"price\"]*data[\"adjust\"]);"
   ]
  },
  {
   "cell_type": "code",
   "execution_count": 43,
   "metadata": {},
   "outputs": [
    {
     "data": {
      "text/plain": [
       "0          2018-01-02 09:25:01\n",
       "1          2018-01-02 09:30:00\n",
       "2          2018-01-02 09:30:02\n",
       "3          2018-01-02 09:30:06\n",
       "4          2018-01-02 09:30:12\n",
       "                  ...         \n",
       "1073071    2018-12-28 14:56:48\n",
       "1073072    2018-12-28 14:56:51\n",
       "1073073    2018-12-28 14:56:54\n",
       "1073074    2018-12-28 14:56:57\n",
       "1073075    2018-12-28 15:00:00\n",
       "Name: date.time, Length: 1073076, dtype: object"
      ]
     },
     "execution_count": 43,
     "metadata": {},
     "output_type": "execute_result"
    }
   ],
   "source": [
    "data[\"date.time\"]"
   ]
  },
  {
   "cell_type": "markdown",
   "metadata": {},
   "source": [
    "- plot price change"
   ]
  },
  {
   "cell_type": "code",
   "execution_count": 44,
   "metadata": {},
   "outputs": [],
   "source": [
    "def load(path):\n",
    "    with gzip.open(path, 'rb', compresslevel=1) as file_object:\n",
    "        raw_data = file_object.read()\n",
    "    return cPickle.loads(raw_data)"
   ]
  },
  {
   "cell_type": "code",
   "execution_count": 46,
   "metadata": {},
   "outputs": [],
   "source": [
    "import functools\n",
    "import dask\n",
    "from dask import compute, delayed\n",
    "def parLapply(CORE_NUM, iterable, func, *args, **kwargs):\n",
    "    with dask.config.set(scheduler='processes', num_workers=CORE_NUM):\n",
    "        f_par = functools.partial(func, *args, **kwargs)\n",
    "        result = compute([delayed(f_par)(item) for item in iterable])[0]\n",
    "    return result"
   ]
  },
  {
   "cell_type": "code",
   "execution_count": 47,
   "metadata": {},
   "outputs": [],
   "source": [
    "def save(data, path):\n",
    "    serialized = cPickle.dumps(data)\n",
    "    with gzip.open(path, 'wb', compresslevel=1) as file_object:\n",
    "        file_object.write(serialized)"
   ]
  },
  {
   "cell_type": "code",
   "execution_count": 48,
   "metadata": {},
   "outputs": [
    {
     "data": {
      "text/plain": [
       "0          69.42\n",
       "1          69.47\n",
       "2          69.42\n",
       "3          69.48\n",
       "4          69.65\n",
       "           ...  \n",
       "1073071    52.73\n",
       "1073072    52.71\n",
       "1073073    52.71\n",
       "1073074    52.73\n",
       "1073075    52.74\n",
       "Name: bid1, Length: 1073076, dtype: float64"
      ]
     },
     "execution_count": 48,
     "metadata": {},
     "output_type": "execute_result"
    }
   ],
   "source": [
    "data[\"bid1\"]"
   ]
  },
  {
   "cell_type": "code",
   "execution_count": 49,
   "metadata": {},
   "outputs": [
    {
     "data": {
      "text/plain": [
       "0          69.47\n",
       "1          69.42\n",
       "2          69.48\n",
       "3          69.65\n",
       "4          69.65\n",
       "           ...  \n",
       "1073071    52.71\n",
       "1073072    52.71\n",
       "1073073    52.73\n",
       "1073074    52.74\n",
       "1073075      NaN\n",
       "Name: bid1, Length: 1073076, dtype: float64"
      ]
     },
     "execution_count": 49,
     "metadata": {},
     "output_type": "execute_result"
    }
   ],
   "source": [
    "data[\"bid1\"].shift(-1)"
   ]
  },
  {
   "cell_type": "code",
   "execution_count": 50,
   "metadata": {},
   "outputs": [],
   "source": [
    "def addWpr(date, product):\n",
    "    data = load(DATA_PATH+\"/\"+product+\"/\"+date)\n",
    "    data[\"wpr\"] = (data[\"bid1\"]*data[\"ask1.qty\"]+data[\"ask1\"]*data[\"bid1.qty\"])/(data[\"bid1.qty\"]+data[\"ask1.qty\"])\n",
    "    outlier = (data[\"bid1\"]<1e-6) | (data[\"ask1\"]<1e-6) | (np.isnan(data[\"wpr\"]))\n",
    "    data[\"wpr\"][outlier] = data[\"price\"][outlier]\n",
    "    data[\"next.bid\"] = data[\"bid1\"].shift(-1)\n",
    "    data[\"next.ask\"] = data[\"ask1\"].shift(-1)\n",
    "    data[\"wpr\"] = data[\"wpr\"]*data[\"adjust\"]\n",
    "    data[\"wpr.ret\"] = data[\"wpr\"]-data[\"wpr\"].shift(1)\n",
    "    data[\"wpr.ret\"][0] = 0\n",
    "    data[\"ret\"] = np.log(data[\"wpr\"]) - np.log(data[\"wpr\"]).shift(1)\n",
    "    data[\"ret\"][0] = 0\n",
    "    save(data, DATA_PATH+\"/\"+product+\"/\"+date)"
   ]
  },
  {
   "cell_type": "code",
   "execution_count": 55,
   "metadata": {},
   "outputs": [
    {
     "name": "stdout",
     "output_type": "stream",
     "text": [
      "CPU times: user 183 ms, sys: 150 ms, total: 333 ms\n",
      "Wall time: 1min 3s\n"
     ]
    }
   ],
   "source": [
    "%%time\n",
    "for product in product_list:\n",
    "    result = parLapply(CORE_NUM, all_dates, addWpr, product=product)\n",
    "\n",
    "\n",
    "## Wall time: 51.6 s\n"
   ]
  },
  {
   "cell_type": "code",
   "execution_count": 56,
   "metadata": {},
   "outputs": [],
   "source": [
    "product = product_list[0]\n",
    "data = load(DATA_PATH+\"/\"+product+\"/\"+\"2018.pkl\")"
   ]
  },
  {
   "cell_type": "code",
   "execution_count": 57,
   "metadata": {
    "scrolled": true
   },
   "outputs": [
    {
     "data": {
      "image/png": "[encoded data removed]",
      "text/plain": [
       "<Figure size 1152x720 with 1 Axes>"
      ]
     },
     "metadata": {
      "needs_background": "light"
     },
     "output_type": "display_data"
    }
   ],
   "source": [
    "plt.figure(1, figsize=(16, 10))\n",
    "plt.title(date)\n",
    "data[\"wpr.ret\"].values[0]=0\n",
    "plt.plot(data[\"wpr.ret\"].values);"
   ]
  },
  {
   "cell_type": "markdown",
   "metadata": {},
   "source": [
    "- plot price log return"
   ]
  },
  {
   "cell_type": "code",
   "execution_count": 58,
   "metadata": {
    "scrolled": true
   },
   "outputs": [
    {
     "data": {
      "image/png": "[encoded data removed]",
      "text/plain": [
       "<Figure size 1152x720 with 1 Axes>"
      ]
     },
     "metadata": {
      "needs_background": "light"
     },
     "output_type": "display_data"
    }
   ],
   "source": [
    "plt.figure(1, figsize=(16, 10))\n",
    "plt.title(date)\n",
    "plt.plot(data[\"ret\"].values);"
   ]
  },
  {
   "cell_type": "markdown",
   "metadata": {},
   "source": [
    "- count the number of rising ticks"
   ]
  },
  {
   "cell_type": "code",
   "execution_count": 59,
   "metadata": {},
   "outputs": [
    {
     "data": {
      "text/plain": [
       "0.4929790620608419"
      ]
     },
     "execution_count": 59,
     "metadata": {},
     "output_type": "execute_result"
    }
   ],
   "source": [
    "sum(data['ret']>0)/len(data)\n",
    "## 0.4929688111559666"
   ]
  },
  {
   "cell_type": "markdown",
   "metadata": {},
   "source": [
    "- count the number of falling ticks"
   ]
  },
  {
   "cell_type": "code",
   "execution_count": 60,
   "metadata": {},
   "outputs": [
    {
     "data": {
      "text/plain": [
       "0.4989879561186719"
      ]
     },
     "execution_count": 60,
     "metadata": {},
     "output_type": "execute_result"
    }
   ],
   "source": [
    "sum(data['ret']<0)/len(data)\n",
    "## 0.4989758414129102"
   ]
  },
  {
   "cell_type": "code",
   "execution_count": 61,
   "metadata": {},
   "outputs": [
    {
     "data": {
      "text/plain": [
       "0.008032981820486155"
      ]
     },
     "execution_count": 61,
     "metadata": {},
     "output_type": "execute_result"
    }
   ],
   "source": [
    "sum(data['ret']==0)/len(data)\n",
    "## 0.008029254218713306"
   ]
  },
  {
   "cell_type": "markdown",
   "metadata": {},
   "source": [
    "- count the number of total ticks"
   ]
  },
  {
   "cell_type": "code",
   "execution_count": 62,
   "metadata": {},
   "outputs": [
    {
     "data": {
      "text/plain": [
       "1073076"
      ]
     },
     "execution_count": 62,
     "metadata": {},
     "output_type": "execute_result"
    }
   ],
   "source": [
    "len(data)\n",
    "## 1073076"
   ]
  },
  {
   "cell_type": "markdown",
   "metadata": {},
   "source": [
    "- formula to calculate wpr:"
   ]
  },
  {
   "cell_type": "code",
   "execution_count": 63,
   "metadata": {},
   "outputs": [],
   "source": [
    "wpr = (data[\"bid1\"]*data[\"ask1.qty\"]+data[\"ask1\"]*data[\"bid1.qty\"])/(data[\"bid1.qty\"]+data[\"ask1.qty\"])"
   ]
  },
  {
   "cell_type": "markdown",
   "metadata": {},
   "source": [
    "- upper limit or lower limit"
   ]
  },
  {
   "cell_type": "code",
   "execution_count": 64,
   "metadata": {},
   "outputs": [],
   "source": [
    "limit = (data[\"ask1\"]<1e-6) | (data[\"bid1\"]<1e-6)"
   ]
  },
  {
   "cell_type": "markdown",
   "metadata": {},
   "source": [
    "- in this case, one of bid and ask price is zero, so using newest price as wpr"
   ]
  },
  {
   "cell_type": "code",
   "execution_count": 65,
   "metadata": {},
   "outputs": [],
   "source": [
    "wpr[limit] = data[\"price\"][limit]"
   ]
  },
  {
   "cell_type": "code",
   "execution_count": 66,
   "metadata": {},
   "outputs": [],
   "source": [
    "wpr = wpr*data[\"adjust\"]"
   ]
  },
  {
   "cell_type": "code",
   "execution_count": 67,
   "metadata": {
    "scrolled": true
   },
   "outputs": [
    {
     "data": {
      "text/plain": [
       "0    68.955392\n",
       "1    68.994422\n",
       "2    69.074469\n",
       "3    69.084858\n",
       "4    69.170258\n",
       "dtype: float64"
      ]
     },
     "execution_count": 67,
     "metadata": {},
     "output_type": "execute_result"
    }
   ],
   "source": [
    "wpr.head()\n",
    "\n",
    "#0    101.313748\n",
    "#1    101.371093\n",
    "#2    101.488703\n",
    "#3    101.503968\n",
    "#4    101.629443\n",
    "#dtype: float64\n",
    "\n"
   ]
  },
  {
   "cell_type": "code",
   "execution_count": 68,
   "metadata": {
    "scrolled": true
   },
   "outputs": [
    {
     "data": {
      "text/plain": [
       "0    68.955392\n",
       "1    68.994422\n",
       "2    69.074469\n",
       "3    69.084858\n",
       "4    69.170258\n",
       "Name: wpr, dtype: float64"
      ]
     },
     "execution_count": 68,
     "metadata": {},
     "output_type": "execute_result"
    }
   ],
   "source": [
    "data[\"wpr\"].head()\n",
    "\n",
    "\n",
    "#0    101.313748\n",
    "#1    101.371093\n",
    "#2    101.488703\n",
    "#3    101.503968\n",
    "#4    101.629443\n",
    "#Name: wpr, dtype: float64\n"
   ]
  },
  {
   "cell_type": "code",
   "execution_count": 69,
   "metadata": {},
   "outputs": [
    {
     "data": {
      "text/plain": [
       "0"
      ]
     },
     "execution_count": 69,
     "metadata": {},
     "output_type": "execute_result"
    }
   ],
   "source": [
    "sum(abs(wpr - data[\"wpr\"]) > 0.00000001)\n",
    "## 0"
   ]
  },
  {
   "cell_type": "markdown",
   "metadata": {},
   "source": [
    "- stationary test for return series"
   ]
  },
  {
   "cell_type": "markdown",
   "metadata": {},
   "source": [
    "- load related package"
   ]
  },
  {
   "cell_type": "code",
   "execution_count": 70,
   "metadata": {},
   "outputs": [],
   "source": [
    "import statsmodels.tsa.stattools as ts"
   ]
  },
  {
   "cell_type": "code",
   "execution_count": 71,
   "metadata": {},
   "outputs": [
    {
     "data": {
      "text/plain": [
       "(-104.5218405052191,\n",
       " 0.0,\n",
       " 102,\n",
       " 1072973,\n",
       " {'1%': -3.958778437422465,\n",
       "  '5%': -3.4104940918163096,\n",
       "  '10%': -3.127052409756497})"
      ]
     },
     "execution_count": 71,
     "metadata": {},
     "output_type": "execute_result"
    }
   ],
   "source": [
    "result = ts.adfuller(data[\"ret\"], maxlag=int(pow(len(data[\"ret\"])-1,(1/3))), regression='ct', autolag=None)\n",
    "result\n",
    "\n",
    "#(-102.45762905660685,\n",
    "# 0.0,\n",
    "# 102,\n",
    "# 1072973,\n",
    "# {'1%': -3.958778437422465,\n",
    "#  '5%': -3.4104940918163096,\n",
    "#  '10%': -3.127052409756497})\n",
    "\n",
    "## for this test the smaller the value the more stationary it is\n",
    "## so it's stationary"
   ]
  },
  {
   "cell_type": "code",
   "execution_count": 72,
   "metadata": {},
   "outputs": [
    {
     "name": "stderr",
     "output_type": "stream",
     "text": [
      "/Users/hunkguo/anaconda3/envs/py37/lib/python3.7/site-packages/statsmodels/tsa/stattools.py:1886: InterpolationWarning: The test statistic is outside of the range of p-values available in the\n",
      "look-up table. The actual p-value is greater than the p-value returned.\n",
      "\n",
      "  warn_msg.format(direction=\"greater\"), InterpolationWarning\n"
     ]
    },
    {
     "data": {
      "text/plain": [
       "(0.14539353378938544,\n",
       " 0.1,\n",
       " 3107,\n",
       " {'10%': 0.347, '5%': 0.463, '2.5%': 0.574, '1%': 0.739})"
      ]
     },
     "execution_count": 72,
     "metadata": {},
     "output_type": "execute_result"
    }
   ],
   "source": [
    "result = ts.kpss(data[\"ret\"], regression='c', lags=int(3*math.sqrt(len(data[\"ret\"]))))\n",
    "result\n",
    "                 \n",
    "#(0.28987911092066426,\n",
    "# 0.1,\n",
    "# 3107,\n",
    "# {'10%': 0.347, '5%': 0.463, '2.5%': 0.574, '1%': 0.739})                                                    \n",
    "                                                                   \n",
    "                                                                    \n",
    "\n",
    "    ## for KPSS test, small value means level stationary, large value means trend\n",
    "    ## its p-value is 0.1 so it's stationary"
   ]
  },
  {
   "cell_type": "markdown",
   "metadata": {},
   "source": [
    "- get price movements of 120 ticks, it's about 1 minute"
   ]
  },
  {
   "cell_type": "code",
   "execution_count": 73,
   "metadata": {},
   "outputs": [],
   "source": [
    "ret_120 = (data[\"ret\"].rolling(120).sum()).dropna().reset_index(drop=True)"
   ]
  },
  {
   "cell_type": "markdown",
   "metadata": {},
   "source": [
    "- check correctness"
   ]
  },
  {
   "cell_type": "code",
   "execution_count": 74,
   "metadata": {},
   "outputs": [
    {
     "data": {
      "text/plain": [
       "0.003527416579582443"
      ]
     },
     "execution_count": 74,
     "metadata": {},
     "output_type": "execute_result"
    }
   ],
   "source": [
    "sum(data[\"ret\"][0:120])\n",
    "## 0.003527416579581555"
   ]
  },
  {
   "cell_type": "code",
   "execution_count": 75,
   "metadata": {},
   "outputs": [
    {
     "data": {
      "text/plain": [
       "0.003527416579582443"
      ]
     },
     "execution_count": 75,
     "metadata": {},
     "output_type": "execute_result"
    }
   ],
   "source": [
    "ret_120.iloc[0]\n",
    "## 0.003527416579581555"
   ]
  },
  {
   "cell_type": "markdown",
   "metadata": {},
   "source": [
    "- plot the price movements of 120 ticks"
   ]
  },
  {
   "cell_type": "code",
   "execution_count": 76,
   "metadata": {},
   "outputs": [
    {
     "data": {
      "image/png": "[encoded data removed]",
      "text/plain": [
       "<Figure size 1152x720 with 1 Axes>"
      ]
     },
     "metadata": {
      "needs_background": "light"
     },
     "output_type": "display_data"
    }
   ],
   "source": [
    "plt.figure(1, figsize=(16, 10))\n",
    "plt.title(date)\n",
    "plt.plot(ret_120.values);"
   ]
  },
  {
   "cell_type": "code",
   "execution_count": 77,
   "metadata": {},
   "outputs": [
    {
     "data": {
      "text/plain": [
       "1072957"
      ]
     },
     "execution_count": 77,
     "metadata": {},
     "output_type": "execute_result"
    }
   ],
   "source": [
    "len(ret_120)\n",
    "## 1072957"
   ]
  },
  {
   "cell_type": "code",
   "execution_count": 78,
   "metadata": {},
   "outputs": [
    {
     "data": {
      "text/plain": [
       "1073076"
      ]
     },
     "execution_count": 78,
     "metadata": {},
     "output_type": "execute_result"
    }
   ],
   "source": [
    "len(data)\n",
    "## 1073076"
   ]
  },
  {
   "cell_type": "code",
   "execution_count": 79,
   "metadata": {},
   "outputs": [],
   "source": [
    "range_120 = ((np.mod(np.arange(0, len(data)),120)==0))[119:]"
   ]
  },
  {
   "cell_type": "code",
   "execution_count": 80,
   "metadata": {},
   "outputs": [
    {
     "data": {
      "text/plain": [
       "1072957"
      ]
     },
     "execution_count": 80,
     "metadata": {},
     "output_type": "execute_result"
    }
   ],
   "source": [
    "len(ret_120)\n",
    "## 1072957"
   ]
  },
  {
   "cell_type": "code",
   "execution_count": 81,
   "metadata": {},
   "outputs": [
    {
     "data": {
      "text/plain": [
       "1          0.003599\n",
       "121       -0.006373\n",
       "241        0.000296\n",
       "361       -0.007063\n",
       "481       -0.004508\n",
       "             ...   \n",
       "1072441   -0.001553\n",
       "1072561    0.001630\n",
       "1072681   -0.000886\n",
       "1072801   -0.001472\n",
       "1072921    0.004821\n",
       "Name: ret, Length: 8942, dtype: float64"
      ]
     },
     "execution_count": 81,
     "metadata": {},
     "output_type": "execute_result"
    }
   ],
   "source": [
    "ret_120.iloc[np.where(range_120)]\n",
    "\n",
    "#1          0.003599\n",
    "#121       -0.006373\n",
    "#241        0.000296\n",
    "#361       -0.007063\n",
    "#481       -0.004508\n",
    "#             ...   \n",
    "#1072441   -0.001553\n",
    "#1072561    0.001630\n",
    "#1072681   -0.000886\n",
    "#1072801   -0.001472\n",
    "#1072921    0.004821\n",
    "#Name: ret, Length: 8942, dtype: float64"
   ]
  },
  {
   "cell_type": "markdown",
   "metadata": {},
   "source": [
    "- test whether ret.120 is stationary"
   ]
  },
  {
   "cell_type": "code",
   "execution_count": 82,
   "metadata": {
    "scrolled": true
   },
   "outputs": [
    {
     "data": {
      "text/plain": [
       "(-19.28676303538883,\n",
       " 0.0,\n",
       " 20,\n",
       " 8921,\n",
       " {'1%': -3.9597851651523333,\n",
       "  '5%': -3.4109822557405076,\n",
       "  '10%': -3.1273398823286973})"
      ]
     },
     "execution_count": 82,
     "metadata": {},
     "output_type": "execute_result"
    }
   ],
   "source": [
    "result = ts.adfuller(ret_120.iloc[np.where(range_120)], maxlag=int(pow(len(ret_120.iloc[np.where(range_120)])-1,(1/3))), regression='ct', autolag=None)\n",
    "result\n",
    "\n",
    "#(-19.565107458213205,\n",
    "# 0.0,\n",
    "# 20,\n",
    "# 8921,\n",
    "# {'1%': -3.9597851651523333,\n",
    "#  '5%': -3.4109822557405076,\n",
    "#  '10%': -3.1273398823286973})"
   ]
  },
  {
   "cell_type": "code",
   "execution_count": 83,
   "metadata": {},
   "outputs": [
    {
     "name": "stderr",
     "output_type": "stream",
     "text": [
      "/Users/hunkguo/anaconda3/envs/py37/lib/python3.7/site-packages/statsmodels/tsa/stattools.py:1886: InterpolationWarning: The test statistic is outside of the range of p-values available in the\n",
      "look-up table. The actual p-value is greater than the p-value returned.\n",
      "\n",
      "  warn_msg.format(direction=\"greater\"), InterpolationWarning\n"
     ]
    },
    {
     "data": {
      "text/plain": [
       "(0.14828329212577354,\n",
       " 0.1,\n",
       " 21,\n",
       " {'10%': 0.347, '5%': 0.463, '2.5%': 0.574, '1%': 0.739})"
      ]
     },
     "execution_count": 83,
     "metadata": {},
     "output_type": "execute_result"
    }
   ],
   "source": [
    "result = ts.kpss(ret_120.iloc[np.where(range_120)], regression='c', lags=int(3*math.sqrt(len(ret_120.iloc[np.where(range_120)]))/13))\n",
    "result\n",
    "\n",
    "#(0.2945675341590547,\n",
    "# 0.1,\n",
    "# 21,\n",
    "# {'10%': 0.347, '5%': 0.463, '2.5%': 0.574, '1%': 0.739})\n",
    "\n",
    "## it's still stationary"
   ]
  },
  {
   "cell_type": "markdown",
   "metadata": {},
   "source": [
    "- we can check longer period"
   ]
  },
  {
   "cell_type": "code",
   "execution_count": 84,
   "metadata": {},
   "outputs": [],
   "source": [
    "ret_2000 = (data[\"ret\"].rolling(2000).sum()).dropna().reset_index(drop=True)"
   ]
  },
  {
   "cell_type": "markdown",
   "metadata": {},
   "source": [
    "- plot the price change"
   ]
  },
  {
   "cell_type": "code",
   "execution_count": 85,
   "metadata": {},
   "outputs": [
    {
     "data": {
      "image/png": "[encoded data removed]",
      "text/plain": [
       "<Figure size 1152x720 with 1 Axes>"
      ]
     },
     "metadata": {
      "needs_background": "light"
     },
     "output_type": "display_data"
    }
   ],
   "source": [
    "plt.figure(1, figsize=(16, 10))\n",
    "plt.title(date)\n",
    "plt.plot(ret_2000.values);"
   ]
  },
  {
   "cell_type": "code",
   "execution_count": 86,
   "metadata": {},
   "outputs": [
    {
     "data": {
      "text/plain": [
       "536"
      ]
     },
     "execution_count": 86,
     "metadata": {},
     "output_type": "execute_result"
    }
   ],
   "source": [
    "sum((np.mod(np.arange(1, len(data)+1),2000)==0))\n",
    "## 536"
   ]
  },
  {
   "cell_type": "markdown",
   "metadata": {},
   "source": [
    "- So there are too few points to test for stationary"
   ]
  },
  {
   "cell_type": "code",
   "execution_count": 87,
   "metadata": {},
   "outputs": [],
   "source": [
    "import pandas as pd\n",
    "import _pickle as cPickle\n",
    "import gzip"
   ]
  },
  {
   "cell_type": "code",
   "execution_count": null,
   "metadata": {},
   "outputs": [],
   "source": []
  },
  {
   "cell_type": "markdown",
   "metadata": {},
   "source": [
    "- there may be too few data\n",
    "- we can check for more days"
   ]
  },
  {
   "cell_type": "code",
   "execution_count": 88,
   "metadata": {},
   "outputs": [],
   "source": [
    "def get_sample_ret(date, period):\n",
    "    data = load(DATA_PATH + product+\"/\"+date)\n",
    "    ret = (data[\"ret\"].rolling(period).sum()).dropna().reset_index(drop=True)\n",
    "    range = ((np.mod(np.arange(0, len(data)),period)==0))[(period-1):]\n",
    "    return ret.iloc[np.where(range)]\n"
   ]
  },
  {
   "cell_type": "code",
   "execution_count": 89,
   "metadata": {},
   "outputs": [
    {
     "name": "stdout",
     "output_type": "stream",
     "text": [
      "CPU times: user 36 ms, sys: 42.6 ms, total: 78.6 ms\n",
      "Wall time: 5.09 s\n"
     ]
    },
    {
     "data": {
      "text/plain": [
       "''"
      ]
     },
     "execution_count": 89,
     "metadata": {},
     "output_type": "execute_result"
    }
   ],
   "source": [
    "%%time\n",
    "result = parLapply(CORE_NUM, all_dates, get_sample_ret, period=4096)\n",
    ";\n",
    "\n",
    "# Wall time: 5.66 s"
   ]
  },
  {
   "cell_type": "code",
   "execution_count": 90,
   "metadata": {},
   "outputs": [],
   "source": [
    "from itertools import chain "
   ]
  },
  {
   "cell_type": "code",
   "execution_count": 91,
   "metadata": {},
   "outputs": [],
   "source": [
    "ret_long = list(chain.from_iterable(result)) "
   ]
  },
  {
   "cell_type": "code",
   "execution_count": 92,
   "metadata": {},
   "outputs": [
    {
     "data": {
      "image/png": "[encoded data removed]",
      "text/plain": [
       "<Figure size 1152x720 with 1 Axes>"
      ]
     },
     "metadata": {
      "needs_background": "light"
     },
     "output_type": "display_data"
    }
   ],
   "source": [
    "plt.figure(1, figsize=(16, 10))\n",
    "plt.title(\"all return_long\")\n",
    "plt.plot(ret_long);"
   ]
  },
  {
   "cell_type": "code",
   "execution_count": 93,
   "metadata": {},
   "outputs": [
    {
     "data": {
      "text/plain": [
       "(-10.8014401554166,\n",
       " 5.366409116477528e-17,\n",
       " 10,\n",
       " 1090,\n",
       " {'1%': -3.9670996272013985,\n",
       "  '5%': -3.414525530365729,\n",
       "  '10%': -3.129425430967183})"
      ]
     },
     "execution_count": 93,
     "metadata": {},
     "output_type": "execute_result"
    }
   ],
   "source": [
    "result = ts.adfuller(ret_long, maxlag=int(pow(len(ret_long)-1,(1/3))), regression='ct', autolag=None)\n",
    "result\n",
    "\n",
    "#(-10.7196397758502,\n",
    "# 7.761245360247944e-17,\n",
    "# 10,\n",
    "# 1090,\n",
    "# {'1%': -3.9670996272013985,\n",
    "#  '5%': -3.414525530365729,\n",
    "#  '10%': -3.129425430967183})\n",
    "\n",
    "## it's still stationary"
   ]
  },
  {
   "cell_type": "code",
   "execution_count": 94,
   "metadata": {},
   "outputs": [
    {
     "name": "stderr",
     "output_type": "stream",
     "text": [
      "/Users/hunkguo/anaconda3/envs/py37/lib/python3.7/site-packages/statsmodels/tsa/stattools.py:1886: InterpolationWarning: The test statistic is outside of the range of p-values available in the\n",
      "look-up table. The actual p-value is greater than the p-value returned.\n",
      "\n",
      "  warn_msg.format(direction=\"greater\"), InterpolationWarning\n"
     ]
    },
    {
     "data": {
      "text/plain": [
       "(0.1469636207227964,\n",
       " 0.1,\n",
       " 7,\n",
       " {'10%': 0.347, '5%': 0.463, '2.5%': 0.574, '1%': 0.739})"
      ]
     },
     "execution_count": 94,
     "metadata": {},
     "output_type": "execute_result"
    }
   ],
   "source": [
    "result = ts.kpss(ret_long, regression='c', lags=int(3*math.sqrt(len(ret_long))/13))\n",
    "result\n",
    "\n",
    "#(0.10582252718299393,\n",
    "# 0.1,\n",
    "# 7,\n",
    "# {'10%': 0.347, '5%': 0.463, '2.5%': 0.574, '1%': 0.739})\n",
    "\n",
    "# ## p-value is 0.1 so it's stationary"
   ]
  },
  {
   "cell_type": "markdown",
   "metadata": {},
   "source": [
    "- we can see that, it's still stationary for 4096 ticks\n",
    "\n",
    "\n",
    "- check simple strategy\n",
    "\n",
    "\n",
    "- set triger threshold"
   ]
  },
  {
   "cell_type": "code",
   "execution_count": 95,
   "metadata": {},
   "outputs": [
    {
     "data": {
      "text/plain": [
       "1101"
      ]
     },
     "execution_count": 95,
     "metadata": {},
     "output_type": "execute_result"
    }
   ],
   "source": [
    "threshold = 0.001\n",
    "len(ret_long)\n",
    "# 1101"
   ]
  },
  {
   "cell_type": "markdown",
   "metadata": {},
   "source": [
    "\n",
    "- make up the return series to match uo with original data"
   ]
  },
  {
   "cell_type": "markdown",
   "metadata": {},
   "source": [
    "- plot price series"
   ]
  },
  {
   "cell_type": "markdown",
   "metadata": {},
   "source": [
    "- number of ticks above the threshold, to be long position"
   ]
  },
  {
   "cell_type": "code",
   "execution_count": 96,
   "metadata": {},
   "outputs": [
    {
     "data": {
      "text/plain": [
       "564"
      ]
     },
     "execution_count": 96,
     "metadata": {},
     "output_type": "execute_result"
    }
   ],
   "source": [
    "sum(np.array(ret_long)>threshold)\n",
    "## 568"
   ]
  },
  {
   "cell_type": "markdown",
   "metadata": {},
   "source": [
    "- number of ticks below negetive threshold, to be short position"
   ]
  },
  {
   "cell_type": "code",
   "execution_count": 97,
   "metadata": {},
   "outputs": [
    {
     "data": {
      "text/plain": [
       "484"
      ]
     },
     "execution_count": 97,
     "metadata": {},
     "output_type": "execute_result"
    }
   ],
   "source": [
    "sum(np.array(ret_long)< -threshold)\n",
    "## 480"
   ]
  },
  {
   "cell_type": "markdown",
   "metadata": {},
   "source": [
    "- set position\n",
    "\n",
    "\n",
    "- number of ticks"
   ]
  },
  {
   "cell_type": "markdown",
   "metadata": {},
   "source": [
    "## ############## The following part is bad example of trading ##########"
   ]
  },
  {
   "cell_type": "markdown",
   "metadata": {},
   "source": [
    "- set position just the sanme as signal"
   ]
  },
  {
   "cell_type": "code",
   "execution_count": 98,
   "metadata": {},
   "outputs": [],
   "source": [
    "## backtest method: signal value decides position\n",
    "from collections import OrderedDict\n",
    "def get_daily_pnl_fast(date, product=\"rb\", period=4096, threshold=0.001, buy_tranct=1.5e-4, sell_tranct=11.5e-4, noise=0):\n",
    "    with gzip.open(dire+\"/\"+date, 'rb', compresslevel=1) as file_object:\n",
    "        raw_data = file_object.read()\n",
    "    data = cPickle.loads(raw_data) ## original data\n",
    "    n_bar = len(data)  ## number of bars\n",
    "    unit = np.std(data[\"ret\"]) ## standard deviation of return\n",
    "    np.random.seed(10)\n",
    "    ##  we repeat the above code to get daily result\n",
    "    ret_long = (data[\"ret\"].rolling(period).sum()).dropna().reset_index(drop=True) ## future return, used as signal\n",
    "    ret_long = ret_long.append(pd.Series([0]*(len(data)-len(ret_long)))).reset_index(drop=True)\n",
    "    signal = pd.Series([0] * n_bar)\n",
    "    signal[(ret_long>threshold) & (np.array(data[\"next.ask\"])>0)] = 1 ## signal>thre, position =1\n",
    "    signal[(ret_long< -threshold) & (np.array(data[\"next.bid\"])>0)] = -1 ## signal< -thre, position = -1\n",
    "    position=signal\n",
    "    position[0]=0\n",
    "    position[n_bar-1] = 0 ## close position before the end of day\n",
    "    position[n_bar-2] = 0\n",
    "    change_pos = position - position.shift(1)\n",
    "    change_pos[0] = 0\n",
    "    change_base = np.zeros(n_bar)\n",
    "    change_buy = np.array(change_pos>0)\n",
    "    change_sell = np.array(change_pos<0)\n",
    "    change_base[change_buy] = data[\"next.ask\"][change_buy]*(1+buy_tranct) ## buy price, use next ask, tranct cost use notional*ratio\n",
    "    change_base[change_sell] = data[\"next.bid\"][change_sell]*(1-sell_tranct) ## sell price use next bid\n",
    "    raw_pnl = -(change_base*change_pos).cumsum()+position*data[\"price\"]\n",
    "    date = np.array([x[0:10] for x in data[\"date.time\"]])\n",
    "    next_date = np.append(date[1:],'1')\n",
    "    end_day = date!=next_date\n",
    "    final_pnl = -sum(change_base*change_pos) ## total pnl, there is a negative sign, because selling get money and buying pay money\n",
    "    turnover = sum(change_base*abs(change_pos))\n",
    "    num = sum((position!=0) & (change_pos!=0)) ## number of trades\n",
    "    hld_period = sum(position!=0)   ## holding period\n",
    "    daily_pnl = raw_pnl[end_day].reset_index(drop=True)\n",
    "    pnl = np.append(daily_pnl[0], np.diff(daily_pnl))\n",
    "    ## finally we combine the statistics into a data frame\n",
    "    #result = pd.DataFrame({\"final.pnl\": final_pnl, \"turnover\": turnover, \"num\": num, \"hld.period\": hld_period}, index=[0])\n",
    "    #result = {\"date\": date, \"final.pnl\": final_pnl, \"turnover\": turnover, \"num\": num, \"hld.period\": hld_period}\n",
    "    result = OrderedDict([(\"date\", date[end_day]), (\"pnl\", pnl),\n",
    "                          (\"final.pnl\", final_pnl), (\"turnover\", turnover), (\"num\", num), (\"hld.period\", hld_period)])\n",
    "    return result"
   ]
  },
  {
   "cell_type": "markdown",
   "metadata": {},
   "source": [
    "- we try one day as an example"
   ]
  },
  {
   "cell_type": "code",
   "execution_count": 99,
   "metadata": {},
   "outputs": [],
   "source": [
    "import dask\n",
    "from dask import compute, delayed\n",
    "\n",
    "result = get_daily_pnl_fast(all_dates[0], product=product_list[0], period=4096, threshold=0.001)\n",
    "\n",
    "#OrderedDict([('date', '2016.pkl'),\n",
    "#             ('final.pnl', -438.0912635000209),\n",
    "#             ('turnover', 496273.30427149584),\n",
    "#             ('num', 5509),\n",
    "#             ('hld.period', 607461)])"
   ]
  },
  {
   "cell_type": "markdown",
   "metadata": {},
   "source": [
    "- Then we use it for all days"
   ]
  },
  {
   "cell_type": "code",
   "execution_count": 100,
   "metadata": {},
   "outputs": [
    {
     "name": "stdout",
     "output_type": "stream",
     "text": [
      "CPU times: user 44.4 ms, sys: 37.9 ms, total: 82.3 ms\n",
      "Wall time: 12.2 s\n"
     ]
    }
   ],
   "source": [
    "%%time\n",
    "import functools\n",
    "with dask.config.set(scheduler='processes', num_workers=CORE_NUM):\n",
    "    f_par = functools.partial(get_daily_pnl_fast, product=product_list[0], period=4096, threshold=0.001, noise=0)\n",
    "    result = compute([delayed(f_par)(date) for date in all_dates])[0]\n",
    "    \n",
    "# Wall time: 7.21 s"
   ]
  },
  {
   "cell_type": "markdown",
   "metadata": {},
   "source": [
    "- Now we can use a function to check its performance"
   ]
  },
  {
   "cell_type": "code",
   "execution_count": 101,
   "metadata": {},
   "outputs": [],
   "source": [
    "from collections import OrderedDict\n",
    "def get_performance(result, spread=1):\n",
    "    date = []\n",
    "    pnl = []\n",
    "    num = 0\n",
    "    hld = 0\n",
    "    for i in range(len(result)):\n",
    "        date = np.append(date, result[i][\"date\"])\n",
    "        pnl = np.append(pnl, result[i][\"pnl\"])\n",
    "        num += result[i][\"num\"]\n",
    "        hld += result[i][\"hld.period\"]\n",
    "    date_format = [pd.to_datetime(d) for d in date]\n",
    "    plt.figure(1, figsize=(16, 10))\n",
    "    plt.title(\"\")\n",
    "    plt.xlabel(\"date\")\n",
    "    plt.ylabel(\"pnl\")\n",
    "    plt.plot(date_format, pnl.cumsum())\n",
    "    n_days = len(date)\n",
    "    if num==0:\n",
    "        return;\n",
    "    if (pnl.std()==0):\n",
    "        sharpe = 0\n",
    "    else:\n",
    "        sharpe = pnl.mean()/pnl.std()*math.sqrt(250)\n",
    "    pnl_pd = pd.Series(pnl.cumsum())\n",
    "    drawdown = max(pnl_pd.cummax()-pnl_pd)/pnl_pd.iloc[-1]\n",
    "    mar = 1/drawdown\n",
    "    win_ratio = sum(pnl>0)/n_days\n",
    "   \n",
    "    avg_pnl = sum(pnl)/num\n",
    "    hld_period = hld/num\n",
    "    return OrderedDict([(\"sharpe\", sharpe), (\"drawdown\", drawdown), (\"mar\", mar), (\"win.ratio\", win_ratio)\n",
    "                        , (\"num\", num/n_days), (\"avg.pnl\", avg_pnl), (\"hld.period\", hld_period)])"
   ]
  },
  {
   "cell_type": "code",
   "execution_count": 102,
   "metadata": {},
   "outputs": [
    {
     "data": {
      "text/html": [
       "<div>\n",
       "<style scoped>\n",
       "    .dataframe tbody tr th:only-of-type {\n",
       "        vertical-align: middle;\n",
       "    }\n",
       "\n",
       "    .dataframe tbody tr th {\n",
       "        vertical-align: top;\n",
       "    }\n",
       "\n",
       "    .dataframe thead th {\n",
       "        text-align: right;\n",
       "    }\n",
       "</style>\n",
       "<table border=\"1\" class=\"dataframe\">\n",
       "  <thead>\n",
       "    <tr style=\"text-align: right;\">\n",
       "      <th></th>\n",
       "      <th>sharpe</th>\n",
       "      <th>drawdown</th>\n",
       "      <th>mar</th>\n",
       "      <th>win.ratio</th>\n",
       "      <th>num</th>\n",
       "      <th>avg.pnl</th>\n",
       "      <th>hld.period</th>\n",
       "    </tr>\n",
       "  </thead>\n",
       "  <tbody>\n",
       "    <tr>\n",
       "      <th>0</th>\n",
       "      <td>-9.063225</td>\n",
       "      <td>-0.998596</td>\n",
       "      <td>-1.001406</td>\n",
       "      <td>0.282855</td>\n",
       "      <td>25.127067</td>\n",
       "      <td>-0.074453</td>\n",
       "      <td>148.257075</td>\n",
       "    </tr>\n",
       "  </tbody>\n",
       "</table>\n",
       "</div>"
      ],
      "text/plain": [
       "     sharpe  drawdown       mar  win.ratio        num   avg.pnl  hld.period\n",
       "0 -9.063225 -0.998596 -1.001406   0.282855  25.127067 -0.074453  148.257075"
      ]
     },
     "execution_count": 102,
     "metadata": {},
     "output_type": "execute_result"
    },
    {
     "data": {
      "image/png": "[encoded data removed]",
      "text/plain": [
       "<Figure size 1152x720 with 1 Axes>"
      ]
     },
     "metadata": {
      "needs_background": "light"
     },
     "output_type": "display_data"
    }
   ],
   "source": [
    "pd.DataFrame(get_performance(result, 1), index=[0])\n",
    "\n",
    "# sharpe \tdrawdown \tmar \twin.ratio \tnum \tavg.pnl \thld.period\n",
    "# 0 \t-2.325627 \t-1.07531 \t-0.929965 \t0.105699 \t84.378676 \t-1.891106 \t295.119951\n",
    "\n"
   ]
  },
  {
   "cell_type": "markdown",
   "metadata": {},
   "source": [
    "- we can see it's really bad\n",
    "- we can try increasing threshold"
   ]
  },
  {
   "cell_type": "code",
   "execution_count": 103,
   "metadata": {},
   "outputs": [
    {
     "name": "stdout",
     "output_type": "stream",
     "text": [
      "CPU times: user 46.7 ms, sys: 35.1 ms, total: 81.8 ms\n",
      "Wall time: 9.35 s\n"
     ]
    }
   ],
   "source": [
    "%%time\n",
    "import functools\n",
    "with dask.config.set(scheduler='processes', num_workers=CORE_NUM):\n",
    "    f_par = functools.partial(get_daily_pnl_fast, product=product_list[0], period=4096, threshold=0.01,  noise=0)\n",
    "    result_2 = compute([delayed(f_par)(date) for date in all_dates])[0]"
   ]
  },
  {
   "cell_type": "code",
   "execution_count": 104,
   "metadata": {},
   "outputs": [
    {
     "data": {
      "text/html": [
       "<div>\n",
       "<style scoped>\n",
       "    .dataframe tbody tr th:only-of-type {\n",
       "        vertical-align: middle;\n",
       "    }\n",
       "\n",
       "    .dataframe tbody tr th {\n",
       "        vertical-align: top;\n",
       "    }\n",
       "\n",
       "    .dataframe thead th {\n",
       "        text-align: right;\n",
       "    }\n",
       "</style>\n",
       "<table border=\"1\" class=\"dataframe\">\n",
       "  <thead>\n",
       "    <tr style=\"text-align: right;\">\n",
       "      <th></th>\n",
       "      <th>sharpe</th>\n",
       "      <th>drawdown</th>\n",
       "      <th>mar</th>\n",
       "      <th>win.ratio</th>\n",
       "      <th>num</th>\n",
       "      <th>avg.pnl</th>\n",
       "      <th>hld.period</th>\n",
       "    </tr>\n",
       "  </thead>\n",
       "  <tbody>\n",
       "    <tr>\n",
       "      <th>0</th>\n",
       "      <td>-9.662201</td>\n",
       "      <td>-0.999481</td>\n",
       "      <td>-1.000519</td>\n",
       "      <td>0.192341</td>\n",
       "      <td>19.504787</td>\n",
       "      <td>-0.070437</td>\n",
       "      <td>110.785641</td>\n",
       "    </tr>\n",
       "  </tbody>\n",
       "</table>\n",
       "</div>"
      ],
      "text/plain": [
       "     sharpe  drawdown       mar  win.ratio        num   avg.pnl  hld.period\n",
       "0 -9.662201 -0.999481 -1.000519   0.192341  19.504787 -0.070437  110.785641"
      ]
     },
     "execution_count": 104,
     "metadata": {},
     "output_type": "execute_result"
    },
    {
     "data": {
      "image/png": "[encoded data removed]",
      "text/plain": [
       "<Figure size 1152x720 with 1 Axes>"
      ]
     },
     "metadata": {
      "needs_background": "light"
     },
     "output_type": "display_data"
    }
   ],
   "source": [
    "pd.DataFrame(get_performance(result_2), index=[0])\n",
    "\n",
    "#sharpe \tdrawdown \tmar \twin.ratio \tnum \tavg.pnl \thld.period\n",
    "#0 \t-10.890261 \t-0.99951 \t-1.000491 \t0.18886 \t19.569191 \t-0.07432 \t110.308517"
   ]
  },
  {
   "cell_type": "code",
   "execution_count": 105,
   "metadata": {},
   "outputs": [
    {
     "name": "stdout",
     "output_type": "stream",
     "text": [
      "CPU times: user 46.1 ms, sys: 34.3 ms, total: 80.3 ms\n",
      "Wall time: 8.64 s\n"
     ]
    }
   ],
   "source": [
    "%%time\n",
    "import functools\n",
    "with dask.config.set(scheduler='processes', num_workers=CORE_NUM):\n",
    "    f_par = functools.partial(get_daily_pnl_fast, product=product_list[0], period=4096, threshold=0.02, noise=0)\n",
    "    result_3 = compute([delayed(f_par)(date) for date in all_dates])[0]"
   ]
  },
  {
   "cell_type": "code",
   "execution_count": 106,
   "metadata": {},
   "outputs": [
    {
     "data": {
      "text/html": [
       "<div>\n",
       "<style scoped>\n",
       "    .dataframe tbody tr th:only-of-type {\n",
       "        vertical-align: middle;\n",
       "    }\n",
       "\n",
       "    .dataframe tbody tr th {\n",
       "        vertical-align: top;\n",
       "    }\n",
       "\n",
       "    .dataframe thead th {\n",
       "        text-align: right;\n",
       "    }\n",
       "</style>\n",
       "<table border=\"1\" class=\"dataframe\">\n",
       "  <thead>\n",
       "    <tr style=\"text-align: right;\">\n",
       "      <th></th>\n",
       "      <th>sharpe</th>\n",
       "      <th>drawdown</th>\n",
       "      <th>mar</th>\n",
       "      <th>win.ratio</th>\n",
       "      <th>num</th>\n",
       "      <th>avg.pnl</th>\n",
       "      <th>hld.period</th>\n",
       "    </tr>\n",
       "  </thead>\n",
       "  <tbody>\n",
       "    <tr>\n",
       "      <th>0</th>\n",
       "      <td>-5.984634</td>\n",
       "      <td>-1.000992</td>\n",
       "      <td>-0.999009</td>\n",
       "      <td>0.185379</td>\n",
       "      <td>11.166232</td>\n",
       "      <td>-0.065539</td>\n",
       "      <td>93.254793</td>\n",
       "    </tr>\n",
       "  </tbody>\n",
       "</table>\n",
       "</div>"
      ],
      "text/plain": [
       "     sharpe  drawdown       mar  win.ratio        num   avg.pnl  hld.period\n",
       "0 -5.984634 -1.000992 -0.999009   0.185379  11.166232 -0.065539   93.254793"
      ]
     },
     "execution_count": 106,
     "metadata": {},
     "output_type": "execute_result"
    },
    {
     "data": {
      "image/png": "[encoded data removed]",
      "text/plain": [
       "<Figure size 1152x720 with 1 Axes>"
      ]
     },
     "metadata": {
      "needs_background": "light"
     },
     "output_type": "display_data"
    }
   ],
   "source": [
    "pd.DataFrame(get_performance(result_3, 1), index=[0])\n",
    "\n",
    "#sharpe \tdrawdown \tmar \twin.ratio \tnum \tavg.pnl \thld.period\n",
    "#0 \t-7.29792 \t-1.000902 \t-0.999099 \t0.182768 \t11.209748 \t-0.071771 \t92.431599"
   ]
  },
  {
   "cell_type": "markdown",
   "metadata": {},
   "source": [
    "- Although it's profitable there are very few trades.\n",
    "- Now we use a different scheme.\n",
    "- In previous scheme, we close our position when the value is not strong enough.\n",
    "- It may close the positions too soon that it cannot cover transaction cost on average\n",
    "- So we change our backtest method to make it holding positions longer"
   ]
  },
  {
   "cell_type": "code",
   "execution_count": 107,
   "metadata": {},
   "outputs": [],
   "source": [
    "## backtest use good method\n",
    "from collections import OrderedDict\n",
    "def get_daily_pnl(date, product=\"rb\", period=2000, threshold=0.001, buy_tranct=1.5e-4, sell_tranct=11.5e-4, noise=0):\n",
    "    with gzip.open(dire+\"/\"+date, 'rb', compresslevel=1) as file_object:\n",
    "        raw_data = file_object.read()\n",
    "    data = cPickle.loads(raw_data)\n",
    "    n_bar = len(data)\n",
    "    unit = np.std(data[\"ret\"])\n",
    "    np.random.seed(10)\n",
    "    noise_ret = np.random.normal(scale=unit*noise, size=n_bar)\n",
    "    ##  we repeat the above code to get daily result\n",
    "    ret_2000 = (data[\"ret\"].rolling(period).sum()).dropna().reset_index(drop=True)\n",
    "    ret_2000 = ret_2000.append(pd.Series([0]*(len(data)-len(ret_2000)))).reset_index(drop=True) + noise_ret\n",
    "    signal = pd.Series([0] * n_bar)\n",
    "    signal[ret_2000>threshold] = 1 #\n",
    "    signal[ret_2000< -threshold] = -1\n",
    "    position_pos = pd.Series([np.nan] * n_bar)\n",
    "    position_pos[0] = 0\n",
    "    position_pos[(signal==1) & (data[\"next.ask\"]>0) & (data[\"next.bid\"]>0)] = 1## if signal==1, position_pos=1\n",
    "    position_pos[(ret_2000< -threshold) & (data[\"next.bid\"]>0)] = 0  ## if ret< -threshold, position_pos=0\n",
    "    position_pos.ffill(inplace=True)\n",
    "    position_neg = pd.Series([np.nan] * n_bar)\n",
    "    position_neg[0] = 0\n",
    "    position_neg[(signal==-1) & (data[\"next.ask\"]>0) & (data[\"next.bid\"]>0)] = -1 ## if signal==-1, position_neg=-1\n",
    "    position_neg[(ret_2000> threshold) & (data[\"next.ask\"]>0)] = 0 ## if ret> threshold, position_neg=0\n",
    "    position_neg.ffill(inplace=True)\n",
    "    position = position_pos + position_neg ## total position\n",
    "    position[0]=0\n",
    "    position[n_bar-1] = 0\n",
    "    position[n_bar-2] = 0\n",
    "    change_pos = position - position.shift(1)\n",
    "    change_pos[0] = 0\n",
    "    change_base = pd.Series([0] * n_bar)\n",
    "    change_buy = change_pos>0\n",
    "    change_sell = change_pos<0\n",
    "    change_base[change_buy] = data[\"next.ask\"][change_buy]*(1+buy_tranct)\n",
    "    change_base[change_sell] = data[\"next.bid\"][change_sell]*(1-sell_tranct)\n",
    "    raw_pnl = -(change_base*change_pos).cumsum()+position*data[\"price\"]\n",
    "    date = np.array([x[0:10] for x in data[\"date.time\"]])\n",
    "    next_date = np.append(date[1:],'1')\n",
    "    end_day = date!=next_date\n",
    "    final_pnl = -sum(change_base*change_pos) ## total pnl, there is a negative sign, because selling get money and buying pay money\n",
    "    turnover = sum(change_base*abs(change_pos))\n",
    "    num = sum((position!=0) & (change_pos!=0)) ## number of trades\n",
    "    hld_period = sum(position!=0)   ## holding period\n",
    "    daily_pnl = raw_pnl[end_day].reset_index(drop=True)\n",
    "    pnl = np.append(daily_pnl[0], np.diff(daily_pnl))\n",
    "    ## finally we combine the statistics into a data frame\n",
    "    #result = pd.DataFrame({\"final.pnl\": final_pnl, \"turnover\": turnover, \"num\": num, \"hld.period\": hld_period}, index=[0])\n",
    "    #result = {\"date\": date, \"final.pnl\": final_pnl, \"turnover\": turnover, \"num\": num, \"hld.period\": hld_period}\n",
    "    result = OrderedDict([(\"date\", date[end_day]), (\"pnl\", pnl),\n",
    "                          (\"final.pnl\", final_pnl), (\"turnover\", turnover), (\"num\", num), (\"hld.period\", hld_period)])\n",
    "    return result"
   ]
  },
  {
   "cell_type": "markdown",
   "metadata": {},
   "source": [
    "- we use the parallel libary here"
   ]
  },
  {
   "cell_type": "code",
   "execution_count": 108,
   "metadata": {
    "scrolled": true
   },
   "outputs": [
    {
     "name": "stdout",
     "output_type": "stream",
     "text": [
      "CPU times: user 47.4 ms, sys: 35.7 ms, total: 83.1 ms\n",
      "Wall time: 10 s\n"
     ]
    }
   ],
   "source": [
    "%%time\n",
    "import functools\n",
    "with dask.config.set(scheduler='processes', num_workers=CORE_NUM):\n",
    "    f_par = functools.partial(get_daily_pnl, product=product_list[0], period=4096, threshold=0.001, noise=0)\n",
    "    result_4 = compute([delayed(f_par)(date) for date in all_dates])[0]\n",
    "    \n",
    "## Wall time: 45.6 s"
   ]
  },
  {
   "cell_type": "markdown",
   "metadata": {},
   "source": [
    "- the col names and row names are opposite"
   ]
  },
  {
   "cell_type": "code",
   "execution_count": 109,
   "metadata": {
    "scrolled": true
   },
   "outputs": [
    {
     "data": {
      "text/html": [
       "<div>\n",
       "<style scoped>\n",
       "    .dataframe tbody tr th:only-of-type {\n",
       "        vertical-align: middle;\n",
       "    }\n",
       "\n",
       "    .dataframe tbody tr th {\n",
       "        vertical-align: top;\n",
       "    }\n",
       "\n",
       "    .dataframe thead th {\n",
       "        text-align: right;\n",
       "    }\n",
       "</style>\n",
       "<table border=\"1\" class=\"dataframe\">\n",
       "  <thead>\n",
       "    <tr style=\"text-align: right;\">\n",
       "      <th></th>\n",
       "      <th>sharpe</th>\n",
       "      <th>drawdown</th>\n",
       "      <th>mar</th>\n",
       "      <th>win.ratio</th>\n",
       "      <th>num</th>\n",
       "      <th>avg.pnl</th>\n",
       "      <th>hld.period</th>\n",
       "    </tr>\n",
       "  </thead>\n",
       "  <tbody>\n",
       "    <tr>\n",
       "      <th>0</th>\n",
       "      <td>4.822824</td>\n",
       "      <td>0.040392</td>\n",
       "      <td>24.757446</td>\n",
       "      <td>0.628372</td>\n",
       "      <td>5.626632</td>\n",
       "      <td>0.090029</td>\n",
       "      <td>699.297757</td>\n",
       "    </tr>\n",
       "  </tbody>\n",
       "</table>\n",
       "</div>"
      ],
      "text/plain": [
       "     sharpe  drawdown        mar  win.ratio       num   avg.pnl  hld.period\n",
       "0  4.822824  0.040392  24.757446   0.628372  5.626632  0.090029  699.297757"
      ]
     },
     "execution_count": 109,
     "metadata": {},
     "output_type": "execute_result"
    },
    {
     "data": {
      "image/png": "[encoded data removed]",
      "text/plain": [
       "<Figure size 1152x720 with 1 Axes>"
      ]
     },
     "metadata": {
      "needs_background": "light"
     },
     "output_type": "display_data"
    }
   ],
   "source": [
    "pd.DataFrame(get_performance(result_4,1), index=[0])\n",
    "\n",
    "#sharpe \tdrawdown \tmar \twin.ratio \tnum \tavg.pnl \thld.period\n",
    "#0 \t4.006666 \t0.089226 \t11.207535 \t0.626632 \t5.635335 \t0.073031 \t698.217761"
   ]
  },
  {
   "cell_type": "markdown",
   "metadata": {},
   "source": [
    "- we can see it's much better than before.\n",
    "- Keep in mind that it uses future data here so the result is not realistic\n",
    "- we just want to show that this scheme is much better than the previous one\n",
    "- and we would use this backtest method in the future course"
   ]
  },
  {
   "cell_type": "code",
   "execution_count": 110,
   "metadata": {},
   "outputs": [
    {
     "name": "stdout",
     "output_type": "stream",
     "text": [
      "CPU times: user 45 ms, sys: 36.3 ms, total: 81.3 ms\n",
      "Wall time: 9.94 s\n"
     ]
    }
   ],
   "source": [
    "%%time\n",
    "import functools\n",
    "with dask.config.set(scheduler='processes', num_workers=CORE_NUM):\n",
    "    f_par = functools.partial(get_daily_pnl, product=product_list[0], period=4096, threshold=0.002, noise=0)\n",
    "    result_5 = compute([delayed(f_par)(date) for date in all_dates])[0]\n",
    "\n",
    "# Wall time: 8.95 s"
   ]
  },
  {
   "cell_type": "code",
   "execution_count": 111,
   "metadata": {
    "scrolled": true
   },
   "outputs": [
    {
     "data": {
      "text/html": [
       "<div>\n",
       "<style scoped>\n",
       "    .dataframe tbody tr th:only-of-type {\n",
       "        vertical-align: middle;\n",
       "    }\n",
       "\n",
       "    .dataframe tbody tr th {\n",
       "        vertical-align: top;\n",
       "    }\n",
       "\n",
       "    .dataframe thead th {\n",
       "        text-align: right;\n",
       "    }\n",
       "</style>\n",
       "<table border=\"1\" class=\"dataframe\">\n",
       "  <thead>\n",
       "    <tr style=\"text-align: right;\">\n",
       "      <th></th>\n",
       "      <th>sharpe</th>\n",
       "      <th>drawdown</th>\n",
       "      <th>mar</th>\n",
       "      <th>win.ratio</th>\n",
       "      <th>num</th>\n",
       "      <th>avg.pnl</th>\n",
       "      <th>hld.period</th>\n",
       "    </tr>\n",
       "  </thead>\n",
       "  <tbody>\n",
       "    <tr>\n",
       "      <th>0</th>\n",
       "      <td>8.174289</td>\n",
       "      <td>0.004833</td>\n",
       "      <td>206.897522</td>\n",
       "      <td>0.744125</td>\n",
       "      <td>3.219321</td>\n",
       "      <td>0.258005</td>\n",
       "      <td>1222.211408</td>\n",
       "    </tr>\n",
       "  </tbody>\n",
       "</table>\n",
       "</div>"
      ],
      "text/plain": [
       "     sharpe  drawdown         mar  win.ratio       num   avg.pnl   hld.period\n",
       "0  8.174289  0.004833  206.897522   0.744125  3.219321  0.258005  1222.211408"
      ]
     },
     "execution_count": 111,
     "metadata": {},
     "output_type": "execute_result"
    },
    {
     "data": {
      "image/png": "[encoded data removed]",
      "text/plain": [
       "<Figure size 1152x720 with 1 Axes>"
      ]
     },
     "metadata": {
      "needs_background": "light"
     },
     "output_type": "display_data"
    }
   ],
   "source": [
    "pd.DataFrame(get_performance(result_5,1), index=[0])\n",
    "\n",
    "# \tsharpe \tdrawdown \tmar \twin.ratio \tnum \tavg.pnl \thld.period\n",
    "#0 \t7.213851 \t0.029836 \t33.516691 \t0.743255 \t3.224543 \t0.228299 \t1220.232119"
   ]
  },
  {
   "cell_type": "markdown",
   "metadata": {},
   "source": [
    "- Previous method use fix size to trade, \n",
    "- now we suppose fix notional value of each trade"
   ]
  },
  {
   "cell_type": "code",
   "execution_count": 112,
   "metadata": {},
   "outputs": [],
   "source": [
    "## daily pnl of fixed capital\n",
    "from collections import OrderedDict\n",
    "def get_daily_pnl(date, product=\"rb\", period=2000, threshold=0.001, buy_tranct=1.5e-4,sell_tranct=11.5e-4, noise=0, notional=False):\n",
    "    with gzip.open(dire+\"/\"+date, 'rb', compresslevel=1) as file_object:\n",
    "        raw_data = file_object.read()\n",
    "    data = cPickle.loads(raw_data)\n",
    "    n_bar = len(data)\n",
    "    unit = np.std(data[\"ret\"])\n",
    "    np.random.seed(10)\n",
    "    noise_ret = np.random.normal(scale=unit*noise, size=n_bar)\n",
    "    ##  we repeat the above code to get daily result\n",
    "    ret_2000 = (data[\"ret\"].rolling(period).sum()).dropna().reset_index(drop=True)\n",
    "    ret_2000 = ret_2000.append(pd.Series([0]*(len(data)-len(ret_2000)))).reset_index(drop=True) + noise_ret\n",
    "    signal = pd.Series([0] * n_bar)\n",
    "    signal[ret_2000>threshold] = 1\n",
    "    signal[ret_2000< -threshold] = -1\n",
    "    position_pos = pd.Series([np.nan] * n_bar)\n",
    "    position_pos[0] = 0\n",
    "    position_pos[(signal==1) & (data[\"next.ask\"]>0) & (data[\"next.bid\"]>0)] = 1\n",
    "    position_pos[(ret_2000< -threshold) & (data[\"next.bid\"]>0)] = 0\n",
    "    position_pos.ffill(inplace=True)\n",
    "    pre_pos = position_pos.shift(1)\n",
    "    position_pos[(position_pos==1) & (pre_pos==1)] = np.nan ## holding positio rather than trade, change to nan\n",
    "    position_pos[(position_pos==1)] = 1/data[\"next.ask\"][(position_pos==1)] ## use 1/price as trading volume\n",
    "    position_pos.ffill(inplace=True) \n",
    "    position_neg = pd.Series([np.nan] * n_bar)\n",
    "    position_neg[0] = 0\n",
    "    position_neg[(signal==-1) & (data[\"next.ask\"]>0) & (data[\"next.bid\"]>0)] = -1\n",
    "    position_neg[(ret_2000> threshold) & (data[\"next.ask\"]>0)] = 0\n",
    "    position_neg.ffill(inplace=True)\n",
    "    pre_neg = position_neg.shift(1)\n",
    "    position_neg[(position_neg==-1) & (pre_neg==-1)] = np.nan  ## holding positio rather than trade, change to nan\n",
    "    position_neg[(position_neg==-1)] = -1/data[\"next.bid\"][(position_neg==-1)] ## use 1/price as trading volume\n",
    "    position_neg.ffill(inplace=True) ## replace nan by trading volume\n",
    "    position = position_pos + position_neg\n",
    "    position[0]=0\n",
    "    position[n_bar-1] = 0\n",
    "    position[n_bar-2] = 0\n",
    "    change_pos = position - position.shift(1)\n",
    "    change_pos[0] = 0\n",
    "    change_base = pd.Series([0] * n_bar)\n",
    "    change_buy = change_pos>0\n",
    "    change_sell = change_pos<0\n",
    "    change_base[change_buy] = data[\"next.ask\"][change_buy]*(1+buy_tranct)\n",
    "    change_base[change_sell] = data[\"next.bid\"][change_sell]*(1-sell_tranct)\n",
    "    raw_pnl = -(change_base*change_pos).cumsum()+position*data[\"price\"]\n",
    "    date = np.array([x[0:10] for x in data[\"date.time\"]])\n",
    "    next_date = np.append(date[1:],'1')\n",
    "    end_day = date!=next_date\n",
    "    final_pnl = -sum(change_base*change_pos) ## total pnl, there is a negative sign, because selling get money and buying pay money\n",
    "    turnover = sum(change_base*abs(change_pos))\n",
    "    num = sum((position!=0) & (change_pos!=0)) ## number of trades\n",
    "    hld_period = sum(position!=0)   ## holding period\n",
    "    daily_pnl = raw_pnl[end_day].reset_index(drop=True)\n",
    "    pnl = np.append(daily_pnl[0], np.diff(daily_pnl))\n",
    "    ## finally we combine the statistics into a data frame\n",
    "    #result = pd.DataFrame({\"final.pnl\": final_pnl, \"turnover\": turnover, \"num\": num, \"hld.period\": hld_period}, index=[0])\n",
    "    #result = {\"date\": date, \"final.pnl\": final_pnl, \"turnover\": turnover, \"num\": num, \"hld.period\": hld_period}\n",
    "    result = OrderedDict([(\"date\", date[end_day]), (\"pnl\", pnl),\n",
    "                          (\"final.pnl\", final_pnl), (\"turnover\", turnover), (\"num\", num), (\"hld.period\", hld_period)])\n",
    "    return result"
   ]
  },
  {
   "cell_type": "code",
   "execution_count": 113,
   "metadata": {},
   "outputs": [
    {
     "name": "stdout",
     "output_type": "stream",
     "text": [
      "CPU times: user 47.6 ms, sys: 34.9 ms, total: 82.5 ms\n",
      "Wall time: 10.5 s\n"
     ]
    }
   ],
   "source": [
    " %%time\n",
    "import functools\n",
    "with dask.config.set(scheduler='processes', num_workers=CORE_NUM):\n",
    "    f_par = functools.partial(get_daily_pnl, product=product_list[0], period=4096, threshold=0.001, notional=True)\n",
    "    result = compute([delayed(f_par)(date) for date in all_dates])[0]\n",
    "    \n",
    "# Wall time: 9.36 s"
   ]
  },
  {
   "cell_type": "code",
   "execution_count": 114,
   "metadata": {
    "scrolled": true
   },
   "outputs": [
    {
     "data": {
      "text/html": [
       "<div>\n",
       "<style scoped>\n",
       "    .dataframe tbody tr th:only-of-type {\n",
       "        vertical-align: middle;\n",
       "    }\n",
       "\n",
       "    .dataframe tbody tr th {\n",
       "        vertical-align: top;\n",
       "    }\n",
       "\n",
       "    .dataframe thead th {\n",
       "        text-align: right;\n",
       "    }\n",
       "</style>\n",
       "<table border=\"1\" class=\"dataframe\">\n",
       "  <thead>\n",
       "    <tr style=\"text-align: right;\">\n",
       "      <th></th>\n",
       "      <th>sharpe</th>\n",
       "      <th>drawdown</th>\n",
       "      <th>mar</th>\n",
       "      <th>win.ratio</th>\n",
       "      <th>num</th>\n",
       "      <th>avg.pnl</th>\n",
       "      <th>hld.period</th>\n",
       "    </tr>\n",
       "  </thead>\n",
       "  <tbody>\n",
       "    <tr>\n",
       "      <th>0</th>\n",
       "      <td>4.621878</td>\n",
       "      <td>0.066505</td>\n",
       "      <td>15.036388</td>\n",
       "      <td>0.630983</td>\n",
       "      <td>5.626632</td>\n",
       "      <td>0.001167</td>\n",
       "      <td>699.297757</td>\n",
       "    </tr>\n",
       "  </tbody>\n",
       "</table>\n",
       "</div>"
      ],
      "text/plain": [
       "     sharpe  drawdown        mar  win.ratio       num   avg.pnl  hld.period\n",
       "0  4.621878  0.066505  15.036388   0.630983  5.626632  0.001167  699.297757"
      ]
     },
     "execution_count": 114,
     "metadata": {},
     "output_type": "execute_result"
    },
    {
     "data": {
      "image/png": "[encoded data removed]",
      "text/plain": [
       "<Figure size 1152x720 with 1 Axes>"
      ]
     },
     "metadata": {
      "needs_background": "light"
     },
     "output_type": "display_data"
    }
   ],
   "source": [
    "pd.DataFrame(get_performance(result,1), index=[0])\n",
    "\n",
    "# \tsharpe \tdrawdown \tmar \twin.ratio \tnum \tavg.pnl \thld.period\n",
    "#0 \t3.757665 \t0.146235 \t6.83832 \t0.629243 \t5.635335 \t0.000933 \t698.217761"
   ]
  },
  {
   "cell_type": "markdown",
   "metadata": {},
   "source": [
    "- After adding some noise, the result is worse than before but still pretty good\n",
    "- the later courses we would use this backtest method to test our signals and straregies without any future data\n",
    "- the reuslt would be much worse than the previous ones but they are realistic\n",
    "- Homework\n",
    "- You can try this method on other products and comapre their results"
   ]
  },
  {
   "cell_type": "code",
   "execution_count": null,
   "metadata": {},
   "outputs": [],
   "source": []
  },
  {
   "cell_type": "code",
   "execution_count": null,
   "metadata": {},
   "outputs": [],
   "source": []
  }
 ],
 "metadata": {
  "kernelspec": {
   "display_name": "Python 3",
   "language": "python",
   "name": "python3"
  },
  "language_info": {
   "codemirror_mode": {
    "name": "ipython",
    "version": 3
   },
   "file_extension": ".py",
   "mimetype": "text/x-python",
   "name": "python",
   "nbconvert_exporter": "python",
   "pygments_lexer": "ipython3",
   "version": "3.7.7"
  }
 },
 "nbformat": 4,
 "nbformat_minor": 2
}
