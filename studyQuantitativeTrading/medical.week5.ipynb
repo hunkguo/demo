{
 "cells": [
  {
   "cell_type": "markdown",
   "metadata": {},
   "source": [
    "- Welcome to Quantitative and High Frequency Trading Training Program\n"
   ]
  },
  {
   "cell_type": "code",
   "execution_count": 4,
   "metadata": {
    "scrolled": true
   },
   "outputs": [
    {
     "data": {
      "text/plain": [
       "<module 'stock_stats' from 'C:\\\\Users\\\\dell\\\\stock_stats.py'>"
      ]
     },
     "execution_count": 4,
     "metadata": {},
     "output_type": "execute_result"
    }
   ],
   "source": [
    "from stock_helper import *\n",
    "from stock_stats import *\n",
    "from imp import reload   \n",
    "import stock_helper\n",
    "import stock_stats\n",
    "reload(stock_helper)\n",
    "reload(stock_stats)"
   ]
  },
  {
   "cell_type": "code",
   "execution_count": 30,
   "metadata": {},
   "outputs": [],
   "source": [
    " \n",
    "import warnings\n",
    " \n",
    "warnings.filterwarnings('ignore')"
   ]
  },
  {
   "cell_type": "markdown",
   "metadata": {},
   "source": [
    "- number of cores, set this number according to your computer"
   ]
  },
  {
   "cell_type": "code",
   "execution_count": 5,
   "metadata": {},
   "outputs": [
    {
     "data": {
      "text/plain": [
       "16"
      ]
     },
     "execution_count": 5,
     "metadata": {},
     "output_type": "execute_result"
    }
   ],
   "source": [
    "CORE_NUM = int(os.environ['NUMBER_OF_PROCESSORS'])\n",
    "CORE_NUM"
   ]
  },
  {
   "cell_type": "markdown",
   "metadata": {},
   "source": [
    "- sample product, you can change to your specific product symbol"
   ]
  },
  {
   "cell_type": "code",
   "execution_count": 7,
   "metadata": {},
   "outputs": [],
   "source": [
    "product_list = [\"600276\",\"000538\",  \"600332\", \"600436\", \"600535\"]"
   ]
  },
  {
   "cell_type": "code",
   "execution_count": 8,
   "metadata": {},
   "outputs": [],
   "source": [
    "import dask\n",
    "from dask import compute, delayed"
   ]
  },
  {
   "cell_type": "markdown",
   "metadata": {},
   "source": [
    "- sample period"
   ]
  },
  {
   "cell_type": "code",
   "execution_count": 9,
   "metadata": {},
   "outputs": [],
   "source": [
    "period = 4096"
   ]
  },
  {
   "cell_type": "markdown",
   "metadata": {},
   "source": [
    "- choose an example day"
   ]
  },
  {
   "cell_type": "markdown",
   "metadata": {},
   "source": [
    "- Now we start our new topics:\n",
    "- cross-period signal\n",
    "- cross-symbol signal\n",
    "- arbitrage"
   ]
  },
  {
   "cell_type": "markdown",
   "metadata": {},
   "source": [
    "- First, we look at cross-period signal"
   ]
  },
  {
   "cell_type": "code",
   "execution_count": 10,
   "metadata": {},
   "outputs": [],
   "source": [
    "SAVE_PATH = \"e:/intern\"\n",
    "period_list =  np.power(2, range(10,13))"
   ]
  },
  {
   "cell_type": "markdown",
   "metadata": {},
   "source": [
    "- we can first generate good index of data\n",
    "- because loading data each time is too time consuming"
   ]
  },
  {
   "cell_type": "code",
   "execution_count": 16,
   "metadata": {},
   "outputs": [],
   "source": [
    "def get_comb_signal(date, signal_func, product, period_list, HEAD_PATH, weight):\n",
    "    comb_signal = []\n",
    "    n_period = len(period_list)\n",
    "    total = (sum(1/period_list))\n",
    "    for i in range(n_period):\n",
    "        signal_name = signal_func+\".\"+str(period_list[i])\n",
    "        S = load(HEAD_PATH+\"/tmp pkl/\"+product+\"/\"+signal_name+\"/\"+date)\n",
    "        S = S*weight[i]\n",
    "        if len(comb_signal)==0:\n",
    "            comb_signal=S\n",
    "        else:\n",
    "            comb_signal += S\n",
    "    save(comb_signal, HEAD_PATH+\"/tmp pkl/\"+product+\"/\"+signal_func+\".comb/\"+date)\n",
    "    "
   ]
  },
  {
   "cell_type": "code",
   "execution_count": 17,
   "metadata": {},
   "outputs": [],
   "source": [
    "os.makedirs(HEAD_PATH+\"/all signal\", exist_ok=True)\n",
    "dire_signal_list = [\"nr\", \"dbook\", \"range.pos\", \"price.osci\", \"ma.dif.10\", \"kdj.k\", \"kdj.j\"]\n",
    "range_signal_list = [\"\", \"range\", \"std\", \"trend.index\"]\n",
    "all_signal_list = np.array([])\n",
    "for range_signal in range_signal_list:\n",
    "    for dire_signal in dire_signal_list:\n",
    "        if len(range_signal)==0:\n",
    "            signal_name = dire_signal\n",
    "        else:\n",
    "            signal_name = dire_signal+\".\"+range_signal\n",
    "        all_signal_list = np.append(all_signal_list,signal_name)\n",
    "len(all_signal_list)\n",
    "all_comb_list = [signal+\".comb\" for signal in all_signal_list]\n",
    "all_period_signal = [signal+\".4096\" for signal in all_signal_list]\n",
    "weight = (1/np.sqrt(period_list))/(sum(1/np.sqrt(period_list)))"
   ]
  },
  {
   "cell_type": "code",
   "execution_count": 18,
   "metadata": {},
   "outputs": [],
   "source": [
    "for product in product_list:\n",
    "    for signal_func in all_signal_list:\n",
    "        os.makedirs(SAVE_PATH+\"/tmp pkl/\"+product+\"/\"+signal_func+\".comb\", exist_ok=True)\n",
    "    "
   ]
  },
  {
   "cell_type": "code",
   "execution_count": 19,
   "metadata": {},
   "outputs": [
    {
     "name": "stdout",
     "output_type": "stream",
     "text": [
      "600276 nr\n",
      "600276 dbook\n",
      "600276 range.pos\n",
      "600276 price.osci\n",
      "600276 ma.dif.10\n",
      "600276 kdj.k\n",
      "600276 kdj.j\n",
      "600276 nr.range\n",
      "600276 dbook.range\n",
      "600276 range.pos.range\n",
      "600276 price.osci.range\n",
      "600276 ma.dif.10.range\n",
      "600276 kdj.k.range\n",
      "600276 kdj.j.range\n",
      "600276 nr.std\n",
      "600276 dbook.std\n",
      "600276 range.pos.std\n",
      "600276 price.osci.std\n",
      "600276 ma.dif.10.std\n",
      "600276 kdj.k.std\n",
      "600276 kdj.j.std\n",
      "600276 nr.trend.index\n",
      "600276 dbook.trend.index\n",
      "600276 range.pos.trend.index\n",
      "600276 price.osci.trend.index\n",
      "600276 ma.dif.10.trend.index\n",
      "600276 kdj.k.trend.index\n",
      "600276 kdj.j.trend.index\n",
      "000538 nr\n",
      "000538 dbook\n",
      "000538 range.pos\n",
      "000538 price.osci\n",
      "000538 ma.dif.10\n",
      "000538 kdj.k\n",
      "000538 kdj.j\n",
      "000538 nr.range\n",
      "000538 dbook.range\n",
      "000538 range.pos.range\n",
      "000538 price.osci.range\n",
      "000538 ma.dif.10.range\n",
      "000538 kdj.k.range\n",
      "000538 kdj.j.range\n",
      "000538 nr.std\n",
      "000538 dbook.std\n",
      "000538 range.pos.std\n",
      "000538 price.osci.std\n",
      "000538 ma.dif.10.std\n",
      "000538 kdj.k.std\n",
      "000538 kdj.j.std\n",
      "000538 nr.trend.index\n",
      "000538 dbook.trend.index\n",
      "000538 range.pos.trend.index\n",
      "000538 price.osci.trend.index\n",
      "000538 ma.dif.10.trend.index\n",
      "000538 kdj.k.trend.index\n",
      "000538 kdj.j.trend.index\n",
      "600332 nr\n",
      "600332 dbook\n",
      "600332 range.pos\n",
      "600332 price.osci\n",
      "600332 ma.dif.10\n",
      "600332 kdj.k\n",
      "600332 kdj.j\n",
      "600332 nr.range\n",
      "600332 dbook.range\n",
      "600332 range.pos.range\n",
      "600332 price.osci.range\n",
      "600332 ma.dif.10.range\n",
      "600332 kdj.k.range\n",
      "600332 kdj.j.range\n",
      "600332 nr.std\n",
      "600332 dbook.std\n",
      "600332 range.pos.std\n",
      "600332 price.osci.std\n",
      "600332 ma.dif.10.std\n",
      "600332 kdj.k.std\n",
      "600332 kdj.j.std\n",
      "600332 nr.trend.index\n",
      "600332 dbook.trend.index\n",
      "600332 range.pos.trend.index\n",
      "600332 price.osci.trend.index\n",
      "600332 ma.dif.10.trend.index\n",
      "600332 kdj.k.trend.index\n",
      "600332 kdj.j.trend.index\n",
      "600436 nr\n",
      "600436 dbook\n",
      "600436 range.pos\n",
      "600436 price.osci\n",
      "600436 ma.dif.10\n",
      "600436 kdj.k\n",
      "600436 kdj.j\n",
      "600436 nr.range\n",
      "600436 dbook.range\n",
      "600436 range.pos.range\n",
      "600436 price.osci.range\n",
      "600436 ma.dif.10.range\n",
      "600436 kdj.k.range\n",
      "600436 kdj.j.range\n",
      "600436 nr.std\n",
      "600436 dbook.std\n",
      "600436 range.pos.std\n",
      "600436 price.osci.std\n",
      "600436 ma.dif.10.std\n",
      "600436 kdj.k.std\n",
      "600436 kdj.j.std\n",
      "600436 nr.trend.index\n",
      "600436 dbook.trend.index\n",
      "600436 range.pos.trend.index\n",
      "600436 price.osci.trend.index\n",
      "600436 ma.dif.10.trend.index\n",
      "600436 kdj.k.trend.index\n",
      "600436 kdj.j.trend.index\n",
      "600535 nr\n",
      "600535 dbook\n",
      "600535 range.pos\n",
      "600535 price.osci\n",
      "600535 ma.dif.10\n",
      "600535 kdj.k\n",
      "600535 kdj.j\n",
      "600535 nr.range\n",
      "600535 dbook.range\n",
      "600535 range.pos.range\n",
      "600535 price.osci.range\n",
      "600535 ma.dif.10.range\n",
      "600535 kdj.k.range\n",
      "600535 kdj.j.range\n",
      "600535 nr.std\n",
      "600535 dbook.std\n",
      "600535 range.pos.std\n",
      "600535 price.osci.std\n",
      "600535 ma.dif.10.std\n",
      "600535 kdj.k.std\n",
      "600535 kdj.j.std\n",
      "600535 nr.trend.index\n",
      "600535 dbook.trend.index\n",
      "600535 range.pos.trend.index\n",
      "600535 price.osci.trend.index\n",
      "600535 ma.dif.10.trend.index\n",
      "600535 kdj.k.trend.index\n",
      "600535 kdj.j.trend.index\n",
      "Wall time: 16min 11s\n"
     ]
    }
   ],
   "source": [
    "%%time\n",
    "for product in product_list:\n",
    "    all_dates = np.array(os.listdir(DATA_PATH + product))\n",
    "    for signal_func in all_signal_list:\n",
    "        print(product,signal_func)\n",
    "        parLapply(CORE_NUM, all_dates, get_comb_signal,signal_func=signal_func,  \n",
    "                  product=product, period_list=period_list,HEAD_PATH=SAVE_PATH, weight=weight)\n",
    "## Wall time: 16min 11s"
   ]
  },
  {
   "cell_type": "code",
   "execution_count": 21,
   "metadata": {},
   "outputs": [],
   "source": [
    "## parallel generate the distribution of a signal\n",
    "def par_get_all_signal(signal_name, file_list, product, period, HEAD_PATH=\"d:/intern\", SAVE_PATH=\"e:/intern\"):\n",
    "    n_files = len(file_list)\n",
    "    all_signal = np.array([])\n",
    "    for file in file_list:\n",
    "        S = load(SAVE_PATH+\"/tmp pkl/\"+product+\"/\"+signal_name+\"/\"+file) ## signal\n",
    "        signal = S\n",
    "        chosen = (np.arange(len(signal))+1) % period==0\n",
    "        all_signal = np.concatenate((all_signal, signal[chosen]), axis=0)\n",
    "    save(all_signal, SAVE_PATH+\"/all signal/\"+product+\".\"+signal_name+\".pkl\")"
   ]
  },
  {
   "cell_type": "code",
   "execution_count": 22,
   "metadata": {},
   "outputs": [
    {
     "name": "stdout",
     "output_type": "stream",
     "text": [
      "600276\n",
      "000538\n",
      "600332\n",
      "600436\n",
      "600535\n",
      "Wall time: 29.1 s\n"
     ]
    }
   ],
   "source": [
    "%%time\n",
    "SAVE_PATH = \"e:/intern\"\n",
    "for product in product_list:\n",
    "    print(product)\n",
    "    all_dates = os.listdir(DATA_PATH + product)\n",
    "    parLapply(CORE_NUM, all_comb_list, par_get_all_signal, file_list=all_dates, product=product, period=4096, HEAD_PATH=HEAD_PATH,\n",
    "             SAVE_PATH=SAVE_PATH);\n",
    "\n",
    "\n",
    "# 600276\n",
    "# 000538\n",
    "# 600332\n",
    "# 600436\n",
    "# 600535\n",
    "# Wall time: 29.1 s\n",
    "\n"
   ]
  },
  {
   "cell_type": "code",
   "execution_count": 23,
   "metadata": {},
   "outputs": [],
   "source": [
    "## this is to evalute the performance of a signal on a product\n",
    "def evaluate_signal(signal, all_dates, product, min_pnl, min_num, \n",
    "                    CORE_NUM, HEAD_PATH=\"d:/intern\", SIGNAL_PATH=\"d:/intern\", period=4096, split_str=\"2018\", \n",
    "                    atr_filter=0, save_path=\"signal result\",reverse=0):\n",
    "    signal_name = signal+\".\"+str(period) ## signal name, with period\n",
    "    all_signal = load(SIGNAL_PATH+\"/all signal/\"+product+\".\"+signal_name+\".pkl\") ## get the distribution of the signal\n",
    "    open_list = np.quantile(abs(all_signal), np.append(np.arange(0.991,0.999,0.001),np.arange(0.9991,0.9999,0.0001))) ## open threshold\n",
    "    thre_list = []\n",
    "    for cartesian in itertools.product(open_list, np.array([0.2, 0.4, 0.6, 0.8, 1.0])): ## close threshold\n",
    "        thre_list.append((cartesian[0], -cartesian[0] * cartesian[1]))\n",
    "    thre_list = np.array(thre_list)\n",
    "    thre_mat = pd.DataFrame(data=OrderedDict([(\"open\", thre_list[:, 0]), (\"close\", thre_list[:, 1])])) ## threshold matrix\n",
    "    \n",
    "    if reverse>=0: ## trending signal\n",
    "        print(\"reverse=1\")\n",
    "        trend_signal_stat = get_signal_stat(signal_name, thre_mat, product, all_dates, CORE_NUM, split_str=split_str, reverse=1, \n",
    "                                    atr_filter=atr_filter, HEAD_PATH=HEAD_PATH, SAVE_PATH=SIGNAL_PATH)\n",
    "    if reverse<=0: ## reversal signal\n",
    "        print(\"reverse=-1\")\n",
    "        reverse_signal_stat = get_signal_stat(signal_name, thre_mat, product, all_dates, CORE_NUM, split_str=split_str, reverse=-1,\n",
    "                                            atr_filter=atr_filter, HEAD_PATH=HEAD_PATH, SAVE_PATH=SIGNAL_PATH)\n",
    "    if reverse==0: ## both trending and reversal\n",
    "        stat_result = OrderedDict([(\"trend.signal.stat\", trend_signal_stat), (\"reverse.signal.stat\", reverse_signal_stat)])    \n",
    "        save(stat_result, HEAD_PATH+\"/\"+save_path+\"/\"+product+\".\"+signal_name+\".pkl\")\n",
    "    elif reverse==1: ## just trend\n",
    "        save(trend_signal_stat, HEAD_PATH+\"/\"+save_path+\"/\"+product+\".\"+signal_name+\".trend.pkl\")\n",
    "    elif reverse==-1: ## just reversal\n",
    "        save(reverse_signal_stat, HEAD_PATH+\"/\"+save_path+\"/\"+product+\".\"+signal_name+\".reverse.pkl\")"
   ]
  },
  {
   "cell_type": "code",
   "execution_count": 25,
   "metadata": {},
   "outputs": [],
   "source": [
    "## get the statistics of backtesting a signal\n",
    "from collections import OrderedDict\n",
    "def get_signal_stat(signal_name, thre_mat, product, all_dates, CORE_NUM, split_str=\"2018\", reverse=1, \n",
    "                     atr_filter=0, HEAD_PATH=\"d:/intern\", SAVE_PATH=\"d:/intern\"):\n",
    "    train_sample = all_dates<split_str ## training samples\n",
    "    test_sample = all_dates>split_str ## testing samples\n",
    "    with dask.config.set(scheduler='processes', num_workers=CORE_NUM):\n",
    "        f_par = functools.partial(get_signal_pnl, product=product, signal_name=signal_name, thre_mat=thre_mat,\n",
    "                                 reverse=1,\n",
    "                                HEAD_PATH=HEAD_PATH, SAVE_PATH=SAVE_PATH,atr_filter=atr_filter)\n",
    "        train_result = compute([delayed(f_par)(file) for file in all_dates[train_sample]])[0] ## get training result\n",
    "    train_stat = get_hft_summary(train_result, thre_mat) ## get training result statistics\n",
    "    with dask.config.set(scheduler='processes', num_workers=CORE_NUM):\n",
    "        f_par = functools.partial(get_signal_pnl, product=product, signal_name=signal_name, thre_mat=thre_mat,\n",
    "                                 reverse=1,\n",
    "                                HEAD_PATH=HEAD_PATH, SAVE_PATH=SAVE_PATH,atr_filter=atr_filter)\n",
    "        test_result = compute([delayed(f_par)(file) for file in all_dates[test_sample]])[0] ## get testing result\n",
    "    test_stat = get_hft_summary(test_result, thre_mat) ## get testing result statistics\n",
    "    return OrderedDict([(\"train.stat\", train_stat), (\"test.stat\", test_stat)])"
   ]
  },
  {
   "cell_type": "code",
   "execution_count": 26,
   "metadata": {},
   "outputs": [
    {
     "name": "stdout",
     "output_type": "stream",
     "text": [
      "600276 nr\n",
      "reverse=1\n",
      "reverse=-1\n",
      "600276 dbook\n",
      "reverse=1\n"
     ]
    },
    {
     "name": "stderr",
     "output_type": "stream",
     "text": [
      "C:\\Users\\dell\\stock_helper.py:189: RuntimeWarning: invalid value encountered in true_divide\n",
      "  (\"mar\", total_ret/total_max_drawdown)]),\n"
     ]
    },
    {
     "name": "stdout",
     "output_type": "stream",
     "text": [
      "reverse=-1\n"
     ]
    },
    {
     "name": "stderr",
     "output_type": "stream",
     "text": [
      "C:\\Users\\dell\\stock_helper.py:189: RuntimeWarning: invalid value encountered in true_divide\n",
      "  (\"mar\", total_ret/total_max_drawdown)]),\n"
     ]
    },
    {
     "name": "stdout",
     "output_type": "stream",
     "text": [
      "600276 range.pos\n",
      "reverse=1\n",
      "reverse=-1\n",
      "600276 price.osci\n",
      "reverse=1\n"
     ]
    },
    {
     "name": "stderr",
     "output_type": "stream",
     "text": [
      "C:\\Users\\dell\\stock_helper.py:189: RuntimeWarning: invalid value encountered in true_divide\n",
      "  (\"mar\", total_ret/total_max_drawdown)]),\n"
     ]
    },
    {
     "name": "stdout",
     "output_type": "stream",
     "text": [
      "reverse=-1\n"
     ]
    },
    {
     "name": "stderr",
     "output_type": "stream",
     "text": [
      "C:\\Users\\dell\\stock_helper.py:189: RuntimeWarning: invalid value encountered in true_divide\n",
      "  (\"mar\", total_ret/total_max_drawdown)]),\n"
     ]
    },
    {
     "name": "stdout",
     "output_type": "stream",
     "text": [
      "600276 ma.dif.10\n",
      "reverse=1\n",
      "reverse=-1\n",
      "600276 kdj.k\n",
      "reverse=1\n",
      "reverse=-1\n",
      "600276 kdj.j\n",
      "reverse=1\n"
     ]
    },
    {
     "name": "stderr",
     "output_type": "stream",
     "text": [
      "C:\\Users\\dell\\stock_helper.py:189: RuntimeWarning: invalid value encountered in true_divide\n",
      "  (\"mar\", total_ret/total_max_drawdown)]),\n"
     ]
    },
    {
     "name": "stdout",
     "output_type": "stream",
     "text": [
      "reverse=-1\n"
     ]
    },
    {
     "name": "stderr",
     "output_type": "stream",
     "text": [
      "C:\\Users\\dell\\stock_helper.py:189: RuntimeWarning: invalid value encountered in true_divide\n",
      "  (\"mar\", total_ret/total_max_drawdown)]),\n"
     ]
    },
    {
     "name": "stdout",
     "output_type": "stream",
     "text": [
      "600276 nr.range\n",
      "reverse=1\n",
      "reverse=-1\n",
      "600276 dbook.range\n",
      "reverse=1\n",
      "reverse=-1\n",
      "600276 range.pos.range\n",
      "reverse=1\n",
      "reverse=-1\n",
      "600276 price.osci.range\n",
      "reverse=1\n"
     ]
    },
    {
     "name": "stderr",
     "output_type": "stream",
     "text": [
      "C:\\Users\\dell\\stock_helper.py:189: RuntimeWarning: invalid value encountered in true_divide\n",
      "  (\"mar\", total_ret/total_max_drawdown)]),\n"
     ]
    },
    {
     "name": "stdout",
     "output_type": "stream",
     "text": [
      "reverse=-1\n"
     ]
    },
    {
     "name": "stderr",
     "output_type": "stream",
     "text": [
      "C:\\Users\\dell\\stock_helper.py:189: RuntimeWarning: invalid value encountered in true_divide\n",
      "  (\"mar\", total_ret/total_max_drawdown)]),\n"
     ]
    },
    {
     "name": "stdout",
     "output_type": "stream",
     "text": [
      "600276 ma.dif.10.range\n",
      "reverse=1\n"
     ]
    },
    {
     "name": "stderr",
     "output_type": "stream",
     "text": [
      "C:\\Users\\dell\\stock_helper.py:189: RuntimeWarning: invalid value encountered in true_divide\n",
      "  (\"mar\", total_ret/total_max_drawdown)]),\n"
     ]
    },
    {
     "name": "stdout",
     "output_type": "stream",
     "text": [
      "reverse=-1\n"
     ]
    },
    {
     "name": "stderr",
     "output_type": "stream",
     "text": [
      "C:\\Users\\dell\\stock_helper.py:189: RuntimeWarning: invalid value encountered in true_divide\n",
      "  (\"mar\", total_ret/total_max_drawdown)]),\n"
     ]
    },
    {
     "name": "stdout",
     "output_type": "stream",
     "text": [
      "600276 kdj.k.range\n",
      "reverse=1\n",
      "reverse=-1\n",
      "600276 kdj.j.range\n",
      "reverse=1\n",
      "reverse=-1\n",
      "600276 nr.std\n",
      "reverse=1\n",
      "reverse=-1\n",
      "600276 dbook.std\n",
      "reverse=1\n",
      "reverse=-1\n",
      "600276 range.pos.std\n",
      "reverse=1\n",
      "reverse=-1\n",
      "600276 price.osci.std\n",
      "reverse=1\n"
     ]
    },
    {
     "name": "stderr",
     "output_type": "stream",
     "text": [
      "C:\\Users\\dell\\stock_helper.py:189: RuntimeWarning: invalid value encountered in true_divide\n",
      "  (\"mar\", total_ret/total_max_drawdown)]),\n"
     ]
    },
    {
     "name": "stdout",
     "output_type": "stream",
     "text": [
      "reverse=-1\n"
     ]
    },
    {
     "name": "stderr",
     "output_type": "stream",
     "text": [
      "C:\\Users\\dell\\stock_helper.py:189: RuntimeWarning: invalid value encountered in true_divide\n",
      "  (\"mar\", total_ret/total_max_drawdown)]),\n"
     ]
    },
    {
     "name": "stdout",
     "output_type": "stream",
     "text": [
      "600276 ma.dif.10.std\n",
      "reverse=1\n"
     ]
    },
    {
     "name": "stderr",
     "output_type": "stream",
     "text": [
      "C:\\Users\\dell\\stock_helper.py:189: RuntimeWarning: invalid value encountered in true_divide\n",
      "  (\"mar\", total_ret/total_max_drawdown)]),\n"
     ]
    },
    {
     "name": "stdout",
     "output_type": "stream",
     "text": [
      "reverse=-1\n"
     ]
    },
    {
     "name": "stderr",
     "output_type": "stream",
     "text": [
      "C:\\Users\\dell\\stock_helper.py:189: RuntimeWarning: invalid value encountered in true_divide\n",
      "  (\"mar\", total_ret/total_max_drawdown)]),\n"
     ]
    },
    {
     "name": "stdout",
     "output_type": "stream",
     "text": [
      "600276 kdj.k.std\n",
      "reverse=1\n",
      "reverse=-1\n",
      "600276 kdj.j.std\n",
      "reverse=1\n",
      "reverse=-1\n",
      "600276 nr.trend.index\n",
      "reverse=1\n",
      "reverse=-1\n",
      "600276 dbook.trend.index\n",
      "reverse=1\n",
      "reverse=-1\n",
      "600276 range.pos.trend.index\n",
      "reverse=1\n",
      "reverse=-1\n",
      "600276 price.osci.trend.index\n",
      "reverse=1\n",
      "reverse=-1\n",
      "600276 ma.dif.10.trend.index\n",
      "reverse=1\n",
      "reverse=-1\n",
      "600276 kdj.k.trend.index\n",
      "reverse=1\n",
      "reverse=-1\n",
      "600276 kdj.j.trend.index\n",
      "reverse=1\n",
      "reverse=-1\n",
      "000538 nr\n",
      "reverse=1\n",
      "reverse=-1\n",
      "000538 dbook\n",
      "reverse=1\n"
     ]
    },
    {
     "name": "stderr",
     "output_type": "stream",
     "text": [
      "C:\\Users\\dell\\stock_helper.py:189: RuntimeWarning: divide by zero encountered in true_divide\n",
      "  (\"mar\", total_ret/total_max_drawdown)]),\n",
      "C:\\Users\\dell\\stock_helper.py:189: RuntimeWarning: invalid value encountered in true_divide\n",
      "  (\"mar\", total_ret/total_max_drawdown)]),\n"
     ]
    },
    {
     "name": "stdout",
     "output_type": "stream",
     "text": [
      "reverse=-1\n"
     ]
    },
    {
     "name": "stderr",
     "output_type": "stream",
     "text": [
      "C:\\Users\\dell\\stock_helper.py:189: RuntimeWarning: divide by zero encountered in true_divide\n",
      "  (\"mar\", total_ret/total_max_drawdown)]),\n",
      "C:\\Users\\dell\\stock_helper.py:189: RuntimeWarning: invalid value encountered in true_divide\n",
      "  (\"mar\", total_ret/total_max_drawdown)]),\n"
     ]
    },
    {
     "name": "stdout",
     "output_type": "stream",
     "text": [
      "000538 range.pos\n",
      "reverse=1\n"
     ]
    },
    {
     "name": "stderr",
     "output_type": "stream",
     "text": [
      "C:\\Users\\dell\\stock_helper.py:189: RuntimeWarning: invalid value encountered in true_divide\n",
      "  (\"mar\", total_ret/total_max_drawdown)]),\n"
     ]
    },
    {
     "name": "stdout",
     "output_type": "stream",
     "text": [
      "reverse=-1\n"
     ]
    },
    {
     "name": "stderr",
     "output_type": "stream",
     "text": [
      "C:\\Users\\dell\\stock_helper.py:189: RuntimeWarning: invalid value encountered in true_divide\n",
      "  (\"mar\", total_ret/total_max_drawdown)]),\n"
     ]
    },
    {
     "name": "stdout",
     "output_type": "stream",
     "text": [
      "000538 price.osci\n",
      "reverse=1\n",
      "reverse=-1\n",
      "000538 ma.dif.10\n",
      "reverse=1\n",
      "reverse=-1\n",
      "000538 kdj.k\n",
      "reverse=1\n",
      "reverse=-1\n",
      "000538 kdj.j\n",
      "reverse=1\n",
      "reverse=-1\n",
      "000538 nr.range\n",
      "reverse=1\n",
      "reverse=-1\n",
      "000538 dbook.range\n",
      "reverse=1\n",
      "reverse=-1\n",
      "000538 range.pos.range\n",
      "reverse=1\n",
      "reverse=-1\n",
      "000538 price.osci.range\n",
      "reverse=1\n",
      "reverse=-1\n",
      "000538 ma.dif.10.range\n",
      "reverse=1\n",
      "reverse=-1\n",
      "000538 kdj.k.range\n",
      "reverse=1\n",
      "reverse=-1\n",
      "000538 kdj.j.range\n",
      "reverse=1\n",
      "reverse=-1\n",
      "000538 nr.std\n",
      "reverse=1\n"
     ]
    },
    {
     "name": "stderr",
     "output_type": "stream",
     "text": [
      "C:\\Users\\dell\\stock_helper.py:189: RuntimeWarning: invalid value encountered in true_divide\n",
      "  (\"mar\", total_ret/total_max_drawdown)]),\n",
      "C:\\Users\\dell\\stock_helper.py:189: RuntimeWarning: invalid value encountered in true_divide\n",
      "  (\"mar\", total_ret/total_max_drawdown)]),\n"
     ]
    },
    {
     "name": "stdout",
     "output_type": "stream",
     "text": [
      "reverse=-1\n"
     ]
    },
    {
     "name": "stderr",
     "output_type": "stream",
     "text": [
      "C:\\Users\\dell\\stock_helper.py:189: RuntimeWarning: invalid value encountered in true_divide\n",
      "  (\"mar\", total_ret/total_max_drawdown)]),\n",
      "C:\\Users\\dell\\stock_helper.py:189: RuntimeWarning: invalid value encountered in true_divide\n",
      "  (\"mar\", total_ret/total_max_drawdown)]),\n"
     ]
    },
    {
     "name": "stdout",
     "output_type": "stream",
     "text": [
      "000538 dbook.std\n",
      "reverse=1\n",
      "reverse=-1\n",
      "000538 range.pos.std\n",
      "reverse=1\n",
      "reverse=-1\n",
      "000538 price.osci.std\n",
      "reverse=1\n",
      "reverse=-1\n",
      "000538 ma.dif.10.std\n",
      "reverse=1\n",
      "reverse=-1\n",
      "000538 kdj.k.std\n",
      "reverse=1\n",
      "reverse=-1\n",
      "000538 kdj.j.std\n",
      "reverse=1\n",
      "reverse=-1\n",
      "000538 nr.trend.index\n",
      "reverse=1\n",
      "reverse=-1\n",
      "000538 dbook.trend.index\n",
      "reverse=1\n",
      "reverse=-1\n",
      "000538 range.pos.trend.index\n",
      "reverse=1\n",
      "reverse=-1\n",
      "000538 price.osci.trend.index\n",
      "reverse=1\n",
      "reverse=-1\n",
      "000538 ma.dif.10.trend.index\n",
      "reverse=1\n",
      "reverse=-1\n",
      "000538 kdj.k.trend.index\n",
      "reverse=1\n",
      "reverse=-1\n",
      "000538 kdj.j.trend.index\n",
      "reverse=1\n",
      "reverse=-1\n",
      "600332 nr\n",
      "reverse=1\n",
      "reverse=-1\n",
      "600332 dbook\n",
      "reverse=1\n",
      "reverse=-1\n"
     ]
    },
    {
     "name": "stderr",
     "output_type": "stream",
     "text": [
      "C:\\Users\\dell\\stock_helper.py:189: RuntimeWarning: invalid value encountered in true_divide\n",
      "  (\"mar\", total_ret/total_max_drawdown)]),\n",
      "C:\\Users\\dell\\stock_helper.py:189: RuntimeWarning: invalid value encountered in true_divide\n",
      "  (\"mar\", total_ret/total_max_drawdown)]),\n"
     ]
    },
    {
     "name": "stdout",
     "output_type": "stream",
     "text": [
      "600332 range.pos\n",
      "reverse=1\n"
     ]
    },
    {
     "name": "stderr",
     "output_type": "stream",
     "text": [
      "C:\\Users\\dell\\stock_helper.py:189: RuntimeWarning: invalid value encountered in true_divide\n",
      "  (\"mar\", total_ret/total_max_drawdown)]),\n"
     ]
    },
    {
     "name": "stdout",
     "output_type": "stream",
     "text": [
      "reverse=-1\n"
     ]
    },
    {
     "name": "stderr",
     "output_type": "stream",
     "text": [
      "C:\\Users\\dell\\stock_helper.py:189: RuntimeWarning: invalid value encountered in true_divide\n",
      "  (\"mar\", total_ret/total_max_drawdown)]),\n"
     ]
    },
    {
     "name": "stdout",
     "output_type": "stream",
     "text": [
      "600332 price.osci\n",
      "reverse=1\n"
     ]
    },
    {
     "name": "stderr",
     "output_type": "stream",
     "text": [
      "C:\\Users\\dell\\stock_helper.py:189: RuntimeWarning: invalid value encountered in true_divide\n",
      "  (\"mar\", total_ret/total_max_drawdown)]),\n"
     ]
    },
    {
     "name": "stdout",
     "output_type": "stream",
     "text": [
      "reverse=-1\n"
     ]
    },
    {
     "name": "stderr",
     "output_type": "stream",
     "text": [
      "C:\\Users\\dell\\stock_helper.py:189: RuntimeWarning: invalid value encountered in true_divide\n",
      "  (\"mar\", total_ret/total_max_drawdown)]),\n"
     ]
    },
    {
     "name": "stdout",
     "output_type": "stream",
     "text": [
      "600332 ma.dif.10\n",
      "reverse=1\n",
      "reverse=-1\n",
      "600332 kdj.k\n",
      "reverse=1\n"
     ]
    },
    {
     "name": "stderr",
     "output_type": "stream",
     "text": [
      "C:\\Users\\dell\\stock_helper.py:189: RuntimeWarning: invalid value encountered in true_divide\n",
      "  (\"mar\", total_ret/total_max_drawdown)]),\n"
     ]
    },
    {
     "name": "stdout",
     "output_type": "stream",
     "text": [
      "reverse=-1\n"
     ]
    },
    {
     "name": "stderr",
     "output_type": "stream",
     "text": [
      "C:\\Users\\dell\\stock_helper.py:189: RuntimeWarning: invalid value encountered in true_divide\n",
      "  (\"mar\", total_ret/total_max_drawdown)]),\n"
     ]
    },
    {
     "name": "stdout",
     "output_type": "stream",
     "text": [
      "600332 kdj.j\n",
      "reverse=1\n"
     ]
    },
    {
     "name": "stderr",
     "output_type": "stream",
     "text": [
      "C:\\Users\\dell\\stock_helper.py:189: RuntimeWarning: invalid value encountered in true_divide\n",
      "  (\"mar\", total_ret/total_max_drawdown)]),\n"
     ]
    },
    {
     "name": "stdout",
     "output_type": "stream",
     "text": [
      "reverse=-1\n"
     ]
    },
    {
     "name": "stderr",
     "output_type": "stream",
     "text": [
      "C:\\Users\\dell\\stock_helper.py:189: RuntimeWarning: invalid value encountered in true_divide\n",
      "  (\"mar\", total_ret/total_max_drawdown)]),\n"
     ]
    },
    {
     "name": "stdout",
     "output_type": "stream",
     "text": [
      "600332 nr.range\n",
      "reverse=1\n",
      "reverse=-1\n",
      "600332 dbook.range\n",
      "reverse=1\n",
      "reverse=-1\n",
      "600332 range.pos.range\n",
      "reverse=1\n",
      "reverse=-1\n",
      "600332 price.osci.range\n",
      "reverse=1\n",
      "reverse=-1\n",
      "600332 ma.dif.10.range\n",
      "reverse=1\n",
      "reverse=-1\n",
      "600332 kdj.k.range\n",
      "reverse=1\n",
      "reverse=-1\n",
      "600332 kdj.j.range\n",
      "reverse=1\n",
      "reverse=-1\n",
      "600332 nr.std\n",
      "reverse=1\n",
      "reverse=-1\n",
      "600332 dbook.std\n",
      "reverse=1\n",
      "reverse=-1\n",
      "600332 range.pos.std\n",
      "reverse=1\n",
      "reverse=-1\n",
      "600332 price.osci.std\n",
      "reverse=1\n",
      "reverse=-1\n",
      "600332 ma.dif.10.std\n",
      "reverse=1\n",
      "reverse=-1\n",
      "600332 kdj.k.std\n",
      "reverse=1\n",
      "reverse=-1\n",
      "600332 kdj.j.std\n",
      "reverse=1\n",
      "reverse=-1\n",
      "600332 nr.trend.index\n",
      "reverse=1\n",
      "reverse=-1\n",
      "600332 dbook.trend.index\n",
      "reverse=1\n",
      "reverse=-1\n",
      "600332 range.pos.trend.index\n",
      "reverse=1\n",
      "reverse=-1\n",
      "600332 price.osci.trend.index\n",
      "reverse=1\n",
      "reverse=-1\n",
      "600332 ma.dif.10.trend.index\n",
      "reverse=1\n",
      "reverse=-1\n",
      "600332 kdj.k.trend.index\n",
      "reverse=1\n",
      "reverse=-1\n",
      "600332 kdj.j.trend.index\n",
      "reverse=1\n",
      "reverse=-1\n",
      "600436 nr\n",
      "reverse=1\n",
      "reverse=-1\n",
      "600436 dbook\n",
      "reverse=1\n"
     ]
    },
    {
     "name": "stderr",
     "output_type": "stream",
     "text": [
      "C:\\Users\\dell\\stock_helper.py:189: RuntimeWarning: invalid value encountered in true_divide\n",
      "  (\"mar\", total_ret/total_max_drawdown)]),\n"
     ]
    },
    {
     "name": "stdout",
     "output_type": "stream",
     "text": [
      "reverse=-1\n"
     ]
    },
    {
     "name": "stderr",
     "output_type": "stream",
     "text": [
      "C:\\Users\\dell\\stock_helper.py:189: RuntimeWarning: invalid value encountered in true_divide\n",
      "  (\"mar\", total_ret/total_max_drawdown)]),\n"
     ]
    },
    {
     "name": "stdout",
     "output_type": "stream",
     "text": [
      "600436 range.pos\n",
      "reverse=1\n"
     ]
    },
    {
     "name": "stderr",
     "output_type": "stream",
     "text": [
      "C:\\Users\\dell\\stock_helper.py:189: RuntimeWarning: divide by zero encountered in true_divide\n",
      "  (\"mar\", total_ret/total_max_drawdown)]),\n"
     ]
    },
    {
     "name": "stdout",
     "output_type": "stream",
     "text": [
      "reverse=-1\n"
     ]
    },
    {
     "name": "stderr",
     "output_type": "stream",
     "text": [
      "C:\\Users\\dell\\stock_helper.py:189: RuntimeWarning: divide by zero encountered in true_divide\n",
      "  (\"mar\", total_ret/total_max_drawdown)]),\n"
     ]
    },
    {
     "name": "stdout",
     "output_type": "stream",
     "text": [
      "600436 price.osci\n",
      "reverse=1\n",
      "reverse=-1\n",
      "600436 ma.dif.10\n",
      "reverse=1\n"
     ]
    },
    {
     "name": "stderr",
     "output_type": "stream",
     "text": [
      "C:\\Users\\dell\\stock_helper.py:189: RuntimeWarning: invalid value encountered in true_divide\n",
      "  (\"mar\", total_ret/total_max_drawdown)]),\n"
     ]
    },
    {
     "name": "stdout",
     "output_type": "stream",
     "text": [
      "reverse=-1\n"
     ]
    },
    {
     "name": "stderr",
     "output_type": "stream",
     "text": [
      "C:\\Users\\dell\\stock_helper.py:189: RuntimeWarning: invalid value encountered in true_divide\n",
      "  (\"mar\", total_ret/total_max_drawdown)]),\n"
     ]
    },
    {
     "name": "stdout",
     "output_type": "stream",
     "text": [
      "600436 kdj.k\n",
      "reverse=1\n",
      "reverse=-1\n",
      "600436 kdj.j\n",
      "reverse=1\n",
      "reverse=-1\n",
      "600436 nr.range\n",
      "reverse=1\n",
      "reverse=-1\n",
      "600436 dbook.range\n",
      "reverse=1\n",
      "reverse=-1\n",
      "600436 range.pos.range\n",
      "reverse=1\n",
      "reverse=-1\n",
      "600436 price.osci.range\n",
      "reverse=1\n",
      "reverse=-1\n",
      "600436 ma.dif.10.range\n",
      "reverse=1\n",
      "reverse=-1\n",
      "600436 kdj.k.range\n",
      "reverse=1\n",
      "reverse=-1\n",
      "600436 kdj.j.range\n",
      "reverse=1\n",
      "reverse=-1\n",
      "600436 nr.std\n",
      "reverse=1\n",
      "reverse=-1\n",
      "600436 dbook.std\n",
      "reverse=1\n",
      "reverse=-1\n",
      "600436 range.pos.std\n",
      "reverse=1\n"
     ]
    },
    {
     "name": "stderr",
     "output_type": "stream",
     "text": [
      "C:\\Users\\dell\\stock_helper.py:189: RuntimeWarning: invalid value encountered in true_divide\n",
      "  (\"mar\", total_ret/total_max_drawdown)]),\n"
     ]
    },
    {
     "name": "stdout",
     "output_type": "stream",
     "text": [
      "reverse=-1\n"
     ]
    },
    {
     "name": "stderr",
     "output_type": "stream",
     "text": [
      "C:\\Users\\dell\\stock_helper.py:189: RuntimeWarning: invalid value encountered in true_divide\n",
      "  (\"mar\", total_ret/total_max_drawdown)]),\n"
     ]
    },
    {
     "name": "stdout",
     "output_type": "stream",
     "text": [
      "600436 price.osci.std\n",
      "reverse=1\n",
      "reverse=-1\n",
      "600436 ma.dif.10.std\n",
      "reverse=1\n",
      "reverse=-1\n",
      "600436 kdj.k.std\n",
      "reverse=1\n",
      "reverse=-1\n",
      "600436 kdj.j.std\n",
      "reverse=1\n",
      "reverse=-1\n",
      "600436 nr.trend.index\n",
      "reverse=1\n",
      "reverse=-1\n",
      "600436 dbook.trend.index\n",
      "reverse=1\n"
     ]
    },
    {
     "name": "stderr",
     "output_type": "stream",
     "text": [
      "C:\\Users\\dell\\stock_helper.py:189: RuntimeWarning: invalid value encountered in true_divide\n",
      "  (\"mar\", total_ret/total_max_drawdown)]),\n"
     ]
    },
    {
     "name": "stdout",
     "output_type": "stream",
     "text": [
      "reverse=-1\n"
     ]
    },
    {
     "name": "stderr",
     "output_type": "stream",
     "text": [
      "C:\\Users\\dell\\stock_helper.py:189: RuntimeWarning: invalid value encountered in true_divide\n",
      "  (\"mar\", total_ret/total_max_drawdown)]),\n"
     ]
    },
    {
     "name": "stdout",
     "output_type": "stream",
     "text": [
      "600436 range.pos.trend.index\n",
      "reverse=1\n",
      "reverse=-1\n",
      "600436 price.osci.trend.index\n",
      "reverse=1\n",
      "reverse=-1\n",
      "600436 ma.dif.10.trend.index\n",
      "reverse=1\n",
      "reverse=-1\n",
      "600436 kdj.k.trend.index\n",
      "reverse=1\n",
      "reverse=-1\n",
      "600436 kdj.j.trend.index\n",
      "reverse=1\n",
      "reverse=-1\n",
      "600535 nr\n",
      "reverse=1\n",
      "reverse=-1\n",
      "600535 dbook\n",
      "reverse=1\n"
     ]
    },
    {
     "name": "stderr",
     "output_type": "stream",
     "text": [
      "C:\\Users\\dell\\stock_helper.py:189: RuntimeWarning: invalid value encountered in true_divide\n",
      "  (\"mar\", total_ret/total_max_drawdown)]),\n"
     ]
    },
    {
     "name": "stdout",
     "output_type": "stream",
     "text": [
      "reverse=-1\n"
     ]
    },
    {
     "name": "stderr",
     "output_type": "stream",
     "text": [
      "C:\\Users\\dell\\stock_helper.py:189: RuntimeWarning: invalid value encountered in true_divide\n",
      "  (\"mar\", total_ret/total_max_drawdown)]),\n"
     ]
    },
    {
     "name": "stdout",
     "output_type": "stream",
     "text": [
      "600535 range.pos\n",
      "reverse=1\n"
     ]
    },
    {
     "name": "stderr",
     "output_type": "stream",
     "text": [
      "C:\\Users\\dell\\stock_helper.py:189: RuntimeWarning: invalid value encountered in true_divide\n",
      "  (\"mar\", total_ret/total_max_drawdown)]),\n"
     ]
    },
    {
     "name": "stdout",
     "output_type": "stream",
     "text": [
      "reverse=-1\n"
     ]
    },
    {
     "name": "stderr",
     "output_type": "stream",
     "text": [
      "C:\\Users\\dell\\stock_helper.py:189: RuntimeWarning: invalid value encountered in true_divide\n",
      "  (\"mar\", total_ret/total_max_drawdown)]),\n"
     ]
    },
    {
     "name": "stdout",
     "output_type": "stream",
     "text": [
      "600535 price.osci\n",
      "reverse=1\n",
      "reverse=-1\n",
      "600535 ma.dif.10\n",
      "reverse=1\n"
     ]
    },
    {
     "name": "stderr",
     "output_type": "stream",
     "text": [
      "C:\\Users\\dell\\stock_helper.py:189: RuntimeWarning: invalid value encountered in true_divide\n",
      "  (\"mar\", total_ret/total_max_drawdown)]),\n"
     ]
    },
    {
     "name": "stdout",
     "output_type": "stream",
     "text": [
      "reverse=-1\n"
     ]
    },
    {
     "name": "stderr",
     "output_type": "stream",
     "text": [
      "C:\\Users\\dell\\stock_helper.py:189: RuntimeWarning: invalid value encountered in true_divide\n",
      "  (\"mar\", total_ret/total_max_drawdown)]),\n"
     ]
    },
    {
     "name": "stdout",
     "output_type": "stream",
     "text": [
      "600535 kdj.k\n",
      "reverse=1\n",
      "reverse=-1\n",
      "600535 kdj.j\n",
      "reverse=1\n",
      "reverse=-1\n",
      "600535 nr.range\n",
      "reverse=1\n",
      "reverse=-1\n",
      "600535 dbook.range\n",
      "reverse=1\n"
     ]
    },
    {
     "name": "stderr",
     "output_type": "stream",
     "text": [
      "C:\\Users\\dell\\stock_helper.py:189: RuntimeWarning: invalid value encountered in true_divide\n",
      "  (\"mar\", total_ret/total_max_drawdown)]),\n"
     ]
    },
    {
     "name": "stdout",
     "output_type": "stream",
     "text": [
      "reverse=-1\n"
     ]
    },
    {
     "name": "stderr",
     "output_type": "stream",
     "text": [
      "C:\\Users\\dell\\stock_helper.py:189: RuntimeWarning: invalid value encountered in true_divide\n",
      "  (\"mar\", total_ret/total_max_drawdown)]),\n"
     ]
    },
    {
     "name": "stdout",
     "output_type": "stream",
     "text": [
      "600535 range.pos.range\n",
      "reverse=1\n",
      "reverse=-1\n",
      "600535 price.osci.range\n",
      "reverse=1\n"
     ]
    },
    {
     "name": "stderr",
     "output_type": "stream",
     "text": [
      "C:\\Users\\dell\\stock_helper.py:189: RuntimeWarning: invalid value encountered in true_divide\n",
      "  (\"mar\", total_ret/total_max_drawdown)]),\n"
     ]
    },
    {
     "name": "stdout",
     "output_type": "stream",
     "text": [
      "reverse=-1\n"
     ]
    },
    {
     "name": "stderr",
     "output_type": "stream",
     "text": [
      "C:\\Users\\dell\\stock_helper.py:189: RuntimeWarning: invalid value encountered in true_divide\n",
      "  (\"mar\", total_ret/total_max_drawdown)]),\n"
     ]
    },
    {
     "name": "stdout",
     "output_type": "stream",
     "text": [
      "600535 ma.dif.10.range\n",
      "reverse=1\n"
     ]
    },
    {
     "name": "stderr",
     "output_type": "stream",
     "text": [
      "C:\\Users\\dell\\stock_helper.py:189: RuntimeWarning: invalid value encountered in true_divide\n",
      "  (\"mar\", total_ret/total_max_drawdown)]),\n"
     ]
    },
    {
     "name": "stdout",
     "output_type": "stream",
     "text": [
      "reverse=-1\n"
     ]
    },
    {
     "name": "stderr",
     "output_type": "stream",
     "text": [
      "C:\\Users\\dell\\stock_helper.py:189: RuntimeWarning: invalid value encountered in true_divide\n",
      "  (\"mar\", total_ret/total_max_drawdown)]),\n"
     ]
    },
    {
     "name": "stdout",
     "output_type": "stream",
     "text": [
      "600535 kdj.k.range\n",
      "reverse=1\n",
      "reverse=-1\n",
      "600535 kdj.j.range\n",
      "reverse=1\n",
      "reverse=-1\n",
      "600535 nr.std\n",
      "reverse=1\n",
      "reverse=-1\n",
      "600535 dbook.std\n",
      "reverse=1\n",
      "reverse=-1\n",
      "600535 range.pos.std\n",
      "reverse=1\n"
     ]
    },
    {
     "name": "stderr",
     "output_type": "stream",
     "text": [
      "C:\\Users\\dell\\stock_helper.py:189: RuntimeWarning: invalid value encountered in true_divide\n",
      "  (\"mar\", total_ret/total_max_drawdown)]),\n"
     ]
    },
    {
     "name": "stdout",
     "output_type": "stream",
     "text": [
      "reverse=-1\n"
     ]
    },
    {
     "name": "stderr",
     "output_type": "stream",
     "text": [
      "C:\\Users\\dell\\stock_helper.py:189: RuntimeWarning: invalid value encountered in true_divide\n",
      "  (\"mar\", total_ret/total_max_drawdown)]),\n"
     ]
    },
    {
     "name": "stdout",
     "output_type": "stream",
     "text": [
      "600535 price.osci.std\n",
      "reverse=1\n"
     ]
    },
    {
     "name": "stderr",
     "output_type": "stream",
     "text": [
      "C:\\Users\\dell\\stock_helper.py:189: RuntimeWarning: invalid value encountered in true_divide\n",
      "  (\"mar\", total_ret/total_max_drawdown)]),\n"
     ]
    },
    {
     "name": "stdout",
     "output_type": "stream",
     "text": [
      "reverse=-1\n"
     ]
    },
    {
     "name": "stderr",
     "output_type": "stream",
     "text": [
      "C:\\Users\\dell\\stock_helper.py:189: RuntimeWarning: invalid value encountered in true_divide\n",
      "  (\"mar\", total_ret/total_max_drawdown)]),\n"
     ]
    },
    {
     "name": "stdout",
     "output_type": "stream",
     "text": [
      "600535 ma.dif.10.std\n",
      "reverse=1\n"
     ]
    },
    {
     "name": "stderr",
     "output_type": "stream",
     "text": [
      "C:\\Users\\dell\\stock_helper.py:189: RuntimeWarning: invalid value encountered in true_divide\n",
      "  (\"mar\", total_ret/total_max_drawdown)]),\n"
     ]
    },
    {
     "name": "stdout",
     "output_type": "stream",
     "text": [
      "reverse=-1\n"
     ]
    },
    {
     "name": "stderr",
     "output_type": "stream",
     "text": [
      "C:\\Users\\dell\\stock_helper.py:189: RuntimeWarning: invalid value encountered in true_divide\n",
      "  (\"mar\", total_ret/total_max_drawdown)]),\n"
     ]
    },
    {
     "name": "stdout",
     "output_type": "stream",
     "text": [
      "600535 kdj.k.std\n",
      "reverse=1\n"
     ]
    },
    {
     "name": "stderr",
     "output_type": "stream",
     "text": [
      "C:\\Users\\dell\\stock_helper.py:189: RuntimeWarning: invalid value encountered in true_divide\n",
      "  (\"mar\", total_ret/total_max_drawdown)]),\n"
     ]
    },
    {
     "name": "stdout",
     "output_type": "stream",
     "text": [
      "reverse=-1\n"
     ]
    },
    {
     "name": "stderr",
     "output_type": "stream",
     "text": [
      "C:\\Users\\dell\\stock_helper.py:189: RuntimeWarning: invalid value encountered in true_divide\n",
      "  (\"mar\", total_ret/total_max_drawdown)]),\n"
     ]
    },
    {
     "name": "stdout",
     "output_type": "stream",
     "text": [
      "600535 kdj.j.std\n",
      "reverse=1\n"
     ]
    },
    {
     "name": "stderr",
     "output_type": "stream",
     "text": [
      "C:\\Users\\dell\\stock_helper.py:189: RuntimeWarning: invalid value encountered in true_divide\n",
      "  (\"mar\", total_ret/total_max_drawdown)]),\n"
     ]
    },
    {
     "name": "stdout",
     "output_type": "stream",
     "text": [
      "reverse=-1\n"
     ]
    },
    {
     "name": "stderr",
     "output_type": "stream",
     "text": [
      "C:\\Users\\dell\\stock_helper.py:189: RuntimeWarning: invalid value encountered in true_divide\n",
      "  (\"mar\", total_ret/total_max_drawdown)]),\n"
     ]
    },
    {
     "name": "stdout",
     "output_type": "stream",
     "text": [
      "600535 nr.trend.index\n",
      "reverse=1\n",
      "reverse=-1\n",
      "600535 dbook.trend.index\n",
      "reverse=1\n",
      "reverse=-1\n",
      "600535 range.pos.trend.index\n",
      "reverse=1\n",
      "reverse=-1\n",
      "600535 price.osci.trend.index\n",
      "reverse=1\n",
      "reverse=-1\n",
      "600535 ma.dif.10.trend.index\n",
      "reverse=1\n"
     ]
    },
    {
     "name": "stderr",
     "output_type": "stream",
     "text": [
      "C:\\Users\\dell\\stock_helper.py:189: RuntimeWarning: invalid value encountered in true_divide\n",
      "  (\"mar\", total_ret/total_max_drawdown)]),\n"
     ]
    },
    {
     "name": "stdout",
     "output_type": "stream",
     "text": [
      "reverse=-1\n"
     ]
    },
    {
     "name": "stderr",
     "output_type": "stream",
     "text": [
      "C:\\Users\\dell\\stock_helper.py:189: RuntimeWarning: invalid value encountered in true_divide\n",
      "  (\"mar\", total_ret/total_max_drawdown)]),\n"
     ]
    },
    {
     "name": "stdout",
     "output_type": "stream",
     "text": [
      "600535 kdj.k.trend.index\n",
      "reverse=1\n",
      "reverse=-1\n",
      "600535 kdj.j.trend.index\n",
      "reverse=1\n",
      "reverse=-1\n",
      "Wall time: 1d 1h 3min 56s\n"
     ]
    }
   ],
   "source": [
    "%%time\n",
    "SIGNAL_PATH = \"e:/intern\"\n",
    "for product in product_list:\n",
    "    all_dates = np.array(os.listdir(DATA_PATH + product))\n",
    "    for signal in all_signal_list:\n",
    "        print(product, signal)\n",
    "        evaluate_signal(signal, all_dates, product, 0.001, 20, CORE_NUM, HEAD_PATH, SAVE_PATH,\n",
    "                        period=\"comb\", split_str=\"2020\",atr_filter=0.02, save_path=\"signal result atr\")\n",
    "\n",
    "#Wall time: 9h 30min 53s\n"
   ]
  },
  {
   "cell_type": "markdown",
   "metadata": {},
   "source": [
    "- now we compare the result of comb signal and previous signal"
   ]
  },
  {
   "cell_type": "code",
   "execution_count": 27,
   "metadata": {},
   "outputs": [],
   "source": [
    "## get the signal performance\n",
    "## including trend and reverse signals\n",
    "def get_signal_performance_result(all_period_signal, signal_dire, period, product_list):\n",
    "    trend_signal_result = pd.DataFrame(data=OrderedDict([(\"signal\", all_period_signal), (\"reverse\",1),\n",
    "                               (\"num\", 0), (\"trainSharpe\", 0), (\"testSharpe\", 0)]))\n",
    "    reverse_signal_result = pd.DataFrame(data=OrderedDict([(\"signal\", all_period_signal), (\"reverse\",-1),\n",
    "                               (\"num\", 0), (\"trainSharpe\", 0), (\"testSharpe\", 0)]))\n",
    "    n_signal = len(all_period_signal) ## number of all signals\n",
    "    trend_train_sharpe = np.zeros(len(product_list))\n",
    "    trend_test_sharpe = np.zeros(len(product_list))\n",
    "    reverse_train_sharpe = np.zeros(len(product_list))\n",
    "    reverse_test_sharpe = np.zeros(len(product_list))\n",
    "    avg_pnl = 0.001\n",
    "    for k in range(n_signal):\n",
    "        signal_name = all_period_signal[k]\n",
    "        i = 0\n",
    "        for product in product_list:\n",
    "            all_dates = np.array(os.listdir(DATA_PATH + product))\n",
    "            train_sample = all_dates<\"2019\" \n",
    "            test_sample = all_dates>\"2019\"\n",
    "            stat_result = load(HEAD_PATH+\"/\" + signal_dire +\"/\"+product+\".\"+signal_name+\".pkl\") ## statistics of signal over a product\n",
    "            trend_signal_stat = stat_result['trend.signal.stat'] ## trending statistics\n",
    "            \n",
    "            if tuple(trend_signal_stat.keys())[0]=='train.stat':\n",
    "                train_stat = trend_signal_stat[\"train.stat\"]\n",
    "                test_stat = trend_signal_stat[\"test.stat\"]\n",
    "                #good_strat = trend_signal_stat[\"good.strat\"]\n",
    "                good_strat = (train_stat[\"final.result\"][\"avg.ret\"]>avg_pnl) & (train_stat[\"final.result\"][\"num\"]>10)\n",
    "                if sum(good_strat)>2:\n",
    "                    train_stat = trend_signal_stat[\"train.stat\"]\n",
    "                    test_stat = trend_signal_stat[\"test.stat\"]\n",
    "                    train_pnl = train_stat[\"daily.pnl\"][:, good_strat].sum(axis=1)/sum(good_strat)\n",
    "                    #train_std = np.std(train_pnl)\n",
    "                    #train_pnl = train_pnl/train_std\n",
    "                    test_pnl = test_stat[\"daily.pnl\"][:, good_strat].sum(axis=1)/sum(good_strat)\n",
    "                    trend_train_sharpe[i] = sharpe(train_pnl)\n",
    "                    trend_test_sharpe[i] = sharpe(test_pnl)\n",
    "                    #print(product, \"train sharpe \", sharpe(train_pnl), \"test sharpe \", sharpe(test_pnl))\n",
    "                    i = i+1\n",
    "            if i>0: ## if there are any good products\n",
    "                trend_signal_result.loc[k, (\"signal\", \"num\", \"trainSharpe\", \"testSharpe\")] = (signal_name, i,  np.mean(trend_train_sharpe[:i]),np.mean(trend_test_sharpe[:i]))\n",
    "        i = 0\n",
    "        for product in product_list:\n",
    "            stat_result = load(HEAD_PATH+\"/\"+signal_dire+\"/\"+product+\".\"+signal_name+\".pkl\")\n",
    "            reverse_signal_stat = stat_result['reverse.signal.stat']\n",
    "            if tuple(reverse_signal_stat.keys())[0]=='train.stat':\n",
    "                #good_strat = reverse_signal_stat[\"good.strat\"]\n",
    "                train_stat = reverse_signal_stat[\"train.stat\"]\n",
    "                train_pnl = train_stat[\"daily.pnl\"][:, good_strat].sum(axis=1)/sum(good_strat)\n",
    "                test_stat = reverse_signal_stat[\"test.stat\"]\n",
    "                good_strat = (train_stat[\"final.result\"][\"avg.ret\"]>avg_pnl) & (train_stat[\"final.result\"][\"num\"]>10)\n",
    "                test_pnl = test_stat[\"daily.pnl\"][:, good_strat].sum(axis=1)/sum(good_strat)\n",
    "                if sum(good_strat)>2:\n",
    "                    #train_std = np.std(train_pnl)\n",
    "                    #train_pnl = train_pnl/train_std\n",
    "                    reverse_train_sharpe[i] = sharpe(train_pnl)\n",
    "                    reverse_test_sharpe[i] = sharpe(test_pnl)\n",
    "                    i = i+1\n",
    "            if i>0:\n",
    "                \n",
    "                reverse_signal_result.loc[k, (\"signal\",\"num\", \"trainSharpe\", \"testSharpe\")] = (signal_name, i, np.mean(reverse_train_sharpe[:i]),np.mean(reverse_test_sharpe[:i]))\n",
    "    return OrderedDict([(\"trend.signal.stat\", trend_signal_result), \n",
    "                        (\"reverse.signal.stat\", reverse_signal_result)])\n"
   ]
  },
  {
   "cell_type": "code",
   "execution_count": 33,
   "metadata": {},
   "outputs": [],
   "source": [
    "def get_single_signal_stat(result_atr, min_num=0, min_sharpe=0.5):\n",
    "    good_trend = (result_atr[\"trend.signal.stat\"][\"num\"]>min_num) & (result_atr[\"trend.signal.stat\"][\"trainSharpe\"]>min_sharpe) & (result_atr[\"trend.signal.stat\"][\"testSharpe\"]>min_sharpe)\n",
    "    good_reverse = (result_atr[\"reverse.signal.stat\"][\"num\"]>min_num) & (result_atr[\"reverse.signal.stat\"][\"trainSharpe\"]>min_sharpe) & (result_atr[\"reverse.signal.stat\"][\"testSharpe\"]>min_sharpe)\n",
    "    print(\"with atr good signals: \"+ str(sum(good_trend | good_reverse)))\n",
    "    train_sharpe = np.mean(np.append(result_atr[\"trend.signal.stat\"][\"trainSharpe\"][good_trend],\n",
    "                      result_atr[\"reverse.signal.stat\"][\"trainSharpe\"][good_reverse]))\n",
    "    test_sharpe = np.mean(np.append(result_atr[\"trend.signal.stat\"][\"testSharpe\"][good_trend],\n",
    "                      result_atr[\"reverse.signal.stat\"][\"testSharpe\"][good_reverse]))\n",
    "    print(\"train sharpe: \", train_sharpe)\n",
    "    print(\"test sharpe: \", test_sharpe)\n",
    "    print(all_signal_list[good_trend])\n",
    "    print(all_signal_list[good_reverse])\n"
   ]
  },
  {
   "cell_type": "code",
   "execution_count": 36,
   "metadata": {},
   "outputs": [
    {
     "data": {
      "text/plain": [
       "['600276', '000538', '600332', '600436', '600535']"
      ]
     },
     "execution_count": 36,
     "metadata": {},
     "output_type": "execute_result"
    }
   ],
   "source": [
    "product_list"
   ]
  },
  {
   "cell_type": "code",
   "execution_count": 31,
   "metadata": {},
   "outputs": [],
   "source": [
    "result_atr = get_signal_performance_result(all_period_signal, \"signal result atr\", 4096, product_list)\n",
    "result_comb= get_signal_performance_result(all_comb_list, \"signal result atr\", \"comb\", product_list)"
   ]
  },
  {
   "cell_type": "code",
   "execution_count": 38,
   "metadata": {},
   "outputs": [
    {
     "name": "stdout",
     "output_type": "stream",
     "text": [
      "with atr good signals: 5\n",
      "train sharpe:  0.2612288725841526\n",
      "test sharpe:  0.21047517326193385\n",
      "['dbook.trend.index' 'range.pos.trend.index' 'price.osci.trend.index'\n",
      " 'kdj.k.trend.index' 'kdj.j.trend.index']\n",
      "['range.pos.trend.index' 'price.osci.trend.index']\n",
      "with atr good signals: 1\n",
      "train sharpe:  0.534989296666218\n",
      "test sharpe:  0.7477157487691811\n",
      "['dbook.trend.index']\n",
      "['dbook.trend.index']\n"
     ]
    }
   ],
   "source": [
    "get_single_signal_stat(result_atr, min_num=0, min_sharpe=0)\n",
    "get_single_signal_stat(result_comb, min_num=0, min_sharpe=0)\n",
    "\n",
    "#with atr good signals: 5\n",
    "#train sharpe:  0.2612288725841526\n",
    "#test sharpe:  0.21047517326193385\n",
    "#['dbook.trend.index' 'range.pos.trend.index' 'price.osci.trend.index'\n",
    "# 'kdj.k.trend.index' 'kdj.j.trend.index']\n",
    "#['range.pos.trend.index' 'price.osci.trend.index']\n",
    "#with atr good signals: 1\n",
    "#train sharpe:  0.534989296666218\n",
    "#test sharpe:  0.7477157487691811\n",
    "#['dbook.trend.index']\n",
    "#['dbook.trend.index']\n",
    "\n",
    "\n"
   ]
  },
  {
   "cell_type": "code",
   "execution_count": 39,
   "metadata": {},
   "outputs": [
    {
     "name": "stdout",
     "output_type": "stream",
     "text": [
      "with atr good signals: 5\n",
      "train sharpe:  0.2612288725841526\n",
      "test sharpe:  0.21047517326193385\n",
      "['dbook.trend.index' 'range.pos.trend.index' 'price.osci.trend.index'\n",
      " 'kdj.k.trend.index' 'kdj.j.trend.index']\n",
      "['range.pos.trend.index' 'price.osci.trend.index']\n",
      "with atr good signals: 1\n",
      "train sharpe:  0.534989296666218\n",
      "test sharpe:  0.7477157487691811\n",
      "['dbook.trend.index']\n",
      "['dbook.trend.index']\n"
     ]
    }
   ],
   "source": [
    "get_single_signal_stat(result_atr, min_num=1, min_sharpe=0)\n",
    "get_single_signal_stat(result_comb, min_num=1, min_sharpe=0)\n",
    "\n",
    "#with atr good signals: 5\n",
    "#train sharpe:  0.2612288725841526\n",
    "#test sharpe:  0.21047517326193385\n",
    "#['dbook.trend.index' 'range.pos.trend.index' 'price.osci.trend.index'\n",
    "# 'kdj.k.trend.index' 'kdj.j.trend.index']\n",
    "#['range.pos.trend.index' 'price.osci.trend.index']\n",
    "#with atr good signals: 1\n",
    "#train sharpe:  0.534989296666218\n",
    "#test sharpe:  0.7477157487691811\n",
    "#['dbook.trend.index']\n",
    "#['dbook.trend.index']\n",
    "\n"
   ]
  },
  {
   "cell_type": "markdown",
   "metadata": {},
   "source": [
    "- the signal with combination is worse than the signal with just 4096 period"
   ]
  },
  {
   "cell_type": "markdown",
   "metadata": {},
   "source": [
    "- we can see that with atr fitler the result is a little bit worse \n",
    "- also we can see that signal of 4096 ticks perform better than combination of signals\n",
    "- maybe we can use strategies of each period (1024/2048/4096) and then combine them together\n",
    "- rather than combine them first and then construct strategies\n",
    "- now we go to cross-symbol signals and arbitrage"
   ]
  },
  {
   "cell_type": "code",
   "execution_count": 41,
   "metadata": {},
   "outputs": [],
   "source": [
    "product_x = \"600276\"\n",
    "product_y = \"600332\"\n",
    "date = \"2018.pkl\"\n",
    "SAVE_PATH = \"e:/intern\"\n",
    "data_x = load(HEAD_PATH+\"/stock pkl/\"+product_x+\"/\"+date)\n",
    "data_y = load(HEAD_PATH+\"/stock pkl/\"+product_y+\"/\"+date)"
   ]
  },
  {
   "cell_type": "code",
   "execution_count": 46,
   "metadata": {},
   "outputs": [
    {
     "data": {
      "text/plain": [
       "0          2018-01-02 09:25:01\n",
       "1          2018-01-02 09:30:00\n",
       "2          2018-01-02 09:30:02\n",
       "3          2018-01-02 09:30:06\n",
       "4          2018-01-02 09:30:12\n",
       "                  ...         \n",
       "1073071    2018-12-28 14:56:48\n",
       "1073072    2018-12-28 14:56:51\n",
       "1073073    2018-12-28 14:56:54\n",
       "1073074    2018-12-28 14:56:57\n",
       "1073075    2018-12-28 15:00:00\n",
       "Name: date.time, Length: 1073076, dtype: object"
      ]
     },
     "execution_count": 46,
     "metadata": {},
     "output_type": "execute_result"
    }
   ],
   "source": [
    "data_x[\"date.time\"]"
   ]
  },
  {
   "cell_type": "code",
   "execution_count": 47,
   "metadata": {},
   "outputs": [
    {
     "data": {
      "text/plain": [
       "0         2018-01-08 09:25:02\n",
       "1         2018-01-08 09:30:01\n",
       "2         2018-01-08 09:30:03\n",
       "3         2018-01-08 09:30:07\n",
       "4         2018-01-08 09:30:10\n",
       "                 ...         \n",
       "875995    2018-12-28 14:56:44\n",
       "875996    2018-12-28 14:56:47\n",
       "875997    2018-12-28 14:56:53\n",
       "875998    2018-12-28 14:56:59\n",
       "875999    2018-12-28 15:00:00\n",
       "Name: date.time, Length: 876000, dtype: object"
      ]
     },
     "execution_count": 47,
     "metadata": {},
     "output_type": "execute_result"
    }
   ],
   "source": [
    "data_y[\"date.time\"]"
   ]
  },
  {
   "cell_type": "code",
   "execution_count": 42,
   "metadata": {},
   "outputs": [],
   "source": [
    "os.makedirs(HEAD_PATH+\"/comb time\", exist_ok=True)\n",
    "os.makedirs(HEAD_PATH+\"/comb time/\"+product_x+\"_\"+product_y, exist_ok=True)"
   ]
  },
  {
   "cell_type": "code",
   "execution_count": 43,
   "metadata": {},
   "outputs": [],
   "source": [
    "all_dates_x = os.listdir(DATA_PATH + product_x)\n",
    "all_dates_y = os.listdir(DATA_PATH + product_y)\n",
    "all_dates = set(all_dates_x) & set(all_dates_y)\n",
    "all_dates = np.array(list(all_dates))\n",
    "all_dates.sort()"
   ]
  },
  {
   "cell_type": "code",
   "execution_count": 50,
   "metadata": {},
   "outputs": [],
   "source": [
    "from collections import Counter\n",
    "def get_stock_comb_pos(date, product_x, product_y, HEAD_PATH):\n",
    "    data_x = load(HEAD_PATH+\"/stock pkl/\"+product_x+\"/\"+date)\n",
    "    data_y = load(HEAD_PATH+\"/stock pkl/\"+product_y+\"/\"+date)\n",
    "    data_x[\"contract\"] = product_x\n",
    "    data_y[\"contract\"] = product_y\n",
    "    comb_time = np.append(data_x[\"date.time\"], data_y[\"date.time\"])\n",
    "    sort_index = np.argsort(comb_time)\n",
    "    comb_time = comb_time[sort_index]    \n",
    "    data = data_x.append(data_y)\n",
    "    data = data.iloc[sort_index,:]\n",
    "    time_x = data[\"contract\"]==product_x\n",
    "    time_y = data[\"contract\"]==product_y\n",
    "    save([sort_index, time_x, time_y], HEAD_PATH+\"/comb time/\"+product_x+\"_\"+product_y+\"/\"+date)"
   ]
  },
  {
   "cell_type": "code",
   "execution_count": 51,
   "metadata": {},
   "outputs": [
    {
     "name": "stdout",
     "output_type": "stream",
     "text": [
      "Wall time: 17.1 s\n"
     ]
    }
   ],
   "source": [
    "%%time\n",
    "result = parLapply(CORE_NUM, all_dates, get_stock_comb_pos, product_x=product_x, product_y=product_y, HEAD_PATH=HEAD_PATH)\n",
    "\n",
    "#Wall time:  2min 17s"
   ]
  },
  {
   "cell_type": "markdown",
   "metadata": {},
   "source": [
    "- let's go to arbitrage"
   ]
  },
  {
   "cell_type": "code",
   "execution_count": 52,
   "metadata": {},
   "outputs": [],
   "source": [
    "def par_get_stock_arb_all_signal(signal_name, file_list, product_x, product_y, period, HEAD_PATH=\"d:/intern\", SAVE_PATH=\"e:/intern\"):\n",
    "    n_files = len(file_list)\n",
    "    all_signal = np.array([])\n",
    "    for file in file_list:\n",
    "        S_x = load(SAVE_PATH+\"/tmp pkl/\"+product_x+\"/\"+signal_name+\"/\"+file)\n",
    "        S_y = load(SAVE_PATH+\"/tmp pkl/\"+product_y+\"/\"+signal_name+\"/\"+file)\n",
    "        [sort_index, time_x, time_y] = load(HEAD_PATH+\"/comb time/\"+product_x+\"_\"+product_y+\"/\"+file)\n",
    "        extend_x = np.append(S_x,S_y)\n",
    "        extend_x[time_y] = np.nan\n",
    "        extend_y = np.append(S_x,S_y)\n",
    "        extend_y[time_x] = np.nan\n",
    "        extend_x[0] = S_x[0]\n",
    "        extend_y[0] = S_y[0]\n",
    "        extend_x = pd.DataFrame(extend_x)\n",
    "        extend_y = pd.DataFrame(extend_y)\n",
    "        extend_x.ffill(inplace=True)\n",
    "        extend_y.ffill(inplace=True)\n",
    "        signal = np.array((extend_x-extend_y)[0])\n",
    "        chosen = (np.arange(len(signal))+1) % period==0\n",
    "        all_signal = np.concatenate((all_signal, signal[chosen]), axis=0)\n",
    "    save(all_signal, HEAD_PATH+\"/all signal/\"+product_x+\"_\"+product_y+\".\"+signal_name+\".pkl\")\n"
   ]
  },
  {
   "cell_type": "code",
   "execution_count": 53,
   "metadata": {},
   "outputs": [
    {
     "name": "stdout",
     "output_type": "stream",
     "text": [
      "Wall time: 4.34 s\n"
     ]
    }
   ],
   "source": [
    "%%time\n",
    "result = par_get_stock_arb_all_signal(\"kdj.j.4096\",  file_list=all_dates, product_x=product_x, \n",
    "                   product_y = product_y, period=4096, HEAD_PATH=HEAD_PATH, SAVE_PATH = SAVE_PATH)\n",
    "\n",
    "# Wall time:  1min 6s"
   ]
  },
  {
   "cell_type": "code",
   "execution_count": 134,
   "metadata": {},
   "outputs": [],
   "source": [
    "def get_combine_data(file, product_x, product_y, HEAD_PATH=\"d:/intern\", SAVE_PATH=\"e:/intern\"):\n",
    "    data_x = load(HEAD_PATH+\"/stock pkl/\"+product_x+\"/\"+file)\n",
    "    data_y = load(HEAD_PATH+\"/stock pkl/\"+product_y+\"/\"+file)\n",
    "    [sort_index, time_x, time_y] = load(HEAD_PATH+\"/comb time/\"+product_x+\"_\"+product_y+\"/\"+file)\n",
    "    extend_data_x = data_x.append(data_y)\n",
    "    extend_data_x = extend_data_x.reset_index(drop=True)\n",
    "    extend_data_x = extend_data_x.iloc[sort_index]\n",
    "    extend_data_x = extend_data_x.reset_index(drop=True)\n",
    "    extend_data_x.loc[list(time_y), (\"bid1\", \"ask1\", \"next.bid\", \"next.ask\", \"adjust\", \"wpr\")] = np.nan\n",
    "    extend_data_x.loc[0] = data_x.loc[0]\n",
    "    extend_data_x.ffill(inplace=True)\n",
    "    extend_data_y = data_x.append(data_y)\n",
    "    extend_data_y = extend_data_y.reset_index(drop=True)\n",
    "    extend_data_y = extend_data_y.iloc[sort_index]\n",
    "    extend_data_y = extend_data_y.reset_index(drop=True)\n",
    "    extend_data_y.loc[list(time_x), (\"bid1\", \"ask1\", \"next.bid\", \"next.ask\", \"adjust\", \"wpr\")] = np.nan\n",
    "    extend_data_y.loc[0] = data_y.iloc[0]\n",
    "    extend_data_y.ffill(inplace=True)\n",
    "    data = extend_data_x.loc[:,(\"date.time\", \"bid1\", \"ask1\", \"next.bid\", \"next.ask\", \"adjust\", \"wpr\")]\n",
    "    data[\"y.bid\"] = extend_data_y[\"bid1\"].values\n",
    "    data[\"y.ask\"] = extend_data_y[\"ask1\"].values\n",
    "    data[\"y.next.bid\"] = extend_data_y[\"next.bid\"].values\n",
    "    data[\"y.next.ask\"] = extend_data_y[\"next.ask\"].values\n",
    "    data[\"y.adjust\"] = extend_data_y[\"adjust\"].values\n",
    "    data[\"y.wpr\"] = extend_data_y[\"wpr\"].values\n",
    "    save(data, HEAD_PATH+\"/stock pkl/\"+product_x+\"_\"+product_y+\"/\"+file)"
   ]
  },
  {
   "cell_type": "code",
   "execution_count": 135,
   "metadata": {},
   "outputs": [],
   "source": [
    "os.makedirs(HEAD_PATH+\"/stock pkl/\"+product_x+\"_\"+product_y, exist_ok=True)"
   ]
  },
  {
   "cell_type": "code",
   "execution_count": 136,
   "metadata": {},
   "outputs": [
    {
     "name": "stdout",
     "output_type": "stream",
     "text": [
      "Wall time: 28.5 s\n"
     ]
    }
   ],
   "source": [
    "%%time\n",
    "result = parLapply(CORE_NUM, all_dates, get_combine_data, product_x=product_x, product_y = product_y, \n",
    "                   HEAD_PATH=HEAD_PATH, SAVE_PATH=SAVE_PATH);\n",
    "\n",
    "# Wall time: 28.5 s\n"
   ]
  },
  {
   "cell_type": "code",
   "execution_count": 137,
   "metadata": {},
   "outputs": [],
   "source": [
    "data = load(HEAD_PATH+\"/stock pkl/\"+product_x+\"_\"+product_y+\"/\"+all_dates[0])"
   ]
  },
  {
   "cell_type": "code",
   "execution_count": 138,
   "metadata": {},
   "outputs": [
    {
     "data": {
      "text/html": [
       "<div>\n",
       "<style scoped>\n",
       "    .dataframe tbody tr th:only-of-type {\n",
       "        vertical-align: middle;\n",
       "    }\n",
       "\n",
       "    .dataframe tbody tr th {\n",
       "        vertical-align: top;\n",
       "    }\n",
       "\n",
       "    .dataframe thead th {\n",
       "        text-align: right;\n",
       "    }\n",
       "</style>\n",
       "<table border=\"1\" class=\"dataframe\">\n",
       "  <thead>\n",
       "    <tr style=\"text-align: right;\">\n",
       "      <th></th>\n",
       "      <th>date.time</th>\n",
       "      <th>bid1</th>\n",
       "      <th>ask1</th>\n",
       "      <th>next.bid</th>\n",
       "      <th>next.ask</th>\n",
       "      <th>adjust</th>\n",
       "      <th>wpr</th>\n",
       "      <th>y.bid</th>\n",
       "      <th>y.ask</th>\n",
       "      <th>y.next.bid</th>\n",
       "      <th>y.next.ask</th>\n",
       "      <th>y.adjust</th>\n",
       "      <th>y.wpr</th>\n",
       "    </tr>\n",
       "  </thead>\n",
       "  <tbody>\n",
       "    <tr>\n",
       "      <th>0</th>\n",
       "      <td>2016-01-04 09:25:04</td>\n",
       "      <td>49.06</td>\n",
       "      <td>49.10</td>\n",
       "      <td>49.06</td>\n",
       "      <td>49.10</td>\n",
       "      <td>1.000000</td>\n",
       "      <td>49.073333</td>\n",
       "      <td>30.05</td>\n",
       "      <td>30.27</td>\n",
       "      <td>30.16</td>\n",
       "      <td>30.27</td>\n",
       "      <td>1.0</td>\n",
       "      <td>30.090526</td>\n",
       "    </tr>\n",
       "    <tr>\n",
       "      <th>1</th>\n",
       "      <td>2016-01-04 09:25:04</td>\n",
       "      <td>49.06</td>\n",
       "      <td>49.10</td>\n",
       "      <td>49.06</td>\n",
       "      <td>49.10</td>\n",
       "      <td>1.000000</td>\n",
       "      <td>49.073333</td>\n",
       "      <td>30.05</td>\n",
       "      <td>30.27</td>\n",
       "      <td>30.16</td>\n",
       "      <td>30.27</td>\n",
       "      <td>1.0</td>\n",
       "      <td>30.090526</td>\n",
       "    </tr>\n",
       "    <tr>\n",
       "      <th>2</th>\n",
       "      <td>2016-01-04 09:30:01</td>\n",
       "      <td>49.06</td>\n",
       "      <td>49.10</td>\n",
       "      <td>49.01</td>\n",
       "      <td>49.06</td>\n",
       "      <td>1.000000</td>\n",
       "      <td>49.074545</td>\n",
       "      <td>30.05</td>\n",
       "      <td>30.27</td>\n",
       "      <td>30.16</td>\n",
       "      <td>30.27</td>\n",
       "      <td>1.0</td>\n",
       "      <td>30.090526</td>\n",
       "    </tr>\n",
       "    <tr>\n",
       "      <th>3</th>\n",
       "      <td>2016-01-04 09:30:02</td>\n",
       "      <td>49.06</td>\n",
       "      <td>49.10</td>\n",
       "      <td>49.01</td>\n",
       "      <td>49.06</td>\n",
       "      <td>1.000000</td>\n",
       "      <td>49.074545</td>\n",
       "      <td>30.16</td>\n",
       "      <td>30.27</td>\n",
       "      <td>30.16</td>\n",
       "      <td>30.25</td>\n",
       "      <td>1.0</td>\n",
       "      <td>30.204468</td>\n",
       "    </tr>\n",
       "    <tr>\n",
       "      <th>4</th>\n",
       "      <td>2016-01-04 09:30:03</td>\n",
       "      <td>49.06</td>\n",
       "      <td>49.10</td>\n",
       "      <td>49.01</td>\n",
       "      <td>49.06</td>\n",
       "      <td>1.000000</td>\n",
       "      <td>49.074545</td>\n",
       "      <td>30.16</td>\n",
       "      <td>30.25</td>\n",
       "      <td>30.16</td>\n",
       "      <td>30.25</td>\n",
       "      <td>1.0</td>\n",
       "      <td>30.205738</td>\n",
       "    </tr>\n",
       "    <tr>\n",
       "      <th>...</th>\n",
       "      <td>...</td>\n",
       "      <td>...</td>\n",
       "      <td>...</td>\n",
       "      <td>...</td>\n",
       "      <td>...</td>\n",
       "      <td>...</td>\n",
       "      <td>...</td>\n",
       "      <td>...</td>\n",
       "      <td>...</td>\n",
       "      <td>...</td>\n",
       "      <td>...</td>\n",
       "      <td>...</td>\n",
       "      <td>...</td>\n",
       "    </tr>\n",
       "    <tr>\n",
       "      <th>1215084</th>\n",
       "      <td>2016-12-30 14:59:51</td>\n",
       "      <td>45.50</td>\n",
       "      <td>45.52</td>\n",
       "      <td>45.50</td>\n",
       "      <td>45.52</td>\n",
       "      <td>1.198509</td>\n",
       "      <td>54.555208</td>\n",
       "      <td>23.97</td>\n",
       "      <td>23.98</td>\n",
       "      <td>23.97</td>\n",
       "      <td>23.98</td>\n",
       "      <td>1.0</td>\n",
       "      <td>23.970179</td>\n",
       "    </tr>\n",
       "    <tr>\n",
       "      <th>1215085</th>\n",
       "      <td>2016-12-30 14:59:57</td>\n",
       "      <td>45.50</td>\n",
       "      <td>45.52</td>\n",
       "      <td>45.50</td>\n",
       "      <td>45.52</td>\n",
       "      <td>1.198509</td>\n",
       "      <td>54.555208</td>\n",
       "      <td>23.97</td>\n",
       "      <td>23.98</td>\n",
       "      <td>23.97</td>\n",
       "      <td>23.98</td>\n",
       "      <td>1.0</td>\n",
       "      <td>23.970119</td>\n",
       "    </tr>\n",
       "    <tr>\n",
       "      <th>1215086</th>\n",
       "      <td>2016-12-30 14:59:57</td>\n",
       "      <td>45.50</td>\n",
       "      <td>45.52</td>\n",
       "      <td>45.52</td>\n",
       "      <td>45.54</td>\n",
       "      <td>1.198509</td>\n",
       "      <td>54.555096</td>\n",
       "      <td>23.97</td>\n",
       "      <td>23.98</td>\n",
       "      <td>23.97</td>\n",
       "      <td>23.98</td>\n",
       "      <td>1.0</td>\n",
       "      <td>23.970119</td>\n",
       "    </tr>\n",
       "    <tr>\n",
       "      <th>1215087</th>\n",
       "      <td>2016-12-30 15:00:00</td>\n",
       "      <td>45.52</td>\n",
       "      <td>45.54</td>\n",
       "      <td>45.52</td>\n",
       "      <td>45.54</td>\n",
       "      <td>1.198509</td>\n",
       "      <td>54.579119</td>\n",
       "      <td>23.97</td>\n",
       "      <td>23.98</td>\n",
       "      <td>23.97</td>\n",
       "      <td>23.98</td>\n",
       "      <td>1.0</td>\n",
       "      <td>23.970119</td>\n",
       "    </tr>\n",
       "    <tr>\n",
       "      <th>1215088</th>\n",
       "      <td>2016-12-30 15:00:05</td>\n",
       "      <td>45.52</td>\n",
       "      <td>45.54</td>\n",
       "      <td>45.52</td>\n",
       "      <td>45.54</td>\n",
       "      <td>1.198509</td>\n",
       "      <td>54.579119</td>\n",
       "      <td>23.97</td>\n",
       "      <td>23.98</td>\n",
       "      <td>23.97</td>\n",
       "      <td>23.98</td>\n",
       "      <td>1.0</td>\n",
       "      <td>23.970119</td>\n",
       "    </tr>\n",
       "  </tbody>\n",
       "</table>\n",
       "<p>1215089 rows × 13 columns</p>\n",
       "</div>"
      ],
      "text/plain": [
       "                   date.time   bid1   ask1  next.bid  next.ask    adjust  \\\n",
       "0        2016-01-04 09:25:04  49.06  49.10     49.06     49.10  1.000000   \n",
       "1        2016-01-04 09:25:04  49.06  49.10     49.06     49.10  1.000000   \n",
       "2        2016-01-04 09:30:01  49.06  49.10     49.01     49.06  1.000000   \n",
       "3        2016-01-04 09:30:02  49.06  49.10     49.01     49.06  1.000000   \n",
       "4        2016-01-04 09:30:03  49.06  49.10     49.01     49.06  1.000000   \n",
       "...                      ...    ...    ...       ...       ...       ...   \n",
       "1215084  2016-12-30 14:59:51  45.50  45.52     45.50     45.52  1.198509   \n",
       "1215085  2016-12-30 14:59:57  45.50  45.52     45.50     45.52  1.198509   \n",
       "1215086  2016-12-30 14:59:57  45.50  45.52     45.52     45.54  1.198509   \n",
       "1215087  2016-12-30 15:00:00  45.52  45.54     45.52     45.54  1.198509   \n",
       "1215088  2016-12-30 15:00:05  45.52  45.54     45.52     45.54  1.198509   \n",
       "\n",
       "               wpr  y.bid  y.ask  y.next.bid  y.next.ask  y.adjust      y.wpr  \n",
       "0        49.073333  30.05  30.27       30.16       30.27       1.0  30.090526  \n",
       "1        49.073333  30.05  30.27       30.16       30.27       1.0  30.090526  \n",
       "2        49.074545  30.05  30.27       30.16       30.27       1.0  30.090526  \n",
       "3        49.074545  30.16  30.27       30.16       30.25       1.0  30.204468  \n",
       "4        49.074545  30.16  30.25       30.16       30.25       1.0  30.205738  \n",
       "...            ...    ...    ...         ...         ...       ...        ...  \n",
       "1215084  54.555208  23.97  23.98       23.97       23.98       1.0  23.970179  \n",
       "1215085  54.555208  23.97  23.98       23.97       23.98       1.0  23.970119  \n",
       "1215086  54.555096  23.97  23.98       23.97       23.98       1.0  23.970119  \n",
       "1215087  54.579119  23.97  23.98       23.97       23.98       1.0  23.970119  \n",
       "1215088  54.579119  23.97  23.98       23.97       23.98       1.0  23.970119  \n",
       "\n",
       "[1215089 rows x 13 columns]"
      ]
     },
     "execution_count": 138,
     "metadata": {},
     "output_type": "execute_result"
    }
   ],
   "source": [
    "data"
   ]
  },
  {
   "cell_type": "code",
   "execution_count": 156,
   "metadata": {},
   "outputs": [],
   "source": [
    "from collections import OrderedDict\n",
    "def get_stock_cross_signal_pnl(file, product_x, product_y, signal_name, thre_mat, reverse=1,  buy_tranct=1.5e-4, sell_tranct=11.5e-4,\n",
    "                   max_spread=0.011,HEAD_PATH=\"d:/intern\", SAVE_PATH=\"e:/intern\",\n",
    "                   atr_filter=0):\n",
    "    ## load data\n",
    "    data = load(HEAD_PATH+\"/stock pkl/\"+product_x+\"_\"+product_y+\"/\"+file)\n",
    "    [sort_index, time_x, time_y] = load(HEAD_PATH+\"/comb time/\"+product_x+\"_\"+product_y+\"/\"+file)\n",
    "    S_x = load(SAVE_PATH+\"/tmp pkl/\"+product_x+\"/\"+signal_name+\"/\"+file)\n",
    "    S_y = load(SAVE_PATH+\"/tmp pkl/\"+product_y+\"/\"+signal_name+\"/\"+file)\n",
    "    extend_x = np.append(S_x, S_y)\n",
    "    extend_x = extend_x[sort_index]\n",
    "    extend_x[time_y] = np.nan\n",
    "    extend_x[0] = S_x[0]\n",
    "    extend_x = pd.DataFrame(extend_x)\n",
    "    extend_x.ffill(inplace=True)\n",
    "    atr_x = load(SAVE_PATH+\"/tmp pkl/\"+product_x+\"/\"+\"atr.4096\"+\"/\"+file).reset_index(drop=True)\n",
    "    atr_y = load(SAVE_PATH+\"/tmp pkl/\"+product_y+\"/\"+\"atr.4096\"+\"/\"+file).reset_index(drop=True)\n",
    "    extend_atr_x = np.append(atr_x, atr_y)\n",
    "    extend_atr_x = extend_atr_x[sort_index]\n",
    "    extend_atr_x[time_y] = np.nan\n",
    "    extend_atr_x[0] = atr_x[0]\n",
    "    extend_atr_x = pd.DataFrame(extend_atr_x)\n",
    "    extend_atr_x.ffill(inplace=True)\n",
    "    atr = extend_atr_x\n",
    "    S = extend_x\n",
    "    pred = S*reverse\n",
    "    pred = pred[0]\n",
    "    data_x = np.nan\n",
    "    data_y = np.nan\n",
    "    date = np.array([x[0:10] for x in data[\"date.time\"]])\n",
    "    next_date = np.append(date[1:],'1')\n",
    "    end_day = date!=next_date\n",
    "    count = 0;\n",
    "    n_day = sum(end_day)\n",
    "    n_thre = np.shape(thre_mat)[0]\n",
    "    all_pnl = np.zeros((n_day, n_thre))\n",
    "    result = pd.DataFrame(data=OrderedDict([(\"open\", thre_mat[\"open\"].values), (\"close\", thre_mat[\"close\"].values),\n",
    "                               (\"num\", 0), (\"avg.ret\", 0), (\"ret\", 0)]), \n",
    "                          index=thre_mat.index)\n",
    "    count = 0;\n",
    "    cur_spread = data[\"y.ask\"]-data[\"y.bid\"]\n",
    "    for thre in thre_mat.iterrows():\n",
    "        count = count+1\n",
    "        buy = pred>thre[1][\"open\"]\n",
    "        sell = pred<-thre[1][\"open\"]\n",
    "        signal = pd.Series(data=0, index=data.index)\n",
    "        position = signal.copy()\n",
    "        signal[buy] = 1\n",
    "        signal[sell] = -1\n",
    "        signal[atr<atr_filter]=0\n",
    "        scratch = -thre[1][\"close\"]\n",
    "        position_pos = pd.Series(data=np.nan, index=data.index)\n",
    "        position_pos.iloc[0] = 0\n",
    "        position_pos[(signal==1) & (data[\"y.next.ask\"]>0) & (data[\"y.next.bid\"]>0) & (cur_spread<max_spread)] = 1\n",
    "        position_pos[(pred< -scratch) & (data[\"y.next.bid\"]>0) & (cur_spread<max_spread)] = 0\n",
    "        position_pos.ffill(inplace=True)\n",
    "        pre_pos = position_pos.shift(1)\n",
    "        notional_position_pos = pd.Series(data=0, index=data.index)\n",
    "        notional_position_pos[position_pos==1] = 1\n",
    "        notional_position_pos[(position_pos==1) & (pre_pos==1)] = np.nan\n",
    "        notional_position_pos[(notional_position_pos==1)] = 1/data[\"y.next.ask\"][(notional_position_pos==1)]\n",
    "        notional_position_pos.ffill(inplace=True)\n",
    "        position_neg = pd.Series(data=np.nan, index=data.index)\n",
    "        position_neg.iloc[0] = 0\n",
    "        position_neg[(signal==-1) & (data[\"y.next.ask\"]>0) & (data[\"y.next.bid\"]>0) & (cur_spread<max_spread)] = -1\n",
    "        position_neg[(pred> scratch) & (data[\"y.next.ask\"]>0) & (cur_spread<max_spread)] = 0\n",
    "        position_neg.ffill(inplace=True)\n",
    "        pre_neg = position_neg.shift(1)\n",
    "        notional_position_neg = pd.Series(data=0, index=data.index)\n",
    "        notional_position_neg[position_neg==-1] = -1\n",
    "        notional_position_neg[(position_neg==-1) & (pre_neg==-1)] = np.nan\n",
    "        notional_position_neg[(notional_position_neg==-1)] = -1/data[\"y.next.bid\"][(notional_position_neg==-1)]\n",
    "        notional_position_neg.ffill(inplace=True)\n",
    "        position = position_pos + position_neg\n",
    "        notional_position = notional_position_pos+notional_position_neg\n",
    "        #position[n_bar-1] = 0\n",
    "        position.iloc[0] = 0\n",
    "        position.iloc[-2:] = 0\n",
    "        notional_position.iloc[0] = 0\n",
    "        notional_position.iloc[-2:] = 0\n",
    "        change_pos = position - position.shift(1)\n",
    "        notional_change_pos = notional_position-notional_position.shift(1)\n",
    "        change_pos.iloc[0] = 0\n",
    "        notional_change_pos.iloc[0] = 0\n",
    "        change_base = pd.Series(data=0, index=data.index)\n",
    "        change_buy = change_pos>0\n",
    "        change_sell = change_pos<0\n",
    "        change_base[change_buy] = data[\"y.next.ask\"][change_buy]*(1+buy_tranct)*data[\"y.adjust\"]\n",
    "        change_base[change_sell] = data[\"y.next.bid\"][change_sell]*(1-sell_tranct)*data[\"y.adjust\"]\n",
    "        raw_pnl = -(change_base*notional_change_pos).cumsum()+notional_position*data[\"wpr\"]\n",
    "        final_pnl = -sum(change_base*notional_change_pos) ## total pnl, there is a negative sign, because selling get money and buying pay money\n",
    "        turnover = sum(change_base*abs(notional_change_pos))\n",
    "        num = sum((notional_position!=0) & (notional_change_pos!=0)) ## number of trades\n",
    "        hld_period = sum(position!=0)   ## holding period\n",
    "        daily_pnl = raw_pnl[end_day].reset_index(drop=True)\n",
    "        pnl = np.append(daily_pnl[0], np.diff(daily_pnl))\n",
    "        all_pnl[:,thre[0]] = pnl\n",
    "        if (num==0):\n",
    "            result.loc[thre[0], (\"num\",\"avg.ret\",\"ret\")] = (0,0,0)\n",
    "        else:\n",
    "            result.loc[thre[0],(\"num\", \"avg.ret\", \"ret\", )] = (num, final_pnl/num, final_pnl)\n",
    "    return OrderedDict([(\"all.pnl\", all_pnl), (\"result\", result), (\"date\", date[end_day])])\n"
   ]
  },
  {
   "cell_type": "code",
   "execution_count": 157,
   "metadata": {},
   "outputs": [],
   "source": [
    "signal_name = \"kdj.j.4096\" "
   ]
  },
  {
   "cell_type": "code",
   "execution_count": 158,
   "metadata": {},
   "outputs": [],
   "source": [
    "open_list = np.arange(0.5, 1, 0.025)\n",
    "thre_list = []\n",
    "for cartesian in itertools.product(open_list, np.array([0.2, 0.4, 0.6, 0.8, 1.0])):\n",
    "    thre_list.append((cartesian[0], -cartesian[0] * cartesian[1]))\n",
    "thre_list = np.array(thre_list)\n",
    "thre_mat = pd.DataFrame(data=OrderedDict([(\"open\", thre_list[:, 0]), (\"close\", thre_list[:, 1])]))\n"
   ]
  },
  {
   "cell_type": "code",
   "execution_count": 159,
   "metadata": {},
   "outputs": [],
   "source": [
    "from collections import OrderedDict\n",
    "def get_stock_cross_signal_stat(signal_name, thre_mat, product_x, product_y, all_dates, CORE_NUM, split_str=\"2019\", reverse=1, \n",
    "                                 buy_tranct=1.5e-4, sell_tranct=11.5e-4,\n",
    "                    max_spread=0.011,  HEAD_PATH=\"d:/intern\", SAVE_PATH=\"e:/intern\", min_pnl=2, min_num=20, atr_filter=0):\n",
    "    train_sample = all_dates<split_str\n",
    "    test_sample = all_dates>split_str\n",
    "    with dask.config.set(scheduler='processes', num_workers=CORE_NUM):\n",
    "        f_par = functools.partial(get_stock_cross_signal_pnl, product_x=product_x, product_y=product_y, signal_name=signal_name, thre_mat=thre_mat,\n",
    "                                 reverse=reverse, buy_tranct=buy_tranct, sell_tranct=sell_tranct, max_spread=max_spread, \n",
    "                                  HEAD_PATH=HEAD_PATH,\n",
    "                                  SAVE_PATH=SAVE_PATH,atr_filter=atr_filter)\n",
    "        train_result = compute([delayed(f_par)(file) for file in all_dates[train_sample]])[0]\n",
    "    train_stat = get_hft_summary(train_result, thre_mat)\n",
    "    with dask.config.set(scheduler='processes', num_workers=CORE_NUM):\n",
    "        f_par = functools.partial(get_stock_cross_signal_pnl, product_x=product_x, product_y=product_y, signal_name=signal_name, thre_mat=thre_mat,\n",
    "                                  reverse=reverse, buy_tranct=buy_tranct, sell_tranct=sell_tranct, max_spread=max_spread, \n",
    "                                  HEAD_PATH=HEAD_PATH, SAVE_PATH=SAVE_PATH,\n",
    "                                  atr_filter=atr_filter)\n",
    "        test_result = compute([delayed(f_par)(file) for file in all_dates[test_sample]])[0]\n",
    "    test_stat = get_hft_summary(test_result, thre_mat)\n",
    "    return OrderedDict([(\"train.stat\", train_stat), (\"test.stat\", test_stat)])"
   ]
  },
  {
   "cell_type": "code",
   "execution_count": 160,
   "metadata": {},
   "outputs": [],
   "source": [
    "def evaluate_stock_cross_signal(signal, all_dates, product_x, product_y, min_pnl, min_num, HEAD_PATH, SAVE_PATH,\n",
    "                    CORE_NUM, period=4096, split_str=\"2018\", buy_tranct=1.5e-4, sell_tranct=11.5e-4,\n",
    "                    max_spread=0.011, atr_filter=0, save_path=\"signal result\"):\n",
    "    signal_name = signal+\".\"+str(period)\n",
    "    all_signal = load(SAVE_PATH+\"/all signal/\"+product_x+\".\"+signal_name+\".pkl\")\n",
    "    open_list = np.quantile(abs(all_signal), np.append(np.arange(0.991,0.999,0.001),np.arange(0.9991,0.9999,0.0001)))\n",
    "    thre_list = []\n",
    "    for cartesian in itertools.product(open_list, np.array([0.2, 0.4, 0.6, 0.8, 1.0])):\n",
    "        thre_list.append((cartesian[0], -cartesian[0] * cartesian[1]))\n",
    "    thre_list = np.array(thre_list)\n",
    "    thre_mat = pd.DataFrame(data=OrderedDict([(\"open\", thre_list[:, 0]), (\"close\", thre_list[:, 1])]))\n",
    "    print(\"reverse=1\")\n",
    "    trend_signal_stat = get_stock_cross_signal_stat(signal_name, thre_mat, product_x, product_y, all_dates, CORE_NUM, split_str=split_str, reverse=1, \n",
    "                    max_spread=max_spread, HEAD_PATH=HEAD_PATH, SAVE_PATH=SAVE_PATH, min_pnl=min_pnl, min_num=min_num, atr_filter=atr_filter)\n",
    "    print(\"reverse=-1\")\n",
    "    reverse_signal_stat = get_stock_cross_signal_stat(signal_name, thre_mat, product_x, product_y, all_dates, CORE_NUM, split_str=split_str, reverse=-1, \n",
    "                    max_spread=max_spread, HEAD_PATH=HEAD_PATH, SAVE_PATH=SAVE_PATH,  min_pnl=min_pnl, min_num=min_num, atr_filter=atr_filter)\n",
    "    stat_result = OrderedDict([(\"trend.signal.stat\", trend_signal_stat), (\"reverse.signal.stat\", reverse_signal_stat)])    \n",
    "    save(stat_result, HEAD_PATH+\"/\"+save_path+\"/\"+product_x+\"_\"+product_y+\".\"+signal_name+\".pkl\")\n"
   ]
  },
  {
   "cell_type": "code",
   "execution_count": 161,
   "metadata": {
    "scrolled": true
   },
   "outputs": [
    {
     "name": "stdout",
     "output_type": "stream",
     "text": [
      "reverse=1\n",
      "reverse=-1\n",
      "Wall time: 18min 35s\n"
     ]
    }
   ],
   "source": [
    "%%time\n",
    "result = evaluate_stock_cross_signal(\"kdj.j\", np.array(list(all_dates)), product_x,product_y, 2, 20, HEAD_PATH, SAVE_PATH,\n",
    "                CORE_NUM, period=4096, split_str=\"2019\", atr_filter=0.02, save_path=\"signal result atr\")\n",
    "\n",
    "# reverse=1\n",
    "# reverse=-1\n",
    "# Wall time: 18min 19s\n",
    "\n",
    "\n",
    "\n"
   ]
  },
  {
   "cell_type": "code",
   "execution_count": 162,
   "metadata": {},
   "outputs": [],
   "source": [
    "result = load(HEAD_PATH+\"/signal result atr/\"+product_x+\"_\"+product_y+\".kdj.j.4096.pkl\")"
   ]
  },
  {
   "cell_type": "code",
   "execution_count": 163,
   "metadata": {},
   "outputs": [
    {
     "name": "stdout",
     "output_type": "stream",
     "text": [
      "0.024274977406414325 -0.008329860439665113\n"
     ]
    },
    {
     "data": {
      "image/png": "[encoded data removed]",
      "text/plain": [
       "<Figure size 1152x720 with 1 Axes>"
      ]
     },
     "metadata": {
      "needs_background": "light"
     },
     "output_type": "display_data"
    }
   ],
   "source": [
    "train_stat =result[\"trend.signal.stat\"][\"train.stat\"]\n",
    "train_sample = all_dates<\"2019\"\n",
    "test_sample = all_dates>\"2019\"\n",
    "train_dates = np.array([pd.to_datetime(d) for d in train_stat[\"date\"]])\n",
    "good_strat = (train_stat[\"final.result\"][\"avg.ret\"]>0.001) & (train_stat[\"final.result\"][\"num\"]>0)\n",
    "train_pnl = train_stat[\"daily.pnl\"][:, good_strat].sum(axis=1)/sum(good_strat)\n",
    "test_stat =result[\"reverse.signal.stat\"][\"test.stat\"]\n",
    "test_pnl = test_stat[\"daily.pnl\"][:, good_strat].sum(axis=1)/sum(good_strat)\n",
    "test_dates = np.array([pd.to_datetime(d) for d in test_stat[\"date\"]])\n",
    "format_dates = np.append(train_dates, test_dates)\n",
    "pnl = np.append(train_pnl, test_pnl)\n",
    "plt.figure(1, figsize=(16, 10));\n",
    "plt.title(\"\");\n",
    "plt.xlabel(\"date\");\n",
    "plt.ylabel(\"pnl\");\n",
    "plt.title(product_x+\" to \"+product_y+\" trend\");\n",
    "plt.plot(format_dates, pnl.cumsum());\n",
    "#plt.plot(format_dates[test_sample], pnl.cumsum()[test_sample])\n",
    "print(sharpe(train_pnl), sharpe(test_pnl))\n",
    "# 0.024274977406414325 -0.008329860439665113\n"
   ]
  },
  {
   "cell_type": "markdown",
   "metadata": {},
   "source": [
    "- we can see that strategies in training set can still perform well in test set"
   ]
  },
  {
   "cell_type": "code",
   "execution_count": 225,
   "metadata": {
    "scrolled": true
   },
   "outputs": [],
   "source": [
    "## backtest arbitrage signal strategy\n",
    "## each time buy a product and sell another\n",
    "## long the pair means long product x and short product y with the same notional value\n",
    "from collections import OrderedDict\n",
    "def get_stock_arb_signal_pnl(file, product_x, product_y, signal_name, thre_mat, reverse=1, buy_tranct=1.5e-4, sell_tranct=11.5e-4,\n",
    "                             max_spread_x=0.011, max_spread_y=0.011,HEAD_PATH=\"d:/intern\", SAVE_PATH=\"e:/intern\", \n",
    "                             rebate=0, signal_thre=11e-4):\n",
    "    ## load data\n",
    "    data = load(HEAD_PATH+\"/stock pkl/\"+product_x+\"_\"+product_y+\"/\"+file)\n",
    "    [sort_index, time_x, time_y] = load(HEAD_PATH+\"/comb time/\"+product_x+\"_\"+product_y+\"/\"+file)\n",
    "    ## load signals\n",
    "    S_x = load(SAVE_PATH+\"/tmp pkl/\"+product_x+\"/\"+signal_name+\"/\"+file)\n",
    "    S_y = load(SAVE_PATH+\"/tmp pkl/\"+product_y+\"/\"+signal_name+\"/\"+file)\n",
    "    [sort_index, time_x, time_y] = load(HEAD_PATH+\"/comb time/\"+product_x+\"_\"+product_y+\"/\"+file)\n",
    "    extend_x = np.append(S_x,S_y)\n",
    "    extend_x[time_y] = np.nan\n",
    "    extend_y = np.append(S_x,S_y)\n",
    "    extend_y[time_x] = np.nan\n",
    "    extend_x[0] = S_x[0]\n",
    "    extend_y[0] = S_y[0]\n",
    "    extend_x = pd.DataFrame(extend_x)\n",
    "    extend_y = pd.DataFrame(extend_y)\n",
    "    extend_x.ffill(inplace=True)\n",
    "    extend_y.ffill(inplace=True)\n",
    "    S = np.array((extend_x-extend_y)[0]) ## difference of two signals\n",
    "    pred = S*reverse\n",
    "    #pred = pred[data[\"good\"]].reset_index(drop=True)[0]\n",
    "    data = data.reset_index(drop=True) \n",
    "    date = np.array([x[0:10] for x in data[\"date.time\"]])\n",
    "    next_date = np.append(date[1:],'1')\n",
    "    end_day = date!=next_date\n",
    "    count = 0;\n",
    "    n_day = sum(end_day)\n",
    "    n_thre = np.shape(thre_mat)[0]\n",
    "    all_pnl = np.zeros((n_day, n_thre))\n",
    "    data_x = np.nan\n",
    "    data_y = np.nan\n",
    "    result = pd.DataFrame(data=OrderedDict([(\"open\", thre_mat[\"open\"].values), (\"close\", thre_mat[\"close\"].values),\n",
    "                            (\"num\", 0), (\"avg.ret\", 0), (\"ret\", 0)]), \n",
    "                          index=thre_mat.index)\n",
    "    count = 0;\n",
    "    cur_spread_x = data[\"ask1\"]-data[\"bid1\"]\n",
    "    cur_spread_y = data[\"y.ask\"]-data[\"y.bid\"]\n",
    "    n_bar = len(data)\n",
    "    for thre in thre_mat.iterrows():\n",
    "        count = count+1\n",
    "        buy = pred>thre[1][\"open\"]\n",
    "        sell = pred<-thre[1][\"open\"]\n",
    "        signal = pd.Series(data=0, index=data.index)\n",
    "        position = signal.copy()\n",
    "        signal[buy] = 1\n",
    "        signal[sell] = -1\n",
    "        scratch = -thre[1][\"close\"]\n",
    "        position_pos = pd.Series(data=np.nan, index=data.index)\n",
    "        position_pos.iloc[0] = 0\n",
    "        ## long means buy product x at next.ask and sell product y at next bid\n",
    "        position_pos[(signal==1) & (data[\"next.ask\"]>0) & (data[\"next.bid\"]>0) & (cur_spread_x<max_spread_x) &\n",
    "                    (data[\"y.next.ask\"]>0) & (data[\"y.next.bid\"]>0) & (cur_spread_y<max_spread_y)] = 1\n",
    "        position_pos[(pred< -scratch) & (data[\"next.bid\"]>0) & (data[\"y.next.ask\"]>0) & (cur_spread_x<max_spread_x) &\n",
    "                    (cur_spread_y<max_spread_y)] = 0\n",
    "        position_pos.ffill(inplace=True)\n",
    "        pre_pos = position_pos.shift(1)\n",
    "        notional_position_pos_x = pd.Series(data=0, index=data.index)\n",
    "        notional_position_pos_y = pd.Series(data=0, index=data.index)\n",
    "        notional_position_pos_x[position_pos==1] = 1\n",
    "        notional_position_pos_x[(position_pos==1) & (pre_pos==1)] = np.nan\n",
    "        notional_position_pos_y[position_pos==1] = 1\n",
    "        notional_position_pos_y[(position_pos==1) & (pre_pos==1)] = np.nan\n",
    "        notional_position_pos_x[(notional_position_pos_x==1)] = 1/data[\"next.ask\"][(notional_position_pos_x==1)]\n",
    "        notional_position_pos_y[(notional_position_pos_y==1)] = -1/data[\"y.next.bid\"][(notional_position_pos_y==1)]\n",
    "        notional_position_pos_x.ffill(inplace=True)\n",
    "        notional_position_pos_y.ffill(inplace=True)\n",
    "        position_neg = pd.Series(data=np.nan, index=data.index)\n",
    "        position_neg.iloc[0] = 0\n",
    "        ## short means sell product x at next.bid and buy product y at next ask\n",
    "        position_neg[(signal==-1) & (data[\"next.ask\"]>0) & (data[\"next.bid\"]>0) & (cur_spread_x<max_spread_x) &\n",
    "                    (data[\"y.next.ask\"]>0) & (data[\"y.next.bid\"]>0) & (cur_spread_y<max_spread_y)] = -1\n",
    "        position_neg[(pred> scratch) & (data[\"next.ask\"]>0) & (data[\"y.next.bid\"]>0) & (cur_spread_y<max_spread_y)] = 0\n",
    "        position_neg.ffill(inplace=True)\n",
    "        pre_neg = position_neg.shift(1)\n",
    "        notional_position_neg_x = pd.Series(data=0, index=data.index)\n",
    "        notional_position_neg_y = pd.Series(data=0, index=data.index)\n",
    "        notional_position_neg_x[position_neg==-1] = -1\n",
    "        notional_position_neg_x[(position_neg==-1) & (pre_neg==-1)] = np.nan\n",
    "        notional_position_neg_y[position_neg==-1] = -1\n",
    "        notional_position_neg_y[(position_neg==-1) & (pre_neg==-1)] = np.nan\n",
    "        notional_position_neg_x[(notional_position_neg_x==-1)] = -1/data[\"next.bid\"][(notional_position_neg_x==-1)]\n",
    "        notional_position_neg_y[(notional_position_neg_y==-1)] = 1/data[\"y.next.ask\"][(notional_position_neg_y==-1)]\n",
    "        notional_position_neg_x.ffill(inplace=True)\n",
    "        notional_position_neg_y.ffill(inplace=True)\n",
    "        position = position_pos + position_neg\n",
    "        notional_position_x = notional_position_pos_x+notional_position_neg_x\n",
    "        notional_position_y = notional_position_pos_y+notional_position_neg_y\n",
    "        #position[n_bar-1] = 0\n",
    "        position.iloc[0] = 0\n",
    "        position.iloc[-10:] = 0\n",
    "        notional_position_x.iloc[0] = 0\n",
    "        notional_position_y.iloc[0] = 0\n",
    "        notional_position_x.iloc[-10:] = 0\n",
    "        notional_position_y.iloc[-10:] = 0\n",
    "        notional_change_pos_x = notional_position_x-notional_position_x.shift(1)\n",
    "        notional_change_pos_y = notional_position_y-notional_position_y.shift(1)\n",
    "        change_pos = position - position.shift(1)\n",
    "        change_pos.iloc[0] = 0\n",
    "        notional_change_pos_x.iloc[0] = 0\n",
    "        notional_change_pos_y.iloc[0] = 0\n",
    "        change_base_x = pd.Series(data=0, index=data.index)\n",
    "        change_base_y = pd.Series(data=0, index=data.index)\n",
    "        change_buy = change_pos>0\n",
    "        change_sell = change_pos<0\n",
    "        change_base_x[change_buy] = data[\"next.ask\"][change_buy]*(1+buy_tranct)*data[\"adjust\"]\n",
    "        change_base_x[change_sell] = data[\"next.bid\"][change_sell]*(1-sell_tranct)*data[\"adjust\"]\n",
    "        change_base_y[change_buy] = data[\"y.next.bid\"][change_buy]*(1-sell_tranct)*data[\"y.adjust\"]\n",
    "        change_base_y[change_sell] = data[\"y.next.ask\"][change_sell]*(1+buy_tranct)*data[\"y.adjust\"]\n",
    "        final_pnl = -sum(change_base_x*change_pos)-sum(change_base_y*change_pos)\n",
    "        ret = -sum(change_base_x*notional_change_pos_x)-sum(change_base_y*notional_change_pos_y)\n",
    "        raw_pnl = -(change_base_x*notional_change_pos_x).cumsum()+notional_position_x*data[\"wpr\"]-(change_base_y*notional_change_pos_y).cumsum()+notional_position_y*data[\"y.wpr\"]\n",
    "        num = sum((position!=0) & (change_pos!=0))\n",
    "        daily_pnl = raw_pnl[end_day].reset_index(drop=True)\n",
    "        pnl = np.append(daily_pnl[0], np.diff(daily_pnl))\n",
    "        all_pnl[:,thre[0]] = pnl\n",
    "        if (num==0):\n",
    "            result.loc[thre[0], (\"num\",\"avg.ret\",\"ret\")] = (0,0,0)\n",
    "        else:\n",
    "            result.loc[thre[0],(\"num\", \"avg.ret\", \"ret\", )] = (num, ret/num, ret)\n",
    "    return OrderedDict([(\"all.pnl\", all_pnl), (\"result\", result), (\"date\", date[end_day])])"
   ]
  },
  {
   "cell_type": "code",
   "execution_count": 216,
   "metadata": {},
   "outputs": [
    {
     "data": {
      "text/html": [
       "<div>\n",
       "<style scoped>\n",
       "    .dataframe tbody tr th:only-of-type {\n",
       "        vertical-align: middle;\n",
       "    }\n",
       "\n",
       "    .dataframe tbody tr th {\n",
       "        vertical-align: top;\n",
       "    }\n",
       "\n",
       "    .dataframe thead th {\n",
       "        text-align: right;\n",
       "    }\n",
       "</style>\n",
       "<table border=\"1\" class=\"dataframe\">\n",
       "  <thead>\n",
       "    <tr style=\"text-align: right;\">\n",
       "      <th></th>\n",
       "      <th>open</th>\n",
       "      <th>close</th>\n",
       "    </tr>\n",
       "  </thead>\n",
       "  <tbody>\n",
       "    <tr>\n",
       "      <th>0</th>\n",
       "      <td>0.0030</td>\n",
       "      <td>-0.00060</td>\n",
       "    </tr>\n",
       "    <tr>\n",
       "      <th>1</th>\n",
       "      <td>0.0030</td>\n",
       "      <td>-0.00120</td>\n",
       "    </tr>\n",
       "    <tr>\n",
       "      <th>2</th>\n",
       "      <td>0.0030</td>\n",
       "      <td>-0.00180</td>\n",
       "    </tr>\n",
       "    <tr>\n",
       "      <th>3</th>\n",
       "      <td>0.0030</td>\n",
       "      <td>-0.00240</td>\n",
       "    </tr>\n",
       "    <tr>\n",
       "      <th>4</th>\n",
       "      <td>0.0030</td>\n",
       "      <td>-0.00300</td>\n",
       "    </tr>\n",
       "    <tr>\n",
       "      <th>...</th>\n",
       "      <td>...</td>\n",
       "      <td>...</td>\n",
       "    </tr>\n",
       "    <tr>\n",
       "      <th>95</th>\n",
       "      <td>0.0049</td>\n",
       "      <td>-0.00098</td>\n",
       "    </tr>\n",
       "    <tr>\n",
       "      <th>96</th>\n",
       "      <td>0.0049</td>\n",
       "      <td>-0.00196</td>\n",
       "    </tr>\n",
       "    <tr>\n",
       "      <th>97</th>\n",
       "      <td>0.0049</td>\n",
       "      <td>-0.00294</td>\n",
       "    </tr>\n",
       "    <tr>\n",
       "      <th>98</th>\n",
       "      <td>0.0049</td>\n",
       "      <td>-0.00392</td>\n",
       "    </tr>\n",
       "    <tr>\n",
       "      <th>99</th>\n",
       "      <td>0.0049</td>\n",
       "      <td>-0.00490</td>\n",
       "    </tr>\n",
       "  </tbody>\n",
       "</table>\n",
       "<p>100 rows × 2 columns</p>\n",
       "</div>"
      ],
      "text/plain": [
       "      open    close\n",
       "0   0.0030 -0.00060\n",
       "1   0.0030 -0.00120\n",
       "2   0.0030 -0.00180\n",
       "3   0.0030 -0.00240\n",
       "4   0.0030 -0.00300\n",
       "..     ...      ...\n",
       "95  0.0049 -0.00098\n",
       "96  0.0049 -0.00196\n",
       "97  0.0049 -0.00294\n",
       "98  0.0049 -0.00392\n",
       "99  0.0049 -0.00490\n",
       "\n",
       "[100 rows x 2 columns]"
      ]
     },
     "execution_count": 216,
     "metadata": {},
     "output_type": "execute_result"
    }
   ],
   "source": [
    "signal_name = \"kdj.j.4096\" \n",
    "product_x = \"600276\"\n",
    "product_y = \"600332\"\n",
    "thre_list = []\n",
    "#open_list = np.quantile(abs(all_signal), np.arange(0.99991,0.99999,0.00001))\n",
    "open_list = np.arange(0.003,0.005,0.0001)\n",
    "for cartesian in itertools.product(open_list, np.array([0.2, 0.4, 0.6, 0.8, 1.0])):\n",
    "        thre_list.append((cartesian[0], -cartesian[0] * cartesian[1]))\n",
    "thre_list = np.array(thre_list)\n",
    "thre_mat = pd.DataFrame(data=OrderedDict([(\"open\", thre_list[:, 0]), (\"close\", thre_list[:, 1])]))\n",
    "thre_mat"
   ]
  },
  {
   "cell_type": "code",
   "execution_count": 226,
   "metadata": {},
   "outputs": [
    {
     "name": "stdout",
     "output_type": "stream",
     "text": [
      "Wall time: 14min 46s\n"
     ]
    }
   ],
   "source": [
    "%%time\n",
    "train_result = parLapply(CORE_NUM, all_dates[train_sample], get_stock_arb_signal_pnl, product_x=product_x, product_y=product_y, \n",
    "                         signal_name=\"kdj.j.4096\", thre_mat=thre_mat, reverse=1, buy_tranct=1.5e-4, sell_tranct=11.5e-4, \n",
    "                         max_spread_x=0.011, max_spread_y=0.011, HEAD_PATH=\"d:/intern\", SAVE_PATH=\"e:/intern\")\n",
    "test_result = parLapply(CORE_NUM, all_dates[test_sample], get_stock_arb_signal_pnl, product_x=product_x, product_y=product_y, \n",
    "                        signal_name=\"kdj.j.4096\",\n",
    "                        thre_mat=thre_mat, reverse=1, buy_tranct=1.5e-4, sell_tranct=11.5e-4, \n",
    "                         max_spread_x=0.011, max_spread_y=0.011, HEAD_PATH=\"d:/intern\", SAVE_PATH=\"e:/intern\")\n",
    "# Wall time: 14min 40s"
   ]
  },
  {
   "cell_type": "code",
   "execution_count": 227,
   "metadata": {},
   "outputs": [],
   "source": [
    "train_stat = get_hft_summary(train_result, thre_mat)\n",
    "test_stat = get_hft_summary(test_result, thre_mat)"
   ]
  },
  {
   "cell_type": "code",
   "execution_count": 228,
   "metadata": {},
   "outputs": [],
   "source": [
    "save(train_stat, HEAD_PATH+\"/stock.arb.train.pkl\")\n",
    "save(test_stat, HEAD_PATH+\"/stock.arb.test.pkl\")"
   ]
  },
  {
   "cell_type": "markdown",
   "metadata": {},
   "source": [
    "- we can see that there are no good strategies for a-m arbitrage\n",
    "- the reason may be that oil contracts have too low volatility and intraday trading cannot cover transaction cost\n"
   ]
  },
  {
   "cell_type": "code",
   "execution_count": 230,
   "metadata": {},
   "outputs": [
    {
     "name": "stdout",
     "output_type": "stream",
     "text": [
      "0.5587586617272303 0.765006599306317\n"
     ]
    },
    {
     "data": {
      "image/png": "[encoded data removed]",
      "text/plain": [
       "<Figure size 1152x720 with 1 Axes>"
      ]
     },
     "metadata": {
      "needs_background": "light"
     },
     "output_type": "display_data"
    }
   ],
   "source": [
    "date_str = [n[0:10] for n in all_dates]\n",
    "train_sample = all_dates<\"2019\"\n",
    "test_sample = all_dates>\"2019\"\n",
    "good_strat = (train_stat[\"final.result\"][\"avg.ret\"]>0.001) & (train_stat[\"final.result\"][\"num\"]>0)\n",
    "train_pnl = train_stat[\"daily.pnl\"][:, good_strat].sum(axis=1)/sum(good_strat)\n",
    "test_pnl = test_stat[\"daily.pnl\"][:, good_strat].sum(axis=1)/sum(good_strat)\n",
    "train_dates = np.array([pd.to_datetime(d) for d in train_stat[\"date\"]])\n",
    "test_dates = np.array([pd.to_datetime(d) for d in test_stat[\"date\"]])\n",
    "format_dates = np.append(train_dates, test_dates)\n",
    "pnl = np.append(train_pnl, test_pnl)\n",
    "plt.figure(1, figsize=(16, 10));\n",
    "plt.title(\"\");\n",
    "plt.xlabel(\"date\");\n",
    "plt.ylabel(\"pnl\");\n",
    "plt.title(product_x+\" and \"+product_y+\" arb\");\n",
    "plt.plot(format_dates, pnl.cumsum());\n",
    "print(sharpe(train_pnl), sharpe(test_pnl))\n"
   ]
  },
  {
   "cell_type": "code",
   "execution_count": null,
   "metadata": {},
   "outputs": [],
   "source": []
  }
 ],
 "metadata": {
  "kernelspec": {
   "display_name": "Python 3",
   "language": "python",
   "name": "python3"
  },
  "language_info": {
   "codemirror_mode": {
    "name": "ipython",
    "version": 3
   },
   "file_extension": ".py",
   "mimetype": "text/x-python",
   "name": "python",
   "nbconvert_exporter": "python",
   "pygments_lexer": "ipython3",
   "version": "3.7.7"
  }
 },
 "nbformat": 4,
 "nbformat_minor": 2
}
