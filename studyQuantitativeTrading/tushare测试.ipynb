{
 "cells": [
  {
   "cell_type": "code",
   "execution_count": 39,
   "metadata": {},
   "outputs": [],
   "source": [
    "import os\n",
    "import time\n",
    "import tushare as ts\n",
    "import pandas as pd\n",
    "import numpy as np"
   ]
  },
  {
   "cell_type": "code",
   "execution_count": 40,
   "metadata": {},
   "outputs": [],
   "source": [
    "pro = ts.pro_api(\"d94b8d1af9f3110dca7acf2e85b4bf10b7d33de74491de8f671c4b8b\")\n",
    "\n",
    "\n",
    "class GetDatafromTushare():\n",
    "    \n",
    "    pro = ts.pro_api(\"d94b8d1af9f3110dca7acf2e85b4bf10b7d33de74491de8f671c4b8b\")\n",
    "    \n",
    "    def __init__(self):\n",
    "        self.pro = ts.pro_api(\"d94b8d1af9f3110dca7acf2e85b4bf10b7d33de74491de8f671c4b8b\")\n",
    "\n",
    "    def get_all_stocks(self):\n",
    "        \"\"\"\n",
    "        所有股票\n",
    "        \"\"\"\n",
    "        stocks_data = pro.stock_basic(exchange='', list_status='L', fields='ts_code,symbol,name,area,industry,list_date')\n",
    "        return stocks_data\n",
    "\n",
    "    def get_market_trading_days(self,startdate,enddate):\n",
    "        \"\"\"\n",
    "        取交易所交易的日期\n",
    "        \"\"\"\n",
    "        tradedate_df = self.pro.trade_cal(exchange='', start_date=startdate, end_date=enddate, is_open=1)\n",
    "        trading_days = tradedate_df.cal_date.tolist()\n",
    "        return trading_days\n",
    "    \n",
    "    def get_concept(self):\n",
    "        \"\"\"\n",
    "        概念股分类\n",
    "        接口：concept\n",
    "        \"\"\"\n",
    "        df_concept = pro.concept()\n",
    "        return df_concept\n",
    "    def get_concept_detail(self, ts_code):\n",
    "        '''\n",
    "        获取个股的概念分类\n",
    "        '''\n",
    "        df_concept_detail = pro.concept_detail(ts_code = ts_code)\n",
    "        return df_concept_detail\n",
    "    \n",
    "    \n",
    "    def get_all_daily(self):\n",
    "        all_daily = self.pro.daily()\n",
    "        return all_daily\n",
    "    \n",
    "    def get_all_index(self):\n",
    "        all_index = self.pro.index_basic(market='CSI')\n",
    "        return all_index\n",
    "    \n",
    "    def get_index_daily(self):\n",
    "        index_daily = self.pro.index_daily(ts_code='000171.CSI')\n",
    "        return index_daily\n",
    "    \n",
    "    def get_realtime_quotes(self):\n",
    "        realtime_quotes = ts.get_realtime_quotes('000581') #Single stock symbol\n",
    "        return realtime_quotes\n",
    "\n",
    "obj = GetDatafromTushare()"
   ]
  },
  {
   "cell_type": "markdown",
   "metadata": {},
   "source": [
    "概念分类"
   ]
  },
  {
   "cell_type": "code",
   "execution_count": 41,
   "metadata": {},
   "outputs": [
    {
     "data": {
      "text/html": [
       "<div>\n",
       "<style scoped>\n",
       "    .dataframe tbody tr th:only-of-type {\n",
       "        vertical-align: middle;\n",
       "    }\n",
       "\n",
       "    .dataframe tbody tr th {\n",
       "        vertical-align: top;\n",
       "    }\n",
       "\n",
       "    .dataframe thead th {\n",
       "        text-align: right;\n",
       "    }\n",
       "</style>\n",
       "<table border=\"1\" class=\"dataframe\">\n",
       "  <thead>\n",
       "    <tr style=\"text-align: right;\">\n",
       "      <th></th>\n",
       "      <th>code</th>\n",
       "      <th>name</th>\n",
       "      <th>src</th>\n",
       "    </tr>\n",
       "  </thead>\n",
       "  <tbody>\n",
       "    <tr>\n",
       "      <th>0</th>\n",
       "      <td>TS0</td>\n",
       "      <td>密集调研</td>\n",
       "      <td>ts</td>\n",
       "    </tr>\n",
       "    <tr>\n",
       "      <th>1</th>\n",
       "      <td>TS1</td>\n",
       "      <td>南北船合并</td>\n",
       "      <td>ts</td>\n",
       "    </tr>\n",
       "    <tr>\n",
       "      <th>2</th>\n",
       "      <td>TS2</td>\n",
       "      <td>5G</td>\n",
       "      <td>ts</td>\n",
       "    </tr>\n",
       "    <tr>\n",
       "      <th>3</th>\n",
       "      <td>TS3</td>\n",
       "      <td>机场</td>\n",
       "      <td>ts</td>\n",
       "    </tr>\n",
       "    <tr>\n",
       "      <th>4</th>\n",
       "      <td>TS4</td>\n",
       "      <td>高价股</td>\n",
       "      <td>ts</td>\n",
       "    </tr>\n",
       "    <tr>\n",
       "      <th>...</th>\n",
       "      <td>...</td>\n",
       "      <td>...</td>\n",
       "      <td>...</td>\n",
       "    </tr>\n",
       "    <tr>\n",
       "      <th>354</th>\n",
       "      <td>TS357</td>\n",
       "      <td>人造肉</td>\n",
       "      <td>ts</td>\n",
       "    </tr>\n",
       "    <tr>\n",
       "      <th>355</th>\n",
       "      <td>TS358</td>\n",
       "      <td>垃圾分类</td>\n",
       "      <td>ts</td>\n",
       "    </tr>\n",
       "    <tr>\n",
       "      <th>356</th>\n",
       "      <td>TS359</td>\n",
       "      <td>科创板</td>\n",
       "      <td>ts</td>\n",
       "    </tr>\n",
       "    <tr>\n",
       "      <th>357</th>\n",
       "      <td>TS360</td>\n",
       "      <td>科创板对标</td>\n",
       "      <td>ts</td>\n",
       "    </tr>\n",
       "    <tr>\n",
       "      <th>358</th>\n",
       "      <td>TS361</td>\n",
       "      <td>新型病毒</td>\n",
       "      <td>ts</td>\n",
       "    </tr>\n",
       "  </tbody>\n",
       "</table>\n",
       "<p>359 rows × 3 columns</p>\n",
       "</div>"
      ],
      "text/plain": [
       "      code   name src\n",
       "0      TS0   密集调研  ts\n",
       "1      TS1  南北船合并  ts\n",
       "2      TS2     5G  ts\n",
       "3      TS3     机场  ts\n",
       "4      TS4    高价股  ts\n",
       "..     ...    ...  ..\n",
       "354  TS357    人造肉  ts\n",
       "355  TS358   垃圾分类  ts\n",
       "356  TS359    科创板  ts\n",
       "357  TS360  科创板对标  ts\n",
       "358  TS361   新型病毒  ts\n",
       "\n",
       "[359 rows x 3 columns]"
      ]
     },
     "execution_count": 41,
     "metadata": {},
     "output_type": "execute_result"
    }
   ],
   "source": [
    "df_concept = obj.get_concept()\n",
    "df_concept"
   ]
  },
  {
   "cell_type": "markdown",
   "metadata": {},
   "source": [
    "遍历所有股票的概念"
   ]
  },
  {
   "cell_type": "code",
   "execution_count": 42,
   "metadata": {},
   "outputs": [],
   "source": [
    "\n",
    "# df_stocks = obj.get_all_stocks()\n",
    "# for stock in df_stocks.itertuples():\n",
    "#     ts_code = getattr(stock, 'ts_code')\n",
    "#     print(ts_code)\n",
    "#     df_stock_concept = obj.get_concept_detail(ts_code)\n",
    "#     for stock_concept in df_stock_concept.itertuples():\n",
    "#         print(getattr(stock_concept, 'concept_name'))\n",
    "    "
   ]
  },
  {
   "cell_type": "code",
   "execution_count": 43,
   "metadata": {},
   "outputs": [
    {
     "data": {
      "text/html": [
       "<div>\n",
       "<style scoped>\n",
       "    .dataframe tbody tr th:only-of-type {\n",
       "        vertical-align: middle;\n",
       "    }\n",
       "\n",
       "    .dataframe tbody tr th {\n",
       "        vertical-align: top;\n",
       "    }\n",
       "\n",
       "    .dataframe thead th {\n",
       "        text-align: right;\n",
       "    }\n",
       "</style>\n",
       "<table border=\"1\" class=\"dataframe\">\n",
       "  <thead>\n",
       "    <tr style=\"text-align: right;\">\n",
       "      <th></th>\n",
       "      <th>ts_code</th>\n",
       "      <th>trade_date</th>\n",
       "      <th>open</th>\n",
       "      <th>high</th>\n",
       "      <th>low</th>\n",
       "      <th>close</th>\n",
       "      <th>pre_close</th>\n",
       "      <th>change</th>\n",
       "      <th>pct_chg</th>\n",
       "      <th>vol</th>\n",
       "      <th>amount</th>\n",
       "    </tr>\n",
       "  </thead>\n",
       "  <tbody>\n",
       "    <tr>\n",
       "      <th>0</th>\n",
       "      <td>000001.SZ</td>\n",
       "      <td>20210204</td>\n",
       "      <td>24.18</td>\n",
       "      <td>25.24</td>\n",
       "      <td>24.04</td>\n",
       "      <td>24.60</td>\n",
       "      <td>24.95</td>\n",
       "      <td>-0.35</td>\n",
       "      <td>-1.4028</td>\n",
       "      <td>1255247.50</td>\n",
       "      <td>3.084554e+06</td>\n",
       "    </tr>\n",
       "    <tr>\n",
       "      <th>1</th>\n",
       "      <td>000001.SZ</td>\n",
       "      <td>20210203</td>\n",
       "      <td>23.48</td>\n",
       "      <td>25.18</td>\n",
       "      <td>23.38</td>\n",
       "      <td>24.95</td>\n",
       "      <td>23.28</td>\n",
       "      <td>1.67</td>\n",
       "      <td>7.1735</td>\n",
       "      <td>1923271.59</td>\n",
       "      <td>4.690176e+06</td>\n",
       "    </tr>\n",
       "    <tr>\n",
       "      <th>2</th>\n",
       "      <td>000001.SZ</td>\n",
       "      <td>20210202</td>\n",
       "      <td>23.38</td>\n",
       "      <td>24.10</td>\n",
       "      <td>22.91</td>\n",
       "      <td>23.28</td>\n",
       "      <td>24.55</td>\n",
       "      <td>-1.27</td>\n",
       "      <td>-5.1731</td>\n",
       "      <td>2416168.77</td>\n",
       "      <td>5.679180e+06</td>\n",
       "    </tr>\n",
       "    <tr>\n",
       "      <th>3</th>\n",
       "      <td>000001.SZ</td>\n",
       "      <td>20210201</td>\n",
       "      <td>23.00</td>\n",
       "      <td>24.99</td>\n",
       "      <td>22.70</td>\n",
       "      <td>24.55</td>\n",
       "      <td>23.09</td>\n",
       "      <td>1.46</td>\n",
       "      <td>6.3231</td>\n",
       "      <td>1475239.30</td>\n",
       "      <td>3.529557e+06</td>\n",
       "    </tr>\n",
       "    <tr>\n",
       "      <th>4</th>\n",
       "      <td>000001.SZ</td>\n",
       "      <td>20210129</td>\n",
       "      <td>22.81</td>\n",
       "      <td>23.54</td>\n",
       "      <td>22.71</td>\n",
       "      <td>23.09</td>\n",
       "      <td>22.81</td>\n",
       "      <td>0.28</td>\n",
       "      <td>1.2275</td>\n",
       "      <td>1240258.41</td>\n",
       "      <td>2.864101e+06</td>\n",
       "    </tr>\n",
       "    <tr>\n",
       "      <th>...</th>\n",
       "      <td>...</td>\n",
       "      <td>...</td>\n",
       "      <td>...</td>\n",
       "      <td>...</td>\n",
       "      <td>...</td>\n",
       "      <td>...</td>\n",
       "      <td>...</td>\n",
       "      <td>...</td>\n",
       "      <td>...</td>\n",
       "      <td>...</td>\n",
       "      <td>...</td>\n",
       "    </tr>\n",
       "    <tr>\n",
       "      <th>4995</th>\n",
       "      <td>000001.SZ</td>\n",
       "      <td>19991029</td>\n",
       "      <td>21.80</td>\n",
       "      <td>22.00</td>\n",
       "      <td>21.44</td>\n",
       "      <td>21.58</td>\n",
       "      <td>21.79</td>\n",
       "      <td>-0.21</td>\n",
       "      <td>-0.9600</td>\n",
       "      <td>30789.00</td>\n",
       "      <td>6.652564e+04</td>\n",
       "    </tr>\n",
       "    <tr>\n",
       "      <th>4996</th>\n",
       "      <td>000001.SZ</td>\n",
       "      <td>19991028</td>\n",
       "      <td>22.23</td>\n",
       "      <td>22.35</td>\n",
       "      <td>21.75</td>\n",
       "      <td>21.79</td>\n",
       "      <td>22.20</td>\n",
       "      <td>-0.41</td>\n",
       "      <td>-1.8500</td>\n",
       "      <td>36130.00</td>\n",
       "      <td>7.927352e+04</td>\n",
       "    </tr>\n",
       "    <tr>\n",
       "      <th>4997</th>\n",
       "      <td>000001.SZ</td>\n",
       "      <td>19991027</td>\n",
       "      <td>22.30</td>\n",
       "      <td>22.58</td>\n",
       "      <td>22.00</td>\n",
       "      <td>22.20</td>\n",
       "      <td>21.87</td>\n",
       "      <td>0.33</td>\n",
       "      <td>1.5100</td>\n",
       "      <td>65490.00</td>\n",
       "      <td>1.458222e+05</td>\n",
       "    </tr>\n",
       "    <tr>\n",
       "      <th>4998</th>\n",
       "      <td>000001.SZ</td>\n",
       "      <td>19991026</td>\n",
       "      <td>21.51</td>\n",
       "      <td>22.08</td>\n",
       "      <td>21.51</td>\n",
       "      <td>21.87</td>\n",
       "      <td>21.49</td>\n",
       "      <td>0.38</td>\n",
       "      <td>1.7700</td>\n",
       "      <td>26323.00</td>\n",
       "      <td>5.742484e+04</td>\n",
       "    </tr>\n",
       "    <tr>\n",
       "      <th>4999</th>\n",
       "      <td>000001.SZ</td>\n",
       "      <td>19991025</td>\n",
       "      <td>22.01</td>\n",
       "      <td>22.10</td>\n",
       "      <td>21.42</td>\n",
       "      <td>21.49</td>\n",
       "      <td>21.93</td>\n",
       "      <td>-0.44</td>\n",
       "      <td>-2.0100</td>\n",
       "      <td>26534.00</td>\n",
       "      <td>5.733955e+04</td>\n",
       "    </tr>\n",
       "  </tbody>\n",
       "</table>\n",
       "<p>5000 rows × 11 columns</p>\n",
       "</div>"
      ],
      "text/plain": [
       "        ts_code trade_date   open   high    low  close  pre_close  change  \\\n",
       "0     000001.SZ   20210204  24.18  25.24  24.04  24.60      24.95   -0.35   \n",
       "1     000001.SZ   20210203  23.48  25.18  23.38  24.95      23.28    1.67   \n",
       "2     000001.SZ   20210202  23.38  24.10  22.91  23.28      24.55   -1.27   \n",
       "3     000001.SZ   20210201  23.00  24.99  22.70  24.55      23.09    1.46   \n",
       "4     000001.SZ   20210129  22.81  23.54  22.71  23.09      22.81    0.28   \n",
       "...         ...        ...    ...    ...    ...    ...        ...     ...   \n",
       "4995  000001.SZ   19991029  21.80  22.00  21.44  21.58      21.79   -0.21   \n",
       "4996  000001.SZ   19991028  22.23  22.35  21.75  21.79      22.20   -0.41   \n",
       "4997  000001.SZ   19991027  22.30  22.58  22.00  22.20      21.87    0.33   \n",
       "4998  000001.SZ   19991026  21.51  22.08  21.51  21.87      21.49    0.38   \n",
       "4999  000001.SZ   19991025  22.01  22.10  21.42  21.49      21.93   -0.44   \n",
       "\n",
       "      pct_chg         vol        amount  \n",
       "0     -1.4028  1255247.50  3.084554e+06  \n",
       "1      7.1735  1923271.59  4.690176e+06  \n",
       "2     -5.1731  2416168.77  5.679180e+06  \n",
       "3      6.3231  1475239.30  3.529557e+06  \n",
       "4      1.2275  1240258.41  2.864101e+06  \n",
       "...       ...         ...           ...  \n",
       "4995  -0.9600    30789.00  6.652564e+04  \n",
       "4996  -1.8500    36130.00  7.927352e+04  \n",
       "4997   1.5100    65490.00  1.458222e+05  \n",
       "4998   1.7700    26323.00  5.742484e+04  \n",
       "4999  -2.0100    26534.00  5.733955e+04  \n",
       "\n",
       "[5000 rows x 11 columns]"
      ]
     },
     "execution_count": 43,
     "metadata": {},
     "output_type": "execute_result"
    }
   ],
   "source": [
    "df = pro.daily(ts_code='000001.SZ')\n",
    "df"
   ]
  },
  {
   "cell_type": "code",
   "execution_count": null,
   "metadata": {},
   "outputs": [],
   "source": []
  },
  {
   "cell_type": "code",
   "execution_count": 44,
   "metadata": {},
   "outputs": [
    {
     "data": {
      "text/plain": [
       "14.22280546711085"
      ]
     },
     "execution_count": 44,
     "metadata": {},
     "output_type": "execute_result"
    }
   ],
   "source": [
    "vwap = np.average(df['close'],weights=df['vol'])\n",
    "vwap"
   ]
  },
  {
   "cell_type": "code",
   "execution_count": 45,
   "metadata": {},
   "outputs": [
    {
     "data": {
      "text/plain": [
       "14.338819999999998"
      ]
     },
     "execution_count": 45,
     "metadata": {},
     "output_type": "execute_result"
    }
   ],
   "source": [
    "np.mean(df['close'])"
   ]
  },
  {
   "cell_type": "code",
   "execution_count": 46,
   "metadata": {},
   "outputs": [
    {
     "data": {
      "text/plain": [
       "array([   0,    1,    2, ..., 4997, 4998, 4999])"
      ]
     },
     "execution_count": 46,
     "metadata": {},
     "output_type": "execute_result"
    }
   ],
   "source": [
    "t = np.arange(len(df))\n",
    "t"
   ]
  },
  {
   "cell_type": "code",
   "execution_count": 47,
   "metadata": {},
   "outputs": [
    {
     "data": {
      "text/plain": [
       "14.600282214042808"
      ]
     },
     "execution_count": 47,
     "metadata": {},
     "output_type": "execute_result"
    }
   ],
   "source": [
    "twap = np.average(df['close'],weights=t)\n",
    "twap"
   ]
  },
  {
   "cell_type": "code",
   "execution_count": 48,
   "metadata": {},
   "outputs": [
    {
     "data": {
      "text/plain": [
       "48.05"
      ]
     },
     "execution_count": 48,
     "metadata": {},
     "output_type": "execute_result"
    }
   ],
   "source": [
    "c = df['close']\n",
    "np.max(c)"
   ]
  },
  {
   "cell_type": "code",
   "execution_count": 49,
   "metadata": {},
   "outputs": [
    {
     "data": {
      "text/plain": [
       "42.949999999999996"
      ]
     },
     "execution_count": 49,
     "metadata": {},
     "output_type": "execute_result"
    }
   ],
   "source": [
    "np.ptp(c)"
   ]
  },
  {
   "cell_type": "code",
   "execution_count": 50,
   "metadata": {},
   "outputs": [
    {
     "data": {
      "text/plain": [
       "5.1"
      ]
     },
     "execution_count": 50,
     "metadata": {},
     "output_type": "execute_result"
    }
   ],
   "source": [
    "np.min(c)"
   ]
  },
  {
   "cell_type": "code",
   "execution_count": 51,
   "metadata": {
    "scrolled": true
   },
   "outputs": [
    {
     "data": {
      "text/plain": [
       "13.25"
      ]
     },
     "execution_count": 51,
     "metadata": {},
     "output_type": "execute_result"
    }
   ],
   "source": [
    "np.median(c)"
   ]
  },
  {
   "cell_type": "markdown",
   "metadata": {},
   "source": [
    "收益率"
   ]
  },
  {
   "cell_type": "code",
   "execution_count": 52,
   "metadata": {},
   "outputs": [
    {
     "data": {
      "text/plain": [
       "0       0.014228\n",
       "1      -0.066934\n",
       "2       0.054553\n",
       "3      -0.059470\n",
       "4      -0.012126\n",
       "          ...   \n",
       "4994    0.008883\n",
       "4995    0.009731\n",
       "4996    0.018816\n",
       "4997   -0.014865\n",
       "4998   -0.017375\n",
       "Name: close, Length: 4999, dtype: float64"
      ]
     },
     "execution_count": 52,
     "metadata": {},
     "output_type": "execute_result"
    }
   ],
   "source": [
    "returns = np.diff(c)/c[:-1]\n",
    "returns"
   ]
  },
  {
   "cell_type": "code",
   "execution_count": 53,
   "metadata": {},
   "outputs": [
    {
     "data": {
      "text/plain": [
       "0       24.60\n",
       "1       24.95\n",
       "2       23.28\n",
       "3       24.55\n",
       "4       23.09\n",
       "        ...  \n",
       "4994    21.39\n",
       "4995    21.58\n",
       "4996    21.79\n",
       "4997    22.20\n",
       "4998    21.87\n",
       "Name: close, Length: 4999, dtype: float64"
      ]
     },
     "execution_count": 53,
     "metadata": {},
     "output_type": "execute_result"
    }
   ],
   "source": [
    "c[:-1]"
   ]
  },
  {
   "cell_type": "code",
   "execution_count": 54,
   "metadata": {},
   "outputs": [
    {
     "data": {
      "text/plain": [
       "0       24.60\n",
       "1       24.95\n",
       "2       23.28\n",
       "3       24.55\n",
       "4       23.09\n",
       "        ...  \n",
       "4995    21.58\n",
       "4996    21.79\n",
       "4997    22.20\n",
       "4998    21.87\n",
       "4999    21.49\n",
       "Name: close, Length: 5000, dtype: float64"
      ]
     },
     "execution_count": 54,
     "metadata": {},
     "output_type": "execute_result"
    }
   ],
   "source": [
    "c"
   ]
  },
  {
   "cell_type": "code",
   "execution_count": 55,
   "metadata": {},
   "outputs": [
    {
     "data": {
      "text/plain": [
       "4999"
      ]
     },
     "execution_count": 55,
     "metadata": {},
     "output_type": "execute_result"
    }
   ],
   "source": [
    "len(np.diff(c))"
   ]
  },
  {
   "cell_type": "code",
   "execution_count": 56,
   "metadata": {},
   "outputs": [
    {
     "data": {
      "text/plain": [
       "2477"
      ]
     },
     "execution_count": 56,
     "metadata": {},
     "output_type": "execute_result"
    }
   ],
   "source": [
    "def count_positive(returns):\n",
    "    return(sum(map(lambda x : x>0, returns)))\n",
    "count_positive(returns)"
   ]
  },
  {
   "cell_type": "code",
   "execution_count": 57,
   "metadata": {},
   "outputs": [
    {
     "data": {
      "text/plain": [
       "0.4954"
      ]
     },
     "execution_count": 57,
     "metadata": {},
     "output_type": "execute_result"
    }
   ],
   "source": [
    "float(count_positive(returns))/len(c)"
   ]
  },
  {
   "cell_type": "code",
   "execution_count": 58,
   "metadata": {},
   "outputs": [
    {
     "data": {
      "text/plain": [
       "0.02703098869997068"
      ]
     },
     "execution_count": 58,
     "metadata": {},
     "output_type": "execute_result"
    }
   ],
   "source": [
    "np.std(returns)"
   ]
  },
  {
   "cell_type": "code",
   "execution_count": 59,
   "metadata": {},
   "outputs": [
    {
     "data": {
      "text/plain": [
       "array([ 0.01412738, -0.0692792 ,  0.05311723, ...,  0.01864114,\n",
       "       -0.01497645, -0.01752812])"
      ]
     },
     "execution_count": 59,
     "metadata": {},
     "output_type": "execute_result"
    }
   ],
   "source": [
    "returns1=np.diff(np.log(c))\n",
    "returns1"
   ]
  },
  {
   "cell_type": "code",
   "execution_count": 60,
   "metadata": {},
   "outputs": [
    {
     "data": {
      "text/plain": [
       "2477"
      ]
     },
     "execution_count": 60,
     "metadata": {},
     "output_type": "execute_result"
    }
   ],
   "source": [
    "count_positive(returns1)"
   ]
  },
  {
   "cell_type": "code",
   "execution_count": 61,
   "metadata": {},
   "outputs": [
    {
     "data": {
      "text/plain": [
       "0.4954"
      ]
     },
     "execution_count": 61,
     "metadata": {},
     "output_type": "execute_result"
    }
   ],
   "source": [
    "float(count_positive(returns1))/len(c)"
   ]
  },
  {
   "cell_type": "code",
   "execution_count": 62,
   "metadata": {},
   "outputs": [
    {
     "data": {
      "text/plain": [
       "0.026012783828057832"
      ]
     },
     "execution_count": 62,
     "metadata": {},
     "output_type": "execute_result"
    }
   ],
   "source": [
    "np.std(returns1)"
   ]
  },
  {
   "cell_type": "code",
   "execution_count": 63,
   "metadata": {},
   "outputs": [
    {
     "data": {
      "text/plain": [
       "-15273.06251325453"
      ]
     },
     "execution_count": 63,
     "metadata": {},
     "output_type": "execute_result"
    }
   ],
   "source": [
    "annual_volatility = (np.std(returns1)/np.mean(returns1))/np.sqrt(1./252.)\n",
    "annual_volatility\n"
   ]
  },
  {
   "cell_type": "code",
   "execution_count": 64,
   "metadata": {},
   "outputs": [
    {
     "data": {
      "text/plain": [
       "-4408.9533766887425"
      ]
     },
     "execution_count": 64,
     "metadata": {},
     "output_type": "execute_result"
    }
   ],
   "source": [
    "\n",
    "\n",
    "month_volatility = annual_volatility * np.sqrt(1./12.)\n",
    "month_volatility"
   ]
  },
  {
   "cell_type": "code",
   "execution_count": 65,
   "metadata": {},
   "outputs": [
    {
     "data": {
      "text/plain": [
       "0       25.24\n",
       "1       25.18\n",
       "2       24.10\n",
       "3       24.99\n",
       "4       23.54\n",
       "        ...  \n",
       "4995    22.00\n",
       "4996    22.35\n",
       "4997    22.58\n",
       "4998    22.08\n",
       "4999    22.10\n",
       "Name: high, Length: 5000, dtype: float64"
      ]
     },
     "execution_count": 65,
     "metadata": {},
     "output_type": "execute_result"
    }
   ],
   "source": [
    "h = df['high']\n",
    "h"
   ]
  },
  {
   "cell_type": "code",
   "execution_count": 72,
   "metadata": {},
   "outputs": [
    {
     "data": {
      "text/plain": [
       "0       24.60\n",
       "1       24.95\n",
       "2       23.28\n",
       "3       24.55\n",
       "4       23.09\n",
       "        ...  \n",
       "4995    21.58\n",
       "4996    21.79\n",
       "4997    22.20\n",
       "4998    21.87\n",
       "4999    21.49\n",
       "Name: close, Length: 5000, dtype: float64"
      ]
     },
     "execution_count": 72,
     "metadata": {},
     "output_type": "execute_result"
    }
   ],
   "source": [
    "\n",
    "c = df['close']\n",
    "c"
   ]
  },
  {
   "cell_type": "code",
   "execution_count": 80,
   "metadata": {},
   "outputs": [
    {
     "data": {
      "text/plain": [
       "0       24.04\n",
       "1       23.38\n",
       "2       22.91\n",
       "3       22.70\n",
       "4       22.71\n",
       "        ...  \n",
       "4995    21.44\n",
       "4996    21.75\n",
       "4997    22.00\n",
       "4998    21.51\n",
       "4999    21.42\n",
       "Name: low, Length: 5000, dtype: float64"
      ]
     },
     "execution_count": 80,
     "metadata": {},
     "output_type": "execute_result"
    }
   ],
   "source": [
    "\n",
    "l = df['low']\n",
    "l"
   ]
  },
  {
   "cell_type": "code",
   "execution_count": 81,
   "metadata": {},
   "outputs": [
    {
     "data": {
      "text/plain": [
       "array([25.24, 25.18, 24.1 , 24.99, 23.54, 23.18, 23.47, 23.32, 22.6 ,\n",
       "       22.23, 22.8 , 22.97, 22.84, 22.78, 21.95, 20.89, 21.01, 21.  ,\n",
       "       20.64, 20.1 ])"
      ]
     },
     "execution_count": 81,
     "metadata": {},
     "output_type": "execute_result"
    }
   ],
   "source": [
    "\n",
    "N = 20\n",
    "h_N = np.array(h[:N])\n",
    "h_N"
   ]
  },
  {
   "cell_type": "code",
   "execution_count": 82,
   "metadata": {},
   "outputs": [
    {
     "data": {
      "text/plain": [
       "array([24.04, 23.38, 22.91, 22.7 , 22.71, 22.45, 22.31, 22.3 , 21.43,\n",
       "       21.51, 22.15, 22.12, 22.05, 21.2 , 20.82, 19.95, 20.4 , 20.18,\n",
       "       20.  , 19.31])"
      ]
     },
     "execution_count": 82,
     "metadata": {},
     "output_type": "execute_result"
    }
   ],
   "source": [
    "\n",
    "l_N = np.array(l[:N])\n",
    "l_N"
   ]
  },
  {
   "cell_type": "code",
   "execution_count": 83,
   "metadata": {},
   "outputs": [
    {
     "data": {
      "text/plain": [
       "array([24.95, 23.28, 24.55, 23.09, 22.81, 23.08, 22.37, 22.49, 22.03,\n",
       "       22.23, 22.47, 22.34, 22.7 , 21.  , 20.17, 20.7 , 21.  , 20.38,\n",
       "       19.85, 19.9 ])"
      ]
     },
     "execution_count": 83,
     "metadata": {},
     "output_type": "execute_result"
    }
   ],
   "source": [
    "\n",
    "preclose_N = np.array(c[1:N+1])\n",
    "preclose_N"
   ]
  },
  {
   "cell_type": "code",
   "execution_count": null,
   "metadata": {},
   "outputs": [],
   "source": []
  },
  {
   "cell_type": "code",
   "execution_count": 84,
   "metadata": {},
   "outputs": [
    {
     "data": {
      "text/plain": [
       "array([1.2 , 1.9 , 1.19, 2.29, 0.83, 0.73, 1.16, 1.02, 1.17, 0.72, 0.65,\n",
       "       0.85, 0.79, 1.78, 1.78, 0.94, 0.61, 0.82, 0.79, 0.79])"
      ]
     },
     "execution_count": 84,
     "metadata": {},
     "output_type": "execute_result"
    }
   ],
   "source": [
    "\n",
    "truerange = np.maximum(h_N-l_N, h_N-preclose_N, preclose_N-l_N)\n",
    "truerange"
   ]
  },
  {
   "cell_type": "code",
   "execution_count": 85,
   "metadata": {},
   "outputs": [
    {
     "data": {
      "text/plain": [
       "1.1005"
      ]
     },
     "execution_count": 85,
     "metadata": {},
     "output_type": "execute_result"
    }
   ],
   "source": [
    "ATR = np.mean(truerange)\n",
    "ATR"
   ]
  },
  {
   "cell_type": "code",
   "execution_count": null,
   "metadata": {},
   "outputs": [],
   "source": []
  }
 ],
 "metadata": {
  "kernelspec": {
   "display_name": "Python 3",
   "language": "python",
   "name": "python3"
  },
  "language_info": {
   "codemirror_mode": {
    "name": "ipython",
    "version": 3
   },
   "file_extension": ".py",
   "mimetype": "text/x-python",
   "name": "python",
   "nbconvert_exporter": "python",
   "pygments_lexer": "ipython3",
   "version": "3.7.7"
  }
 },
 "nbformat": 4,
 "nbformat_minor": 4
}
