{
 "cells": [
  {
   "cell_type": "code",
   "execution_count": 24,
   "metadata": {},
   "outputs": [],
   "source": [
    "HEAD_PATH = \"/home/hunk/workspaces/demo/studyQuantitativeTrading/intern\"\n",
    "\n",
    "import warnings\n",
    " \n",
    "warnings.filterwarnings('ignore')\n",
    "\n",
    "DATA_PATH = HEAD_PATH + \"/stock pkl/\""
   ]
  },
  {
   "cell_type": "code",
   "execution_count": 25,
   "metadata": {},
   "outputs": [
    {
     "data": {
      "text/plain": [
       "'/home/hunk/workspaces/demo/studyQuantitativeTrading/intern/stock pkl'"
      ]
     },
     "execution_count": 25,
     "metadata": {},
     "output_type": "execute_result"
    }
   ],
   "source": [
    "import os\n",
    "os.chdir(DATA_PATH)\n",
    "os.getcwd()"
   ]
  },
  {
   "cell_type": "code",
   "execution_count": 26,
   "metadata": {},
   "outputs": [
    {
     "data": {
      "text/plain": [
       "4"
      ]
     },
     "execution_count": 26,
     "metadata": {},
     "output_type": "execute_result"
    }
   ],
   "source": [
    "def ncpus():\n",
    "    #for Linux, Unix and MacOS\n",
    "    if hasattr(os, \"sysconf\"):\n",
    "        if \"SC_NPROCESSORS_ONLN\" in os.sysconf_names:\n",
    "            #Linux and Unix\n",
    "            ncpus = os.sysconf(\"SC_NPROCESSORS_ONLN\")\n",
    "            if isinstance(ncpus, int) and ncpus > 0:\n",
    "                return ncpus\n",
    "        else:\n",
    "            #MacOS X\n",
    "            return int(os.popen2(\"sysctl -n hw.ncpu\")[1].read())\n",
    "    #for Windows\n",
    "    if \"NUMBER_OF_PROCESSORS\" in os.environ:\n",
    "        ncpus = int(os.environ[\"NUMBER_OF_PROCESSORS\"])\n",
    "        if ncpus > 0:\n",
    "            return ncpus\n",
    "    #return the default value\n",
    "    return 1\n",
    "CORE_NUM = ncpus()\n",
    "CORE_NUM"
   ]
  },
  {
   "cell_type": "code",
   "execution_count": 27,
   "metadata": {},
   "outputs": [],
   "source": [
    "product_list = [\"600276\",\"000538\",  \"600332\", \"600436\", \"600535\"]\n",
    "product = product_list[0]"
   ]
  },
  {
   "cell_type": "code",
   "execution_count": 28,
   "metadata": {},
   "outputs": [
    {
     "data": {
      "text/plain": [
       "'/home/hunk/workspaces/demo/studyQuantitativeTrading/intern/stock pkl/600276'"
      ]
     },
     "execution_count": 28,
     "metadata": {},
     "output_type": "execute_result"
    }
   ],
   "source": [
    "dire = DATA_PATH + product\n",
    "dire"
   ]
  },
  {
   "cell_type": "code",
   "execution_count": 29,
   "metadata": {},
   "outputs": [],
   "source": [
    "all_dates = list(map(lambda x: x,os.listdir(DATA_PATH + product)))\n",
    "all_dates\n",
    "\n",
    "\n",
    "import _pickle as cPickle\n",
    "import gzip\n",
    "\n",
    "def load(path):\n",
    "    with gzip.open(path, 'rb', compresslevel=1) as file_object:\n",
    "        raw_data = file_object.read()\n",
    "    return cPickle.loads(raw_data)\n"
   ]
  },
  {
   "cell_type": "code",
   "execution_count": 30,
   "metadata": {},
   "outputs": [],
   "source": [
    "product = product_list[0]\n",
    "data = load(DATA_PATH+\"/\"+product+\"/\"+\"2018.pkl\")"
   ]
  },
  {
   "cell_type": "code",
   "execution_count": 31,
   "metadata": {},
   "outputs": [],
   "source": [
    "## backtest method: signal value decides position\n",
    "from collections import OrderedDict\n",
    "def get_daily_pnl_fast(date, product=\"rb\", period=4096, threshold=0.001, buy_tranct=1.5e-4, sell_tranct=11.5e-4, noise=0):\n",
    "    with gzip.open(dire+\"/\"+date, 'rb', compresslevel=1) as file_object:\n",
    "        raw_data = file_object.read()\n",
    "    data = cPickle.loads(raw_data) ## original data\n",
    "    n_bar = len(data)  ## number of bars\n",
    "    unit = np.std(data[\"ret\"]) ## standard deviation of return\n",
    "    np.random.seed(10)\n",
    "    ##  we repeat the above code to get daily result\n",
    "    ret_long = (data[\"ret\"].rolling(period).sum()).dropna().reset_index(drop=True) ## future return, used as signal\n",
    "    ret_long = ret_long.append(pd.Series([0]*(len(data)-len(ret_long)))).reset_index(drop=True)\n",
    "    signal = pd.Series([0] * n_bar)\n",
    "    signal[(ret_long>threshold) & (np.array(data[\"next.ask\"])>0)] = 1 ## signal>thre, position =1\n",
    "    signal[(ret_long< -threshold) & (np.array(data[\"next.bid\"])>0)] = -1 ## signal< -thre, position = -1\n",
    "    position=signal\n",
    "    position[0]=0\n",
    "    position[n_bar-1] = 0 ## close position before the end of day\n",
    "    position[n_bar-2] = 0\n",
    "    change_pos = position - position.shift(1)\n",
    "    change_pos[0] = 0\n",
    "    change_base = np.zeros(n_bar)\n",
    "    change_buy = np.array(change_pos>0)\n",
    "    change_sell = np.array(change_pos<0)\n",
    "    change_base[change_buy] = data[\"next.ask\"][change_buy]*(1+buy_tranct) ## buy price, use next ask, tranct cost use notional*ratio\n",
    "    change_base[change_sell] = data[\"next.bid\"][change_sell]*(1-sell_tranct) ## sell price use next bid\n",
    "    raw_pnl = -(change_base*change_pos).cumsum()+position*data[\"price\"]\n",
    "    date = np.array([x[0:10] for x in data[\"date.time\"]])\n",
    "    next_date = np.append(date[1:],'1')\n",
    "    end_day = date!=next_date\n",
    "    final_pnl = -sum(change_base*change_pos) ## total pnl, there is a negative sign, because selling get money and buying pay money\n",
    "    turnover = sum(change_base*abs(change_pos))\n",
    "    num = sum((position!=0) & (change_pos!=0)) ## number of trades\n",
    "    hld_period = sum(position!=0)   ## holding period\n",
    "    daily_pnl = raw_pnl[end_day].reset_index(drop=True)\n",
    "    pnl = np.append(daily_pnl[0], np.diff(daily_pnl))\n",
    "    ## finally we combine the statistics into a data frame\n",
    "    #result = pd.DataFrame({\"final.pnl\": final_pnl, \"turnover\": turnover, \"num\": num, \"hld.period\": hld_period}, index=[0])\n",
    "    #result = {\"date\": date, \"final.pnl\": final_pnl, \"turnover\": turnover, \"num\": num, \"hld.period\": hld_period}\n",
    "    result = OrderedDict([(\"date\", date[end_day]), (\"pnl\", pnl),\n",
    "                          (\"final.pnl\", final_pnl), (\"turnover\", turnover), (\"num\", num), (\"hld.period\", hld_period)])\n",
    "    return result"
   ]
  },
  {
   "cell_type": "code",
   "execution_count": 40,
   "metadata": {},
   "outputs": [
    {
     "data": {
      "text/plain": [
       "OrderedDict([('date',\n",
       "              array(['2020-01-02', '2020-01-03', '2020-01-06', '2020-01-07',\n",
       "                     '2020-01-08', '2020-01-09', '2020-01-10', '2020-01-13',\n",
       "                     '2020-01-14', '2020-01-15', '2020-01-16', '2020-01-17',\n",
       "                     '2020-01-20', '2020-01-21', '2020-01-22', '2020-01-23',\n",
       "                     '2020-02-03', '2020-02-04', '2020-02-05', '2020-02-06',\n",
       "                     '2020-02-07', '2020-02-10', '2020-02-11', '2020-02-12',\n",
       "                     '2020-02-13', '2020-02-14', '2020-02-17', '2020-02-18',\n",
       "                     '2020-02-19', '2020-02-20', '2020-02-21', '2020-02-24',\n",
       "                     '2020-02-25', '2020-02-26', '2020-02-27', '2020-02-28',\n",
       "                     '2020-03-02', '2020-03-03', '2020-03-04', '2020-03-05',\n",
       "                     '2020-03-06', '2020-03-09', '2020-03-10', '2020-03-11',\n",
       "                     '2020-03-12', '2020-03-13', '2020-03-16', '2020-03-17',\n",
       "                     '2020-03-18', '2020-03-19', '2020-03-20', '2020-03-23',\n",
       "                     '2020-03-24', '2020-03-25', '2020-03-26', '2020-03-27',\n",
       "                     '2020-03-30', '2020-03-31', '2020-04-01', '2020-04-02',\n",
       "                     '2020-04-03', '2020-04-07', '2020-04-08', '2020-04-09',\n",
       "                     '2020-04-10', '2020-04-13', '2020-04-14', '2020-04-15',\n",
       "                     '2020-04-16', '2020-04-17', '2020-04-20', '2020-04-21',\n",
       "                     '2020-04-22', '2020-04-23', '2020-04-24', '2020-04-27',\n",
       "                     '2020-04-28', '2020-04-29', '2020-04-30', '2020-05-06',\n",
       "                     '2020-05-07', '2020-05-08', '2020-05-11', '2020-05-12',\n",
       "                     '2020-05-13', '2020-05-14', '2020-05-15', '2020-05-18',\n",
       "                     '2020-05-19', '2020-05-20', '2020-05-21', '2020-05-22',\n",
       "                     '2020-05-25', '2020-05-26', '2020-05-27', '2020-05-28',\n",
       "                     '2020-05-29', '2020-06-01', '2020-06-02', '2020-06-03',\n",
       "                     '2020-06-04', '2020-06-05', '2020-06-08', '2020-06-09',\n",
       "                     '2020-06-10', '2020-06-11', '2020-06-12', '2020-06-15',\n",
       "                     '2020-06-16', '2020-06-17', '2020-06-18', '2020-06-19',\n",
       "                     '2020-06-22', '2020-06-23', '2020-06-24', '2020-06-29',\n",
       "                     '2020-06-30', '2020-07-01', '2020-07-02', '2020-07-03',\n",
       "                     '2020-07-06', '2020-07-07', '2020-07-08', '2020-07-09',\n",
       "                     '2020-07-10', '2020-07-13', '2020-07-14', '2020-07-15',\n",
       "                     '2020-07-16', '2020-07-17', '2020-07-20', '2020-07-21',\n",
       "                     '2020-07-22', '2020-07-23', '2020-07-24', '2020-07-27',\n",
       "                     '2020-07-28', '2020-07-29', '2020-07-30', '2020-07-31',\n",
       "                     '2020-08-03', '2020-08-04', '2020-08-05', '2020-08-06',\n",
       "                     '2020-08-07', '2020-08-10', '2020-08-11', '2020-08-12',\n",
       "                     '2020-08-13', '2020-08-14', '2020-08-17', '2020-08-18',\n",
       "                     '2020-08-19', '2020-08-20', '2020-08-21', '2020-08-24',\n",
       "                     '2020-08-25', '2020-08-26', '2020-08-27', '2020-08-28',\n",
       "                     '2020-08-31', '2020-09-01', '2020-09-02', '2020-09-03',\n",
       "                     '2020-09-04', '2020-09-07', '2020-09-08', '2020-09-09',\n",
       "                     '2020-09-10', '2020-09-11', '2020-09-14', '2020-09-15',\n",
       "                     '2020-09-16', '2020-09-17', '2020-09-18', '2020-09-21',\n",
       "                     '2020-09-22', '2020-09-23', '2020-09-24', '2020-09-25',\n",
       "                     '2020-09-28', '2020-09-29', '2020-09-30'], dtype='<U10')),\n",
       "             ('pnl',\n",
       "              array([-6.61823650e+00,  1.73000000e+00,  1.10503800e+00, -4.57065450e+00,\n",
       "                      1.36961000e-01,  2.20000000e+00, -6.50402800e+00, -7.57861350e+00,\n",
       "                     -2.70609450e+00,  2.84161500e-01, -2.49192400e+00, -4.31404350e+00,\n",
       "                     -5.65683100e+00, -4.28838400e+00, -8.81372300e+00,  2.34000000e+00,\n",
       "                      1.75742300e+00, -3.35760850e+00,  3.46117950e+00, -1.60413350e+00,\n",
       "                     -7.99689700e+00,  4.53361500e-01,  8.07644500e-01, -5.36832250e+00,\n",
       "                     -1.69436590e+01, -1.51185085e+01, -5.43677450e+00,  1.29994450e+00,\n",
       "                     -4.78372600e+00, -5.63869550e+00, -2.30058550e+00, -6.58546500e-01,\n",
       "                      2.60447500e+00, -4.45770950e+00, -5.09135500e-01,  1.80532600e+00,\n",
       "                      1.11000000e+00,  2.75107900e+00, -4.58003000e-01,  3.90000000e+00,\n",
       "                     -1.32755000e-02,  1.03801600e+00, -2.38843300e+00,  1.57000000e+00,\n",
       "                      2.41852200e+00,  4.53168350e+00,  2.48287100e+00,  9.17449000e-01,\n",
       "                      4.90000000e-01, -4.01652200e+00, -9.72165500e-01,  2.14000000e+00,\n",
       "                      3.27872450e+00,  3.31000000e+00, -4.14657200e+00, -4.53599800e+00,\n",
       "                     -5.04794650e+00, -2.21290000e+00, -5.18263800e+00,  1.85000000e+00,\n",
       "                     -2.10225350e+00, -1.00970035e+01, -1.05026280e+01,  2.48943350e+00,\n",
       "                     -1.03276990e+01, -6.58135550e+00, -3.20598300e+00, -1.21016220e+01,\n",
       "                     -1.43468705e+01, -8.06914350e+00, -1.85013800e+00, -1.92072650e+00,\n",
       "                     -2.19342200e+00,  1.21287150e+00, -1.40534800e+00, -5.43719350e+00,\n",
       "                     -6.15960250e+00, -8.77000050e+00, -3.71031600e+00,  3.42000000e+00,\n",
       "                     -1.94168900e+00, -2.50033250e+00, -2.17914750e+00, -8.36238150e+00,\n",
       "                     -4.83883300e+00, -2.54028600e+00,  1.52825000e-02, -3.82989000e+00,\n",
       "                     -4.53098350e+00, -5.31532350e+00, -2.71942350e+00,  3.86000000e+00,\n",
       "                      1.37998730e+01, -5.26426500e-01, -7.54702000e-01, -3.65207450e+00,\n",
       "                     -2.43360700e+00, -3.84053000e+00, -5.27423350e+00, -8.57602350e+00,\n",
       "                     -7.81541000e-01, -2.10176850e+00, -3.56869500e-01,  2.67000000e+00,\n",
       "                     -8.39290700e+00, -1.32353565e+01, -1.10068000e+00, -3.08361250e+00,\n",
       "                      2.90000000e+00, -8.49831500e+00, -1.38207450e+00, -2.02384100e+00,\n",
       "                     -2.82531850e+00, -1.65626700e+00, -1.57075350e+00, -2.08937900e+00,\n",
       "                     -1.13135200e+00, -3.50803750e+00, -6.95572550e+00, -2.83983750e+00,\n",
       "                      1.25000000e+00,  2.10472250e+00, -3.85187400e+00,  8.97469000e-01,\n",
       "                     -7.67954700e+00, -9.95508000e-01,  2.36132000e-01,  7.61660500e-01,\n",
       "                      5.78391300e+00, -7.47978300e+00, -3.48096000e-01, -3.84092750e+00,\n",
       "                     -9.13092350e+00, -1.08125200e+00, -7.09198400e+00, -6.33611200e+00,\n",
       "                     -4.07253550e+00, -1.02544260e+01, -6.50365000e-02, -8.26680500e+00,\n",
       "                      2.98653000e-01,  6.48910500e-01, -1.61479000e-01, -1.06500100e+00,\n",
       "                     -1.32058630e+01, -3.88918800e+00,  5.11550500e-01, -1.00957010e+01,\n",
       "                     -3.15302000e-01, -5.95563500e-01,  4.44352800e+00, -3.13159900e+00,\n",
       "                      6.79336000e-01, -1.27193425e+01, -5.23435800e+00, -1.86752600e+00,\n",
       "                     -2.63415500e-01,  9.12665000e-02, -2.46085800e+00,  1.28000000e+00,\n",
       "                      6.61211500e-01, -2.52659000e+00,  4.57882000e-01, -2.18146250e+00,\n",
       "                     -5.70424550e+00, -6.85649150e+00,  3.09655400e+00, -7.24167300e+00,\n",
       "                     -3.81302950e+00, -1.53355350e+00, -8.51830000e-02, -3.50793800e+00,\n",
       "                      1.36000000e+00,  3.91105500e-01,  2.03534250e+00, -3.76359650e+00,\n",
       "                     -6.15549500e+00, -3.60642800e+00, -1.26743955e+01, -1.77673300e+00,\n",
       "                     -4.47263250e+00, -4.11289000e-01, -1.28782550e+00])),\n",
       "             ('final.pnl', -476.79012750003955),\n",
       "             ('turnover', 1026877.8299534998),\n",
       "             ('num', 5623),\n",
       "             ('hld.period', 835540)])"
      ]
     },
     "execution_count": 40,
     "metadata": {},
     "output_type": "execute_result"
    }
   ],
   "source": [
    "import dask\n",
    "from dask import compute, delayed\n",
    "import pandas as pd\n",
    "import numpy as np\n",
    "import math\n",
    "result = get_daily_pnl_fast(all_dates[0], product=product_list[0], period=4096, threshold=0.001)\n",
    "\n",
    "result\n",
    "#OrderedDict([('date', '2016.pkl'),\n",
    "#             ('final.pnl', -438.0912635000209),\n",
    "#             ('turnover', 496273.30427149584),\n",
    "#             ('num', 5509),\n",
    "#             ('hld.period', 607461)])"
   ]
  },
  {
   "cell_type": "code",
   "execution_count": 37,
   "metadata": {},
   "outputs": [
    {
     "name": "stdout",
     "output_type": "stream",
     "text": [
      "CPU times: user 19.6 ms, sys: 38.6 ms, total: 58.2 ms\n",
      "Wall time: 6.66 s\n"
     ]
    }
   ],
   "source": [
    "%%time\n",
    "import functools\n",
    "with dask.config.set(scheduler='processes', num_workers=CORE_NUM):\n",
    "    f_par = functools.partial(get_daily_pnl_fast, product=product_list[0], period=4096, threshold=0.001, noise=0)\n",
    "    result = compute([delayed(f_par)(date) for date in all_dates])[0]\n",
    "    \n",
    "# Wall time: 7.21 s"
   ]
  },
  {
   "cell_type": "code",
   "execution_count": 38,
   "metadata": {},
   "outputs": [],
   "source": [
    "from collections import OrderedDict\n",
    "def get_performance(result, spread=1):\n",
    "    date = []\n",
    "    pnl = []\n",
    "    num = 0\n",
    "    hld = 0\n",
    "    for i in range(len(result)):\n",
    "        date = np.append(date, result[i][\"date\"])\n",
    "        pnl = np.append(pnl, result[i][\"pnl\"])\n",
    "        num += result[i][\"num\"]\n",
    "        hld += result[i][\"hld.period\"]\n",
    "    date_format = [pd.to_datetime(d) for d in date]\n",
    "    plt.figure(1, figsize=(16, 10))\n",
    "    plt.title(\"\")\n",
    "    plt.xlabel(\"date\")\n",
    "    plt.ylabel(\"pnl\")\n",
    "    plt.plot(date_format, pnl.cumsum())\n",
    "    n_days = len(date)\n",
    "    if num==0:\n",
    "        return;\n",
    "    if (pnl.std()==0):\n",
    "        sharpe = 0\n",
    "    else:\n",
    "        sharpe = pnl.mean()/pnl.std()*math.sqrt(250)\n",
    "    pnl_pd = pd.Series(pnl.cumsum())\n",
    "    drawdown = max(pnl_pd.cummax()-pnl_pd)/pnl_pd.iloc[-1]\n",
    "    mar = 1/drawdown\n",
    "    win_ratio = sum(pnl>0)/n_days\n",
    "   \n",
    "    avg_pnl = sum(pnl)/num\n",
    "    hld_period = hld/num\n",
    "    return OrderedDict([(\"sharpe\", sharpe), (\"drawdown\", drawdown), (\"mar\", mar), (\"win.ratio\", win_ratio)\n",
    "                        , (\"num\", num/n_days), (\"avg.pnl\", avg_pnl), (\"hld.period\", hld_period)])"
   ]
  },
  {
   "cell_type": "code",
   "execution_count": 39,
   "metadata": {},
   "outputs": [
    {
     "data": {
      "text/html": [
       "<div>\n",
       "<style scoped>\n",
       "    .dataframe tbody tr th:only-of-type {\n",
       "        vertical-align: middle;\n",
       "    }\n",
       "\n",
       "    .dataframe tbody tr th {\n",
       "        vertical-align: top;\n",
       "    }\n",
       "\n",
       "    .dataframe thead th {\n",
       "        text-align: right;\n",
       "    }\n",
       "</style>\n",
       "<table border=\"1\" class=\"dataframe\">\n",
       "  <thead>\n",
       "    <tr style=\"text-align: right;\">\n",
       "      <th></th>\n",
       "      <th>sharpe</th>\n",
       "      <th>drawdown</th>\n",
       "      <th>mar</th>\n",
       "      <th>win.ratio</th>\n",
       "      <th>num</th>\n",
       "      <th>avg.pnl</th>\n",
       "      <th>hld.period</th>\n",
       "    </tr>\n",
       "  </thead>\n",
       "  <tbody>\n",
       "    <tr>\n",
       "      <th>0</th>\n",
       "      <td>-9.063225</td>\n",
       "      <td>-0.999549</td>\n",
       "      <td>-1.000451</td>\n",
       "      <td>0.282855</td>\n",
       "      <td>25.127067</td>\n",
       "      <td>-0.074453</td>\n",
       "      <td>148.257075</td>\n",
       "    </tr>\n",
       "  </tbody>\n",
       "</table>\n",
       "</div>"
      ],
      "text/plain": [
       "     sharpe  drawdown       mar  win.ratio        num   avg.pnl  hld.period\n",
       "0 -9.063225 -0.999549 -1.000451   0.282855  25.127067 -0.074453  148.257075"
      ]
     },
     "execution_count": 39,
     "metadata": {},
     "output_type": "execute_result"
    },
    {
     "data": {
      "image/png": "[encoded data removed]",
      "text/plain": [
       "<Figure size 1152x720 with 1 Axes>"
      ]
     },
     "metadata": {
      "needs_background": "light"
     },
     "output_type": "display_data"
    }
   ],
   "source": [
    "pd.DataFrame(get_performance(result, 1), index=[0])\n",
    "\n",
    "# sharpe \tdrawdown \tmar \twin.ratio \tnum \tavg.pnl \thld.period\n",
    "# 0 \t-2.325627 \t-1.07531 \t-0.929965 \t0.105699 \t84.378676 \t-1.891106 \t295.119951\n",
    "\n",
    "\n"
   ]
  },
  {
   "cell_type": "code",
   "execution_count": null,
   "metadata": {},
   "outputs": [],
   "source": []
  }
 ],
 "metadata": {
  "kernelspec": {
   "display_name": "Python 3",
   "language": "python",
   "name": "python3"
  },
  "language_info": {
   "codemirror_mode": {
    "name": "ipython",
    "version": 3
   },
   "file_extension": ".py",
   "mimetype": "text/x-python",
   "name": "python",
   "nbconvert_exporter": "python",
   "pygments_lexer": "ipython3",
   "version": "3.7.7"
  }
 },
 "nbformat": 4,
 "nbformat_minor": 4
}
